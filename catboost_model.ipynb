{
  "cells": [
    {
      "cell_type": "code",
      "execution_count": null,
      "id": "b828482d",
      "metadata": {
        "id": "b828482d"
      },
      "outputs": [],
      "source": [
        "import struct\n",
        "import math\n",
        "import pandas as pd\n",
        "\n",
        "\n",
        "def read_binary(file_path):\n",
        "    # Инициализация списков для основных полей\n",
        "    power = []\n",
        "    age = []\n",
        "    coordinate_x = []\n",
        "    coordinate_y = []\n",
        "    angle_tetta = []\n",
        "    angle_phi = []\n",
        "    energy = []\n",
        "    time = []\n",
        "\n",
        "    # Дополнительные важные параметры\n",
        "    primary_particle = []  # PART0 (14 - p, 5626 - Fe)\n",
        "    primary_energy = []    # E0 в ГэВ\n",
        "    n_muons = []          # NMU (число мюонов в ШАЛ)\n",
        "    n_hadrons = []        # NHADR (число адронов в ШАЛ)\n",
        "    first_interaction_height = []  # H1INT (высота 1 взаимодействия в см)\n",
        "\n",
        "    with open(file_path, 'rb') as binary_file:\n",
        "        while True:\n",
        "            try:\n",
        "                # Пропускаем первые 3 поля (N_event, NRUN, NEVENT)\n",
        "                binary_file.read(4 * 3)\n",
        "\n",
        "                # Читаем тип первичной частицы (14 - p, 5626 - Fe)\n",
        "                part0 = struct.unpack('f', binary_file.read(4))[0]\n",
        "                primary_particle.append(part0)\n",
        "\n",
        "                # Читаем энергию первичной частицы (ГэВ)\n",
        "                e0 = struct.unpack('f', binary_file.read(4))[0]\n",
        "                primary_energy.append(e0)\n",
        "\n",
        "                # Чтение зенитного угла\n",
        "                tetta = struct.unpack('f', binary_file.read(4))[0]\n",
        "                angle_tetta.append(tetta)\n",
        "\n",
        "                # Чтение азимутального угла\n",
        "                phi = struct.unpack('f', binary_file.read(4))[0]\n",
        "                angle_phi.append(phi)\n",
        "\n",
        "                # Чтение координат оси ШАЛ\n",
        "                x0 = struct.unpack('f', binary_file.read(4))[0]\n",
        "                coordinate_x.append(x0)\n",
        "\n",
        "                y0 = struct.unpack('f', binary_file.read(4))[0]\n",
        "                coordinate_y.append(y0)\n",
        "\n",
        "                # Чтение высоты первого взаимодействия\n",
        "                h1int = struct.unpack('f', binary_file.read(4))[0]\n",
        "                first_interaction_height.append(h1int)\n",
        "\n",
        "                # Пропускаем NGAM, NEL\n",
        "                binary_file.read(4 * 2)\n",
        "\n",
        "                # Чтение числа адронов\n",
        "                nhadr = struct.unpack('f', binary_file.read(4))[0]\n",
        "                n_hadrons.append(nhadr)\n",
        "\n",
        "                # Чтение числа мюонов\n",
        "                nmu = struct.unpack('f', binary_file.read(4))[0]\n",
        "                n_muons.append(nmu)\n",
        "\n",
        "                # Чтение параметров ШАЛ\n",
        "                power_eas = struct.unpack('f', binary_file.read(4))[0]\n",
        "                power.append(math.log10(power_eas))\n",
        "\n",
        "                age_eas = struct.unpack('f', binary_file.read(4))[0]\n",
        "                age.append(age_eas)\n",
        "\n",
        "                # Пропускаем NVD_edep, NVD_npe, MuBundle, MuTrackLenNVD, nMuNVD, eMuNVD, eMuNVD1\n",
        "                binary_file.read(4 * 7)\n",
        "\n",
        "                # Пропускаем новые поля 2021 (23-34) и AmplKSM[7][4][4][6] (672 значения)\n",
        "                binary_file.read(4 * (12 + 672))\n",
        "\n",
        "                # Пропускаем новые поля 2021 (707-771)\n",
        "                binary_file.read(4 * 64)\n",
        "\n",
        "                # Пропускаем EdepCntSCT[9][5][2] (90 значений)\n",
        "                binary_file.read(4 * 90)\n",
        "\n",
        "                # Чтение EdepDetNE[9][4][4] (144 значения) - используем для energy\n",
        "                edep_det_ne = struct.unpack('f'*144, binary_file.read(4*144))\n",
        "                energy.append(edep_det_ne)\n",
        "\n",
        "                # Чтение TimDetNE[9][4][4][4] (576 значений) - берем пороговые времена\n",
        "                tim_det_ne = struct.unpack('f'*576, binary_file.read(4*576))\n",
        "                threshold_time = tim_det_ne[::4]  # Берем каждое 4-е значение (max время)\n",
        "                time.append(threshold_time)\n",
        "\n",
        "                # Пропускаем EdepStNE[9][4] (36 значений) и TimStNE[9][4][4] (144 значения)\n",
        "                binary_file.read(4 * (36 + 144))\n",
        "\n",
        "                # Чтение маркера (1762)\n",
        "                binary_file.read(4)\n",
        "            except struct.error:\n",
        "                # Достигнут конец файла\n",
        "                break\n",
        "\n",
        "    # Создание DataFrame\n",
        "    df = pd.DataFrame({\n",
        "        'power': power,\n",
        "        'age': age,\n",
        "        'x': coordinate_x,\n",
        "        'y': coordinate_y,\n",
        "        'tetta': angle_tetta,\n",
        "        'phi': angle_phi,\n",
        "        'energy': energy,\n",
        "        'threshold_time': time,\n",
        "        'primary_particle': primary_particle,\n",
        "        'primary_energy': primary_energy,\n",
        "        'n_muons': n_muons,\n",
        "        'n_hadrons': n_hadrons,\n",
        "        'first_interaction_height': first_interaction_height\n",
        "    })\n",
        "\n",
        "    return df"
      ]
    },
    {
      "cell_type": "code",
      "source": [
        "path = 'drive/MyDrive/Nuclear/spe27p_100k_2022_correct.dat'"
      ],
      "metadata": {
        "id": "0ixRgUs7WBgF"
      },
      "id": "0ixRgUs7WBgF",
      "execution_count": null,
      "outputs": []
    },
    {
      "cell_type": "code",
      "source": [
        "from google.colab import drive\n",
        "drive.mount('/content/drive')"
      ],
      "metadata": {
        "id": "7voKlzhvWHFQ",
        "outputId": "c4040ddb-5c04-4ee6-b97b-56d137cc151e",
        "colab": {
          "base_uri": "https://localhost:8080/"
        }
      },
      "id": "7voKlzhvWHFQ",
      "execution_count": null,
      "outputs": [
        {
          "output_type": "stream",
          "name": "stdout",
          "text": [
            "Drive already mounted at /content/drive; to attempt to forcibly remount, call drive.mount(\"/content/drive\", force_remount=True).\n"
          ]
        }
      ]
    },
    {
      "cell_type": "code",
      "source": [
        "data = read_binary(path)"
      ],
      "metadata": {
        "id": "8XRoQu07WZ5P"
      },
      "id": "8XRoQu07WZ5P",
      "execution_count": null,
      "outputs": []
    },
    {
      "cell_type": "code",
      "source": [
        "data"
      ],
      "metadata": {
        "id": "4_tBuBVwWdzo",
        "outputId": "126cc032-365a-4bbb-d768-8a7c6c761c8a",
        "colab": {
          "base_uri": "https://localhost:8080/",
          "height": 881
        }
      },
      "id": "4_tBuBVwWdzo",
      "execution_count": null,
      "outputs": [
        {
          "output_type": "execute_result",
          "data": {
            "text/plain": [
              "          power       age          x          y      tetta         phi  \\\n",
              "0      4.166507  1.444716  13.572407  37.022316  37.367474   47.313324   \n",
              "1      4.933104  1.430547  40.330677 -61.980999  28.912228  236.400421   \n",
              "2      4.133581  1.459046  -1.046695 -63.925430  37.267426  182.086060   \n",
              "3      5.190620  1.326983  40.293152 -21.836197   3.205503  201.268890   \n",
              "4      5.021614  1.336776  15.542248  10.037846   6.299241  108.097626   \n",
              "...         ...       ...        ...        ...        ...         ...   \n",
              "99995  4.503942  1.295468  36.338993  32.139332  44.537529   31.058533   \n",
              "99996  5.301322  1.302831 -29.983866 -38.277843  16.121550  158.978851   \n",
              "99997  3.617597  1.473757  18.329506 -13.626085  46.820038   13.862854   \n",
              "99998  4.017301  1.510002 -36.200687 -53.555149  33.087467  157.593292   \n",
              "99999  4.664272  1.328420 -13.367496  33.156792  28.373224  148.690613   \n",
              "\n",
              "                                                  energy  \\\n",
              "0      (0.0, 0.0, 0.10191129148006439, 0.0, 10.222193...   \n",
              "1      (0.0, 6.218760013580322, 0.0, 4.34439992904663...   \n",
              "2      (0.0, 0.0, 0.0, 0.0, 0.34477588534355164, 0.0,...   \n",
              "3      (10.767822265625, 8.262124061584473, 2.4767401...   \n",
              "4      (10.822569847106934, 22.756126403808594, 28.51...   \n",
              "...                                                  ...   \n",
              "99995  (0.015013078227639198, 0.0, 0.4512841403484344...   \n",
              "99996  (22.493345260620117, 21.379228591918945, 42.03...   \n",
              "99997  (0.0, 0.0, 0.0, 0.0, 0.06985451281070709, 0.16...   \n",
              "99998  (0.0, 0.0, 0.0, 0.0, 0.0, 0.0, 0.0, 0.0, 0.0, ...   \n",
              "99999  (32.983951568603516, 3.013735771179199, 0.0694...   \n",
              "\n",
              "                                          threshold_time  primary_particle  \\\n",
              "0      (0.0, 0.0, 91820.75, 0.0, 91830.7734375, 91847...              14.0   \n",
              "1      (0.0, 61243.91796875, 0.0, 61296.953125, 0.0, ...              14.0   \n",
              "2      (0.0, 0.0, 0.0, 0.0, 78687.359375, 0.0, 0.0, 0...              14.0   \n",
              "3      (52158.63671875, 52172.0703125, 52175.68359375...              14.0   \n",
              "4      (88056.4765625, 88057.125, 88068.453125, 88101...              14.0   \n",
              "...                                                  ...               ...   \n",
              "99995  (96602.171875, 0.0, 96608.375, 96601.6875, 0.0...              14.0   \n",
              "99996  (74215.28125, 74196.3203125, 74214.0, 74217.07...              14.0   \n",
              "99997  (0.0, 0.0, 0.0, 0.0, 111050.9375, 111021.875, ...              14.0   \n",
              "99998  (0.0, 0.0, 0.0, 0.0, 0.0, 0.0, 0.0, 0.0, 0.0, ...              14.0   \n",
              "99999  (138519.5, 138482.875, 138481.078125, 138482.5...              14.0   \n",
              "\n",
              "       primary_energy  n_muons  n_hadrons  first_interaction_height  \n",
              "0        1.024144e+06  10006.0      815.0               2200590.750  \n",
              "1        1.670369e+06  14978.0     1854.0               1621342.125  \n",
              "2        1.141731e+06  10802.0      725.0               1894253.375  \n",
              "3        1.102080e+06  16449.0     3024.0               1576046.875  \n",
              "4        1.272720e+06  10435.0     1372.0               2638823.500  \n",
              "...               ...      ...        ...                       ...  \n",
              "99995    1.014815e+06   9927.0     1028.0               2076419.375  \n",
              "99996    2.281790e+06  24806.0     3705.0               2151935.500  \n",
              "99997    1.331032e+06   4704.0      216.0               2290491.000  \n",
              "99998    1.509401e+06   6118.0      275.0               4194023.750  \n",
              "99999    2.711648e+06  17262.0     1265.0               3668030.000  \n",
              "\n",
              "[100000 rows x 13 columns]"
            ],
            "text/html": [
              "\n",
              "  <div id=\"df-6abd6078-71dd-40e2-858b-42d9db200f84\" class=\"colab-df-container\">\n",
              "    <div>\n",
              "<style scoped>\n",
              "    .dataframe tbody tr th:only-of-type {\n",
              "        vertical-align: middle;\n",
              "    }\n",
              "\n",
              "    .dataframe tbody tr th {\n",
              "        vertical-align: top;\n",
              "    }\n",
              "\n",
              "    .dataframe thead th {\n",
              "        text-align: right;\n",
              "    }\n",
              "</style>\n",
              "<table border=\"1\" class=\"dataframe\">\n",
              "  <thead>\n",
              "    <tr style=\"text-align: right;\">\n",
              "      <th></th>\n",
              "      <th>power</th>\n",
              "      <th>age</th>\n",
              "      <th>x</th>\n",
              "      <th>y</th>\n",
              "      <th>tetta</th>\n",
              "      <th>phi</th>\n",
              "      <th>energy</th>\n",
              "      <th>threshold_time</th>\n",
              "      <th>primary_particle</th>\n",
              "      <th>primary_energy</th>\n",
              "      <th>n_muons</th>\n",
              "      <th>n_hadrons</th>\n",
              "      <th>first_interaction_height</th>\n",
              "    </tr>\n",
              "  </thead>\n",
              "  <tbody>\n",
              "    <tr>\n",
              "      <th>0</th>\n",
              "      <td>4.166507</td>\n",
              "      <td>1.444716</td>\n",
              "      <td>13.572407</td>\n",
              "      <td>37.022316</td>\n",
              "      <td>37.367474</td>\n",
              "      <td>47.313324</td>\n",
              "      <td>(0.0, 0.0, 0.10191129148006439, 0.0, 10.222193...</td>\n",
              "      <td>(0.0, 0.0, 91820.75, 0.0, 91830.7734375, 91847...</td>\n",
              "      <td>14.0</td>\n",
              "      <td>1.024144e+06</td>\n",
              "      <td>10006.0</td>\n",
              "      <td>815.0</td>\n",
              "      <td>2200590.750</td>\n",
              "    </tr>\n",
              "    <tr>\n",
              "      <th>1</th>\n",
              "      <td>4.933104</td>\n",
              "      <td>1.430547</td>\n",
              "      <td>40.330677</td>\n",
              "      <td>-61.980999</td>\n",
              "      <td>28.912228</td>\n",
              "      <td>236.400421</td>\n",
              "      <td>(0.0, 6.218760013580322, 0.0, 4.34439992904663...</td>\n",
              "      <td>(0.0, 61243.91796875, 0.0, 61296.953125, 0.0, ...</td>\n",
              "      <td>14.0</td>\n",
              "      <td>1.670369e+06</td>\n",
              "      <td>14978.0</td>\n",
              "      <td>1854.0</td>\n",
              "      <td>1621342.125</td>\n",
              "    </tr>\n",
              "    <tr>\n",
              "      <th>2</th>\n",
              "      <td>4.133581</td>\n",
              "      <td>1.459046</td>\n",
              "      <td>-1.046695</td>\n",
              "      <td>-63.925430</td>\n",
              "      <td>37.267426</td>\n",
              "      <td>182.086060</td>\n",
              "      <td>(0.0, 0.0, 0.0, 0.0, 0.34477588534355164, 0.0,...</td>\n",
              "      <td>(0.0, 0.0, 0.0, 0.0, 78687.359375, 0.0, 0.0, 0...</td>\n",
              "      <td>14.0</td>\n",
              "      <td>1.141731e+06</td>\n",
              "      <td>10802.0</td>\n",
              "      <td>725.0</td>\n",
              "      <td>1894253.375</td>\n",
              "    </tr>\n",
              "    <tr>\n",
              "      <th>3</th>\n",
              "      <td>5.190620</td>\n",
              "      <td>1.326983</td>\n",
              "      <td>40.293152</td>\n",
              "      <td>-21.836197</td>\n",
              "      <td>3.205503</td>\n",
              "      <td>201.268890</td>\n",
              "      <td>(10.767822265625, 8.262124061584473, 2.4767401...</td>\n",
              "      <td>(52158.63671875, 52172.0703125, 52175.68359375...</td>\n",
              "      <td>14.0</td>\n",
              "      <td>1.102080e+06</td>\n",
              "      <td>16449.0</td>\n",
              "      <td>3024.0</td>\n",
              "      <td>1576046.875</td>\n",
              "    </tr>\n",
              "    <tr>\n",
              "      <th>4</th>\n",
              "      <td>5.021614</td>\n",
              "      <td>1.336776</td>\n",
              "      <td>15.542248</td>\n",
              "      <td>10.037846</td>\n",
              "      <td>6.299241</td>\n",
              "      <td>108.097626</td>\n",
              "      <td>(10.822569847106934, 22.756126403808594, 28.51...</td>\n",
              "      <td>(88056.4765625, 88057.125, 88068.453125, 88101...</td>\n",
              "      <td>14.0</td>\n",
              "      <td>1.272720e+06</td>\n",
              "      <td>10435.0</td>\n",
              "      <td>1372.0</td>\n",
              "      <td>2638823.500</td>\n",
              "    </tr>\n",
              "    <tr>\n",
              "      <th>...</th>\n",
              "      <td>...</td>\n",
              "      <td>...</td>\n",
              "      <td>...</td>\n",
              "      <td>...</td>\n",
              "      <td>...</td>\n",
              "      <td>...</td>\n",
              "      <td>...</td>\n",
              "      <td>...</td>\n",
              "      <td>...</td>\n",
              "      <td>...</td>\n",
              "      <td>...</td>\n",
              "      <td>...</td>\n",
              "      <td>...</td>\n",
              "    </tr>\n",
              "    <tr>\n",
              "      <th>99995</th>\n",
              "      <td>4.503942</td>\n",
              "      <td>1.295468</td>\n",
              "      <td>36.338993</td>\n",
              "      <td>32.139332</td>\n",
              "      <td>44.537529</td>\n",
              "      <td>31.058533</td>\n",
              "      <td>(0.015013078227639198, 0.0, 0.4512841403484344...</td>\n",
              "      <td>(96602.171875, 0.0, 96608.375, 96601.6875, 0.0...</td>\n",
              "      <td>14.0</td>\n",
              "      <td>1.014815e+06</td>\n",
              "      <td>9927.0</td>\n",
              "      <td>1028.0</td>\n",
              "      <td>2076419.375</td>\n",
              "    </tr>\n",
              "    <tr>\n",
              "      <th>99996</th>\n",
              "      <td>5.301322</td>\n",
              "      <td>1.302831</td>\n",
              "      <td>-29.983866</td>\n",
              "      <td>-38.277843</td>\n",
              "      <td>16.121550</td>\n",
              "      <td>158.978851</td>\n",
              "      <td>(22.493345260620117, 21.379228591918945, 42.03...</td>\n",
              "      <td>(74215.28125, 74196.3203125, 74214.0, 74217.07...</td>\n",
              "      <td>14.0</td>\n",
              "      <td>2.281790e+06</td>\n",
              "      <td>24806.0</td>\n",
              "      <td>3705.0</td>\n",
              "      <td>2151935.500</td>\n",
              "    </tr>\n",
              "    <tr>\n",
              "      <th>99997</th>\n",
              "      <td>3.617597</td>\n",
              "      <td>1.473757</td>\n",
              "      <td>18.329506</td>\n",
              "      <td>-13.626085</td>\n",
              "      <td>46.820038</td>\n",
              "      <td>13.862854</td>\n",
              "      <td>(0.0, 0.0, 0.0, 0.0, 0.06985451281070709, 0.16...</td>\n",
              "      <td>(0.0, 0.0, 0.0, 0.0, 111050.9375, 111021.875, ...</td>\n",
              "      <td>14.0</td>\n",
              "      <td>1.331032e+06</td>\n",
              "      <td>4704.0</td>\n",
              "      <td>216.0</td>\n",
              "      <td>2290491.000</td>\n",
              "    </tr>\n",
              "    <tr>\n",
              "      <th>99998</th>\n",
              "      <td>4.017301</td>\n",
              "      <td>1.510002</td>\n",
              "      <td>-36.200687</td>\n",
              "      <td>-53.555149</td>\n",
              "      <td>33.087467</td>\n",
              "      <td>157.593292</td>\n",
              "      <td>(0.0, 0.0, 0.0, 0.0, 0.0, 0.0, 0.0, 0.0, 0.0, ...</td>\n",
              "      <td>(0.0, 0.0, 0.0, 0.0, 0.0, 0.0, 0.0, 0.0, 0.0, ...</td>\n",
              "      <td>14.0</td>\n",
              "      <td>1.509401e+06</td>\n",
              "      <td>6118.0</td>\n",
              "      <td>275.0</td>\n",
              "      <td>4194023.750</td>\n",
              "    </tr>\n",
              "    <tr>\n",
              "      <th>99999</th>\n",
              "      <td>4.664272</td>\n",
              "      <td>1.328420</td>\n",
              "      <td>-13.367496</td>\n",
              "      <td>33.156792</td>\n",
              "      <td>28.373224</td>\n",
              "      <td>148.690613</td>\n",
              "      <td>(32.983951568603516, 3.013735771179199, 0.0694...</td>\n",
              "      <td>(138519.5, 138482.875, 138481.078125, 138482.5...</td>\n",
              "      <td>14.0</td>\n",
              "      <td>2.711648e+06</td>\n",
              "      <td>17262.0</td>\n",
              "      <td>1265.0</td>\n",
              "      <td>3668030.000</td>\n",
              "    </tr>\n",
              "  </tbody>\n",
              "</table>\n",
              "<p>100000 rows × 13 columns</p>\n",
              "</div>\n",
              "    <div class=\"colab-df-buttons\">\n",
              "\n",
              "  <div class=\"colab-df-container\">\n",
              "    <button class=\"colab-df-convert\" onclick=\"convertToInteractive('df-6abd6078-71dd-40e2-858b-42d9db200f84')\"\n",
              "            title=\"Convert this dataframe to an interactive table.\"\n",
              "            style=\"display:none;\">\n",
              "\n",
              "  <svg xmlns=\"http://www.w3.org/2000/svg\" height=\"24px\" viewBox=\"0 -960 960 960\">\n",
              "    <path d=\"M120-120v-720h720v720H120Zm60-500h600v-160H180v160Zm220 220h160v-160H400v160Zm0 220h160v-160H400v160ZM180-400h160v-160H180v160Zm440 0h160v-160H620v160ZM180-180h160v-160H180v160Zm440 0h160v-160H620v160Z\"/>\n",
              "  </svg>\n",
              "    </button>\n",
              "\n",
              "  <style>\n",
              "    .colab-df-container {\n",
              "      display:flex;\n",
              "      gap: 12px;\n",
              "    }\n",
              "\n",
              "    .colab-df-convert {\n",
              "      background-color: #E8F0FE;\n",
              "      border: none;\n",
              "      border-radius: 50%;\n",
              "      cursor: pointer;\n",
              "      display: none;\n",
              "      fill: #1967D2;\n",
              "      height: 32px;\n",
              "      padding: 0 0 0 0;\n",
              "      width: 32px;\n",
              "    }\n",
              "\n",
              "    .colab-df-convert:hover {\n",
              "      background-color: #E2EBFA;\n",
              "      box-shadow: 0px 1px 2px rgba(60, 64, 67, 0.3), 0px 1px 3px 1px rgba(60, 64, 67, 0.15);\n",
              "      fill: #174EA6;\n",
              "    }\n",
              "\n",
              "    .colab-df-buttons div {\n",
              "      margin-bottom: 4px;\n",
              "    }\n",
              "\n",
              "    [theme=dark] .colab-df-convert {\n",
              "      background-color: #3B4455;\n",
              "      fill: #D2E3FC;\n",
              "    }\n",
              "\n",
              "    [theme=dark] .colab-df-convert:hover {\n",
              "      background-color: #434B5C;\n",
              "      box-shadow: 0px 1px 3px 1px rgba(0, 0, 0, 0.15);\n",
              "      filter: drop-shadow(0px 1px 2px rgba(0, 0, 0, 0.3));\n",
              "      fill: #FFFFFF;\n",
              "    }\n",
              "  </style>\n",
              "\n",
              "    <script>\n",
              "      const buttonEl =\n",
              "        document.querySelector('#df-6abd6078-71dd-40e2-858b-42d9db200f84 button.colab-df-convert');\n",
              "      buttonEl.style.display =\n",
              "        google.colab.kernel.accessAllowed ? 'block' : 'none';\n",
              "\n",
              "      async function convertToInteractive(key) {\n",
              "        const element = document.querySelector('#df-6abd6078-71dd-40e2-858b-42d9db200f84');\n",
              "        const dataTable =\n",
              "          await google.colab.kernel.invokeFunction('convertToInteractive',\n",
              "                                                    [key], {});\n",
              "        if (!dataTable) return;\n",
              "\n",
              "        const docLinkHtml = 'Like what you see? Visit the ' +\n",
              "          '<a target=\"_blank\" href=https://colab.research.google.com/notebooks/data_table.ipynb>data table notebook</a>'\n",
              "          + ' to learn more about interactive tables.';\n",
              "        element.innerHTML = '';\n",
              "        dataTable['output_type'] = 'display_data';\n",
              "        await google.colab.output.renderOutput(dataTable, element);\n",
              "        const docLink = document.createElement('div');\n",
              "        docLink.innerHTML = docLinkHtml;\n",
              "        element.appendChild(docLink);\n",
              "      }\n",
              "    </script>\n",
              "  </div>\n",
              "\n",
              "\n",
              "    <div id=\"df-d97f461f-6712-4448-ab2b-a9de624fd319\">\n",
              "      <button class=\"colab-df-quickchart\" onclick=\"quickchart('df-d97f461f-6712-4448-ab2b-a9de624fd319')\"\n",
              "                title=\"Suggest charts\"\n",
              "                style=\"display:none;\">\n",
              "\n",
              "<svg xmlns=\"http://www.w3.org/2000/svg\" height=\"24px\"viewBox=\"0 0 24 24\"\n",
              "     width=\"24px\">\n",
              "    <g>\n",
              "        <path d=\"M19 3H5c-1.1 0-2 .9-2 2v14c0 1.1.9 2 2 2h14c1.1 0 2-.9 2-2V5c0-1.1-.9-2-2-2zM9 17H7v-7h2v7zm4 0h-2V7h2v10zm4 0h-2v-4h2v4z\"/>\n",
              "    </g>\n",
              "</svg>\n",
              "      </button>\n",
              "\n",
              "<style>\n",
              "  .colab-df-quickchart {\n",
              "      --bg-color: #E8F0FE;\n",
              "      --fill-color: #1967D2;\n",
              "      --hover-bg-color: #E2EBFA;\n",
              "      --hover-fill-color: #174EA6;\n",
              "      --disabled-fill-color: #AAA;\n",
              "      --disabled-bg-color: #DDD;\n",
              "  }\n",
              "\n",
              "  [theme=dark] .colab-df-quickchart {\n",
              "      --bg-color: #3B4455;\n",
              "      --fill-color: #D2E3FC;\n",
              "      --hover-bg-color: #434B5C;\n",
              "      --hover-fill-color: #FFFFFF;\n",
              "      --disabled-bg-color: #3B4455;\n",
              "      --disabled-fill-color: #666;\n",
              "  }\n",
              "\n",
              "  .colab-df-quickchart {\n",
              "    background-color: var(--bg-color);\n",
              "    border: none;\n",
              "    border-radius: 50%;\n",
              "    cursor: pointer;\n",
              "    display: none;\n",
              "    fill: var(--fill-color);\n",
              "    height: 32px;\n",
              "    padding: 0;\n",
              "    width: 32px;\n",
              "  }\n",
              "\n",
              "  .colab-df-quickchart:hover {\n",
              "    background-color: var(--hover-bg-color);\n",
              "    box-shadow: 0 1px 2px rgba(60, 64, 67, 0.3), 0 1px 3px 1px rgba(60, 64, 67, 0.15);\n",
              "    fill: var(--button-hover-fill-color);\n",
              "  }\n",
              "\n",
              "  .colab-df-quickchart-complete:disabled,\n",
              "  .colab-df-quickchart-complete:disabled:hover {\n",
              "    background-color: var(--disabled-bg-color);\n",
              "    fill: var(--disabled-fill-color);\n",
              "    box-shadow: none;\n",
              "  }\n",
              "\n",
              "  .colab-df-spinner {\n",
              "    border: 2px solid var(--fill-color);\n",
              "    border-color: transparent;\n",
              "    border-bottom-color: var(--fill-color);\n",
              "    animation:\n",
              "      spin 1s steps(1) infinite;\n",
              "  }\n",
              "\n",
              "  @keyframes spin {\n",
              "    0% {\n",
              "      border-color: transparent;\n",
              "      border-bottom-color: var(--fill-color);\n",
              "      border-left-color: var(--fill-color);\n",
              "    }\n",
              "    20% {\n",
              "      border-color: transparent;\n",
              "      border-left-color: var(--fill-color);\n",
              "      border-top-color: var(--fill-color);\n",
              "    }\n",
              "    30% {\n",
              "      border-color: transparent;\n",
              "      border-left-color: var(--fill-color);\n",
              "      border-top-color: var(--fill-color);\n",
              "      border-right-color: var(--fill-color);\n",
              "    }\n",
              "    40% {\n",
              "      border-color: transparent;\n",
              "      border-right-color: var(--fill-color);\n",
              "      border-top-color: var(--fill-color);\n",
              "    }\n",
              "    60% {\n",
              "      border-color: transparent;\n",
              "      border-right-color: var(--fill-color);\n",
              "    }\n",
              "    80% {\n",
              "      border-color: transparent;\n",
              "      border-right-color: var(--fill-color);\n",
              "      border-bottom-color: var(--fill-color);\n",
              "    }\n",
              "    90% {\n",
              "      border-color: transparent;\n",
              "      border-bottom-color: var(--fill-color);\n",
              "    }\n",
              "  }\n",
              "</style>\n",
              "\n",
              "      <script>\n",
              "        async function quickchart(key) {\n",
              "          const quickchartButtonEl =\n",
              "            document.querySelector('#' + key + ' button');\n",
              "          quickchartButtonEl.disabled = true;  // To prevent multiple clicks.\n",
              "          quickchartButtonEl.classList.add('colab-df-spinner');\n",
              "          try {\n",
              "            const charts = await google.colab.kernel.invokeFunction(\n",
              "                'suggestCharts', [key], {});\n",
              "          } catch (error) {\n",
              "            console.error('Error during call to suggestCharts:', error);\n",
              "          }\n",
              "          quickchartButtonEl.classList.remove('colab-df-spinner');\n",
              "          quickchartButtonEl.classList.add('colab-df-quickchart-complete');\n",
              "        }\n",
              "        (() => {\n",
              "          let quickchartButtonEl =\n",
              "            document.querySelector('#df-d97f461f-6712-4448-ab2b-a9de624fd319 button');\n",
              "          quickchartButtonEl.style.display =\n",
              "            google.colab.kernel.accessAllowed ? 'block' : 'none';\n",
              "        })();\n",
              "      </script>\n",
              "    </div>\n",
              "    </div>\n",
              "  </div>\n"
            ],
            "application/vnd.google.colaboratory.intrinsic+json": {
              "type": "dataframe",
              "variable_name": "data",
              "summary": "{\n  \"name\": \"data\",\n  \"rows\": 100000,\n  \"fields\": [\n    {\n      \"column\": \"power\",\n      \"properties\": {\n        \"dtype\": \"number\",\n        \"std\": 0.6103847243086136,\n        \"min\": 2.9234239015783414,\n        \"max\": 7.654397349998226,\n        \"num_unique_values\": 99913,\n        \"samples\": [\n          4.1682938948006365,\n          3.524040296082616,\n          5.200582656421346\n        ],\n        \"semantic_type\": \"\",\n        \"description\": \"\"\n      }\n    },\n    {\n      \"column\": \"age\",\n      \"properties\": {\n        \"dtype\": \"number\",\n        \"std\": 0.06408295871548567,\n        \"min\": 0.8119614124298096,\n        \"max\": 1.596757411956787,\n        \"num_unique_values\": 97175,\n        \"samples\": [\n          1.411195993423462,\n          1.4109777212142944,\n          1.4257663488388062\n        ],\n        \"semantic_type\": \"\",\n        \"description\": \"\"\n      }\n    },\n    {\n      \"column\": \"x\",\n      \"properties\": {\n        \"dtype\": \"number\",\n        \"std\": 22.97369952499643,\n        \"min\": -37.60976028442383,\n        \"max\": 42.13975143432617,\n        \"num_unique_values\": 99877,\n        \"samples\": [\n          -8.622149467468262,\n          -27.53911590576172,\n          40.95945358276367\n        ],\n        \"semantic_type\": \"\",\n        \"description\": \"\"\n      }\n    },\n    {\n      \"column\": \"y\",\n      \"properties\": {\n        \"dtype\": \"number\",\n        \"std\": 39.130574836348934,\n        \"min\": -70.53899383544922,\n        \"max\": 64.70616912841797,\n        \"num_unique_values\": 99886,\n        \"samples\": [\n          59.201595306396484,\n          8.056204795837402,\n          -18.004602432250977\n        ],\n        \"semantic_type\": \"\",\n        \"description\": \"\"\n      }\n    },\n    {\n      \"column\": \"tetta\",\n      \"properties\": {\n        \"dtype\": \"number\",\n        \"std\": 11.87637122763746,\n        \"min\": 0.19006963074207306,\n        \"max\": 49.99972152709961,\n        \"num_unique_values\": 99560,\n        \"samples\": [\n          18.181596755981445,\n          49.244258880615234,\n          32.45790100097656\n        ],\n        \"semantic_type\": \"\",\n        \"description\": \"\"\n      }\n    },\n    {\n      \"column\": \"phi\",\n      \"properties\": {\n        \"dtype\": \"number\",\n        \"std\": 103.73065056880968,\n        \"min\": 0.0001220703125,\n        \"max\": 359.9990234375,\n        \"num_unique_values\": 99576,\n        \"samples\": [\n          132.13397216796875,\n          109.59320068359375,\n          263.90399169921875\n        ],\n        \"semantic_type\": \"\",\n        \"description\": \"\"\n      }\n    },\n    {\n      \"column\": \"energy\",\n      \"properties\": {\n        \"dtype\": \"string\",\n        \"num_unique_values\": 99980,\n        \"samples\": [\n          [\n            3.50858736038208,\n            0.0,\n            2.5187458992004395,\n            11.006418228149414,\n            0.0,\n            19.194454193115234,\n            0.0012416525278240442,\n            25.512388229370117,\n            17.543346405029297,\n            0.33866068720817566,\n            42.20415496826172,\n            0.0,\n            0.025576377287507057,\n            32.664791107177734,\n            0.017763111740350723,\n            0.06454861909151077,\n            21.181594848632812,\n            3.0127243995666504,\n            0.08812031149864197,\n            1.196364402770996,\n            11.691230773925781,\n            3.828233480453491,\n            0.0,\n            11.678898811340332,\n            22.309764862060547,\n            0.0,\n            13.284226417541504,\n            11.685955047607422,\n            0.0,\n            3.848968029022217,\n            0.0,\n            0.0,\n            1.4397013187408447,\n            14.59958553314209,\n            21.79376220703125,\n            4.028570652008057,\n            29.498098373413086,\n            5.897201061248779,\n            0.784331202507019,\n            0.2400464117527008,\n            35.89363479614258,\n            16.387866973876953,\n            32.66767120361328,\n            32.872650146484375,\n            45.489871978759766,\n            5.4976301193237305,\n            18.92386817932129,\n            6.439062118530273,\n            0.16747531294822693,\n            0.0,\n            13.796814918518066,\n            5.6834869384765625,\n            7.655500411987305,\n            0.0,\n            2.5457510948181152,\n            3.112234592437744,\n            18.571765899658203,\n            0.0,\n            3.1476759910583496,\n            7.25542688369751,\n            0.0,\n            0.0,\n            0.0,\n            10.731622695922852,\n            0.0,\n            10.497772216796875,\n            0.0,\n            3.6397299766540527,\n            0.0,\n            0.0,\n            7.789286136627197,\n            0.0,\n            0.0,\n            0.24134968221187592,\n            2.354790687561035,\n            7.479431629180908,\n            0.03706089407205582,\n            0.0,\n            0.0,\n            0.0,\n            125.93807983398438,\n            111.8901138305664,\n            87.81761932373047,\n            74.46907043457031,\n            13.025541305541992,\n            36.22623825073242,\n            34.27859115600586,\n            17.960847854614258,\n            0.0,\n            18.296049118041992,\n            0.0,\n            7.324460506439209,\n            41.19384765625,\n            0.0,\n            55.54962158203125,\n            5.73872709274292,\n            6.449948787689209,\n            0.0,\n            0.39791637659072876,\n            0.12547890841960907,\n            0.0,\n            0.0,\n            0.0,\n            0.0,\n            0.0,\n            1.481574535369873,\n            0.0,\n            6.918307304382324,\n            4.978368282318115,\n            0.0,\n            0.0,\n            0.0,\n            6.875228404998779,\n            22.931480407714844,\n            0.0,\n            0.0614706389605999,\n            1.4970544576644897,\n            11.249251365661621,\n            0.0,\n            0.0,\n            55.65312576293945,\n            39.594482421875,\n            10.21103286743164,\n            23.794677734375,\n            0.0,\n            3.3072237968444824,\n            11.16521167755127,\n            11.81470012664795,\n            16.294042587280273,\n            56.67789077758789,\n            13.711651802062988,\n            12.410170555114746,\n            3.2457127571105957,\n            27.280061721801758,\n            8.925898551940918,\n            0.20512212812900543,\n            8.625444412231445,\n            3.437893867492676,\n            23.68326187133789,\n            7.841687202453613,\n            39.1781120300293,\n            19.4906063079834,\n            0.07996658980846405,\n            15.423068046569824\n          ],\n          [\n            0.0,\n            0.0,\n            0.0,\n            0.0,\n            0.0,\n            0.0,\n            0.0,\n            0.0,\n            0.0,\n            11.16759967803955,\n            0.0,\n            0.0,\n            0.0,\n            7.450851917266846,\n            0.0,\n            0.0,\n            0.0,\n            0.0,\n            0.0,\n            0.0,\n            0.0,\n            0.0,\n            0.0,\n            0.0,\n            0.0,\n            0.0,\n            0.0,\n            0.0,\n            0.0,\n            0.05174991860985756,\n            0.0,\n            0.0,\n            0.0,\n            0.0,\n            0.0,\n            0.100753054022789,\n            0.0,\n            0.0,\n            0.0,\n            0.0,\n            0.0,\n            0.0,\n            0.03699256479740143,\n            0.0,\n            34.4138069152832,\n            0.0,\n            0.0,\n            7.918202877044678,\n            1.5548738241195679,\n            0.0,\n            0.0,\n            0.0,\n            0.0,\n            0.0,\n            19.98033332824707,\n            0.0,\n            15.914277076721191,\n            0.0,\n            0.005733152851462364,\n            0.0,\n            0.0,\n            0.0,\n            0.0,\n            0.0,\n            0.0,\n            0.0,\n            0.0,\n            0.0,\n            0.0,\n            0.0,\n            0.0,\n            0.0,\n            18.3092098236084,\n            0.0,\n            0.0,\n            0.0,\n            0.0,\n            0.0,\n            0.0,\n            0.0,\n            0.0,\n            0.0,\n            0.0,\n            0.0,\n            0.0,\n            0.0,\n            0.0,\n            0.0,\n            10.954566955566406,\n            0.0,\n            0.0,\n            0.0,\n            0.0,\n            0.0,\n            0.0,\n            0.0,\n            0.0,\n            0.0,\n            0.0,\n            0.0,\n            0.0,\n            0.0,\n            0.0,\n            0.0,\n            0.0,\n            0.0,\n            0.0,\n            0.0,\n            0.0,\n            5.077399253845215,\n            33.58015441894531,\n            0.0,\n            0.0,\n            0.0,\n            0.0,\n            0.0,\n            0.0,\n            0.0,\n            0.0,\n            0.0,\n            0.0,\n            10.624784469604492,\n            0.0,\n            0.0,\n            0.0,\n            0.0,\n            9.947029113769531,\n            0.0,\n            0.0,\n            0.0,\n            0.0,\n            0.0,\n            0.0,\n            11.198575019836426,\n            0.0,\n            0.0,\n            0.0,\n            0.0,\n            0.0,\n            0.0,\n            0.0,\n            0.0,\n            0.0,\n            0.0\n          ],\n          [\n            8.9893217086792,\n            0.0,\n            10.001924514770508,\n            17.133682250976562,\n            0.0,\n            0.0,\n            0.006035253871232271,\n            0.0,\n            0.019116582348942757,\n            3.513502359390259,\n            0.026033394038677216,\n            0.0,\n            3.13602352142334,\n            10.715800285339355,\n            0.0,\n            6.1639933586120605,\n            0.16294170916080475,\n            0.0,\n            7.77522087097168,\n            0.0,\n            5.810451507568359,\n            0.0,\n            0.19846995174884796,\n            0.0,\n            0.0911550372838974,\n            7.792979717254639,\n            6.096096515655518,\n            0.0,\n            11.622627258300781,\n            2.136373281478882,\n            11.69119930267334,\n            16.827678680419922,\n            0.10011173784732819,\n            37.3062858581543,\n            12.85667896270752,\n            38.43984603881836,\n            18.197690963745117,\n            19.97780418395996,\n            18.17400550842285,\n            33.85447311401367,\n            8.672083854675293,\n            10.054302215576172,\n            11.104063034057617,\n            0.0,\n            0.13605916500091553,\n            0.01581023633480072,\n            33.5232048034668,\n            2.5749664306640625,\n            401.47918701171875,\n            210.06842041015625,\n            145.49014282226562,\n            79.27647399902344,\n            28.34491539001465,\n            28.476028442382812,\n            26.652606964111328,\n            17.026853561401367,\n            21.200902938842773,\n            22.74477195739746,\n            16.63037872314453,\n            2.0209829807281494,\n            19.752004623413086,\n            20.393516540527344,\n            23.390724182128906,\n            12.451643943786621,\n            11.298830032348633,\n            27.0924129486084,\n            0.0,\n            0.5551069378852844,\n            7.755767345428467,\n            0.2332633137702942,\n            10.601451873779297,\n            13.947259902954102,\n            10.917779922485352,\n            7.155488014221191,\n            2.368304967880249,\n            17.588319778442383,\n            28.705575942993164,\n            44.17226791381836,\n            34.993553161621094,\n            60.57356262207031,\n            0.0,\n            0.0,\n            0.0,\n            9.989009857177734,\n            12.930183410644531,\n            0.0,\n            0.0,\n            0.0,\n            14.115517616271973,\n            0.0,\n            0.0,\n            0.0,\n            0.0,\n            0.11908818781375885,\n            1.1241939067840576,\n            0.0,\n            14.21267318725586,\n            5.087217330932617,\n            0.0,\n            0.0,\n            0.0,\n            0.0,\n            7.770875930786133,\n            8.674358367919922,\n            1.9007703065872192,\n            0.0,\n            0.24479374289512634,\n            0.06225764378905296,\n            7.263339042663574,\n            0.0,\n            0.0,\n            0.5918290615081787,\n            7.520040035247803,\n            34.349369049072266,\n            1.3682271242141724,\n            30.257375717163086,\n            8.333094596862793,\n            25.584352493286133,\n            17.187257766723633,\n            2.5423660278320312,\n            0.0,\n            0.0,\n            7.403860092163086,\n            9.274701118469238,\n            0.0,\n            18.543502807617188,\n            0.0,\n            0.0,\n            1.2667816877365112,\n            0.0,\n            0.0,\n            0.0,\n            0.17430263757705688,\n            0.0,\n            0.0,\n            11.240883827209473,\n            0.03962131217122078,\n            0.0,\n            0.0,\n            0.0,\n            16.459197998046875,\n            0.3096238672733307,\n            0.0,\n            0.09398941695690155\n          ]\n        ],\n        \"semantic_type\": \"\",\n        \"description\": \"\"\n      }\n    },\n    {\n      \"column\": \"threshold_time\",\n      \"properties\": {\n        \"dtype\": \"string\",\n        \"num_unique_values\": 99980,\n        \"samples\": [\n          [\n            147970.625,\n            0.0,\n            147996.8125,\n            147962.90625,\n            0.0,\n            147949.25,\n            147957.984375,\n            147980.59375,\n            147977.09375,\n            147972.5625,\n            147983.015625,\n            0.0,\n            147987.328125,\n            148024.484375,\n            147997.046875,\n            147998.0,\n            147911.78125,\n            147971.015625,\n            147944.453125,\n            147944.0,\n            147897.78125,\n            147915.296875,\n            0.0,\n            147904.6875,\n            147924.640625,\n            0.0,\n            147921.453125,\n            147942.296875,\n            0.0,\n            147981.578125,\n            0.0,\n            0.0,\n            147977.5625,\n            148032.59375,\n            147989.421875,\n            148020.578125,\n            147960.6875,\n            147969.875,\n            147962.171875,\n            147962.5625,\n            148003.890625,\n            148026.328125,\n            148028.09375,\n            148019.703125,\n            148034.140625,\n            148033.75,\n            148079.671875,\n            148035.6875,\n            148063.40625,\n            0.0,\n            148056.78125,\n            148065.8125,\n            148048.34375,\n            0.0,\n            148066.125,\n            148055.578125,\n            148063.75,\n            0.0,\n            148068.375,\n            148063.984375,\n            0.0,\n            0.0,\n            0.0,\n            148084.671875,\n            0.0,\n            148008.390625,\n            0.0,\n            148049.984375,\n            0.0,\n            0.0,\n            148002.25,\n            0.0,\n            0.0,\n            148140.0625,\n            148044.28125,\n            148047.625,\n            148069.015625,\n            0.0,\n            0.0,\n            0.0,\n            148146.640625,\n            148137.28125,\n            148133.359375,\n            148135.71875,\n            148120.640625,\n            148126.640625,\n            148121.84375,\n            148121.390625,\n            0.0,\n            148147.53125,\n            0.0,\n            148233.875,\n            148255.78125,\n            0.0,\n            148162.78125,\n            148170.109375,\n            147937.71875,\n            0.0,\n            148036.859375,\n            147954.421875,\n            0.0,\n            0.0,\n            0.0,\n            0.0,\n            0.0,\n            148016.625,\n            0.0,\n            147920.53125,\n            147952.0625,\n            0.0,\n            0.0,\n            0.0,\n            148117.5625,\n            148166.0,\n            0.0,\n            148115.8125,\n            148097.453125,\n            148092.484375,\n            0.0,\n            0.0,\n            148120.265625,\n            148122.953125,\n            148121.546875,\n            148121.5,\n            0.0,\n            148137.5625,\n            148140.5625,\n            148135.25,\n            148021.359375,\n            148026.65625,\n            148015.828125,\n            148032.453125,\n            148002.890625,\n            148016.328125,\n            148142.6875,\n            148049.953125,\n            148023.53125,\n            148053.515625,\n            148028.9375,\n            148038.96875,\n            148112.03125,\n            148050.65625,\n            148120.1875,\n            148185.765625\n          ],\n          [\n            0.0,\n            0.0,\n            0.0,\n            0.0,\n            0.0,\n            0.0,\n            0.0,\n            0.0,\n            0.0,\n            113268.703125,\n            0.0,\n            0.0,\n            0.0,\n            113239.984375,\n            0.0,\n            0.0,\n            0.0,\n            0.0,\n            0.0,\n            0.0,\n            0.0,\n            0.0,\n            0.0,\n            0.0,\n            0.0,\n            0.0,\n            0.0,\n            0.0,\n            0.0,\n            113281.5,\n            0.0,\n            0.0,\n            0.0,\n            0.0,\n            0.0,\n            113191.90625,\n            0.0,\n            0.0,\n            0.0,\n            0.0,\n            0.0,\n            0.0,\n            113186.296875,\n            0.0,\n            113159.8125,\n            0.0,\n            0.0,\n            113154.625,\n            113145.2109375,\n            0.0,\n            0.0,\n            0.0,\n            0.0,\n            0.0,\n            113179.3984375,\n            0.0,\n            113165.0234375,\n            0.0,\n            113166.5,\n            0.0,\n            0.0,\n            0.0,\n            0.0,\n            0.0,\n            0.0,\n            0.0,\n            0.0,\n            0.0,\n            0.0,\n            0.0,\n            0.0,\n            0.0,\n            113205.1875,\n            0.0,\n            0.0,\n            0.0,\n            0.0,\n            0.0,\n            0.0,\n            0.0,\n            0.0,\n            0.0,\n            0.0,\n            0.0,\n            0.0,\n            0.0,\n            0.0,\n            0.0,\n            113144.8203125,\n            0.0,\n            0.0,\n            0.0,\n            0.0,\n            0.0,\n            0.0,\n            0.0,\n            0.0,\n            0.0,\n            0.0,\n            0.0,\n            0.0,\n            0.0,\n            0.0,\n            0.0,\n            0.0,\n            0.0,\n            0.0,\n            0.0,\n            0.0,\n            113296.2421875,\n            113290.7265625,\n            0.0,\n            0.0,\n            0.0,\n            0.0,\n            0.0,\n            0.0,\n            0.0,\n            0.0,\n            0.0,\n            0.0,\n            113122.421875,\n            0.0,\n            0.0,\n            0.0,\n            0.0,\n            113090.0078125,\n            0.0,\n            0.0,\n            0.0,\n            0.0,\n            0.0,\n            0.0,\n            113249.203125,\n            0.0,\n            0.0,\n            0.0,\n            0.0,\n            0.0,\n            0.0,\n            0.0,\n            0.0,\n            0.0,\n            0.0\n          ],\n          [\n            97389.2265625,\n            0.0,\n            97368.171875,\n            97418.953125,\n            0.0,\n            0.0,\n            97353.15625,\n            0.0,\n            97348.7734375,\n            97346.0078125,\n            97349.609375,\n            0.0,\n            97378.6953125,\n            97352.3046875,\n            0.0,\n            97351.1484375,\n            97410.5546875,\n            0.0,\n            97390.5859375,\n            0.0,\n            97382.296875,\n            0.0,\n            97406.984375,\n            0.0,\n            97375.25,\n            97367.3671875,\n            97366.96875,\n            0.0,\n            97396.4765625,\n            97380.59375,\n            97421.109375,\n            97381.03125,\n            97391.15625,\n            97390.84375,\n            97388.3359375,\n            97421.84375,\n            97400.6796875,\n            97376.234375,\n            97386.0546875,\n            97415.2421875,\n            97348.609375,\n            97345.1015625,\n            97358.53125,\n            0.0,\n            97369.7734375,\n            97365.546875,\n            97375.8828125,\n            97359.4296875,\n            97457.6015625,\n            97461.0390625,\n            97546.921875,\n            97458.1875,\n            97454.34375,\n            97452.046875,\n            97475.03125,\n            97479.6953125,\n            97430.8671875,\n            97438.0859375,\n            97429.734375,\n            97434.171875,\n            97492.5234375,\n            97449.234375,\n            97448.625,\n            97590.140625,\n            97492.7109375,\n            97499.078125,\n            0.0,\n            97527.8046875,\n            97484.1640625,\n            97477.34375,\n            97480.9453125,\n            97477.8046875,\n            97471.6171875,\n            97465.3359375,\n            97462.7890625,\n            97484.8359375,\n            97479.34375,\n            97479.6953125,\n            97478.3828125,\n            97483.203125,\n            0.0,\n            0.0,\n            0.0,\n            97369.1953125,\n            97362.8046875,\n            0.0,\n            0.0,\n            0.0,\n            97364.3125,\n            0.0,\n            0.0,\n            0.0,\n            0.0,\n            97370.265625,\n            97374.703125,\n            0.0,\n            97470.5234375,\n            97500.265625,\n            0.0,\n            0.0,\n            0.0,\n            0.0,\n            97511.53125,\n            97454.6796875,\n            97446.6328125,\n            0.0,\n            97466.5625,\n            97624.71875,\n            97446.984375,\n            0.0,\n            0.0,\n            97486.4609375,\n            97440.609375,\n            97439.3984375,\n            97448.8359375,\n            97447.109375,\n            97425.015625,\n            97426.4453125,\n            97456.671875,\n            97425.8984375,\n            0.0,\n            0.0,\n            97415.28125,\n            97412.1015625,\n            0.0,\n            97441.8046875,\n            0.0,\n            0.0,\n            97364.609375,\n            0.0,\n            0.0,\n            0.0,\n            97334.34375,\n            0.0,\n            0.0,\n            97647.421875,\n            97325.640625,\n            0.0,\n            0.0,\n            0.0,\n            97328.703125,\n            97328.328125,\n            0.0,\n            97333.625\n          ]\n        ],\n        \"semantic_type\": \"\",\n        \"description\": \"\"\n      }\n    },\n    {\n      \"column\": \"primary_particle\",\n      \"properties\": {\n        \"dtype\": \"number\",\n        \"std\": 0.0,\n        \"min\": 14.0,\n        \"max\": 14.0,\n        \"num_unique_values\": 1,\n        \"samples\": [\n          14.0\n        ],\n        \"semantic_type\": \"\",\n        \"description\": \"\"\n      }\n    },\n    {\n      \"column\": \"primary_energy\",\n      \"properties\": {\n        \"dtype\": \"number\",\n        \"std\": 3392189.0827210825,\n        \"min\": 1000003.375,\n        \"max\": 97024064.0,\n        \"num_unique_values\": 99592,\n        \"samples\": [\n          2600443.25\n        ],\n        \"semantic_type\": \"\",\n        \"description\": \"\"\n      }\n    },\n    {\n      \"column\": \"n_muons\",\n      \"properties\": {\n        \"dtype\": \"number\",\n        \"std\": 25520.787565195533,\n        \"min\": 1191.0,\n        \"max\": 1075782.0,\n        \"num_unique_values\": 32777,\n        \"samples\": [\n          52285.0\n        ],\n        \"semantic_type\": \"\",\n        \"description\": \"\"\n      }\n    },\n    {\n      \"column\": \"n_hadrons\",\n      \"properties\": {\n        \"dtype\": \"number\",\n        \"std\": 4725.573454787784,\n        \"min\": 19.0,\n        \"max\": 343996.0,\n        \"num_unique_values\": 10824,\n        \"samples\": [\n          10118.0\n        ],\n        \"semantic_type\": \"\",\n        \"description\": \"\"\n      }\n    },\n    {\n      \"column\": \"first_interaction_height\",\n      \"properties\": {\n        \"dtype\": \"number\",\n        \"std\": 879431.9273600576,\n        \"min\": 388653.0,\n        \"max\": 10755049.0,\n        \"num_unique_values\": 99627,\n        \"samples\": [\n          3019661.0\n        ],\n        \"semantic_type\": \"\",\n        \"description\": \"\"\n      }\n    }\n  ]\n}"
            }
          },
          "metadata": {},
          "execution_count": 9
        }
      ]
    },
    {
      "cell_type": "code",
      "source": [
        "energy_df = pd.DataFrame(data['energy'].to_list(), columns=[f\"energy_{i}\" for i in range(144)])\n",
        "data = pd.concat([data, energy_df], axis=1)\n",
        "\n",
        "threshold_times_df = pd.DataFrame(data['threshold_time'].to_list(), columns=[f\"threshold_time_{i}\" for i in range(144)])\n",
        "data = pd.concat([data, threshold_times_df], axis=1)\n",
        "\n",
        "data = data.drop(['energy', 'threshold_time'], axis=1)"
      ],
      "metadata": {
        "id": "FWBF2yZHVv3I"
      },
      "id": "FWBF2yZHVv3I",
      "execution_count": null,
      "outputs": []
    },
    {
      "cell_type": "code",
      "source": [
        "from numpy import sin, cos, atan2"
      ],
      "metadata": {
        "id": "NlQb0mMuW5QY"
      },
      "id": "NlQb0mMuW5QY",
      "execution_count": null,
      "outputs": []
    },
    {
      "cell_type": "code",
      "source": [
        "data = pd.concat([data, pd.DataFrame({'sin': sin(data.phi), 'cos': cos(data.phi)})], axis=1).drop('phi', axis=1)"
      ],
      "metadata": {
        "id": "ucwkmz0LZksd"
      },
      "id": "ucwkmz0LZksd",
      "execution_count": null,
      "outputs": []
    },
    {
      "cell_type": "code",
      "source": [
        "data.columns"
      ],
      "metadata": {
        "id": "FGuAq04idyiE",
        "outputId": "fcb543d2-1367-4a68-f144-083b8993c8a3",
        "colab": {
          "base_uri": "https://localhost:8080/"
        }
      },
      "id": "FGuAq04idyiE",
      "execution_count": null,
      "outputs": [
        {
          "output_type": "execute_result",
          "data": {
            "text/plain": [
              "Index(['power', 'age', 'x', 'y', 'tetta', 'primary_particle', 'primary_energy',\n",
              "       'n_muons', 'n_hadrons', 'first_interaction_height',\n",
              "       ...\n",
              "       'threshold_time_136', 'threshold_time_137', 'threshold_time_138',\n",
              "       'threshold_time_139', 'threshold_time_140', 'threshold_time_141',\n",
              "       'threshold_time_142', 'threshold_time_143', 'sin', 'cos'],\n",
              "      dtype='object', length=300)"
            ]
          },
          "metadata": {},
          "execution_count": 13
        }
      ]
    },
    {
      "cell_type": "code",
      "source": [
        "!pip install catboost"
      ],
      "metadata": {
        "id": "Ks5zmOx9em-4",
        "outputId": "1677639a-fb1e-445f-b826-d728872330ac",
        "colab": {
          "base_uri": "https://localhost:8080/"
        }
      },
      "id": "Ks5zmOx9em-4",
      "execution_count": null,
      "outputs": [
        {
          "output_type": "stream",
          "name": "stdout",
          "text": [
            "Collecting catboost\n",
            "  Downloading catboost-1.2.8-cp311-cp311-manylinux2014_x86_64.whl.metadata (1.2 kB)\n",
            "Requirement already satisfied: graphviz in /usr/local/lib/python3.11/dist-packages (from catboost) (0.21)\n",
            "Requirement already satisfied: matplotlib in /usr/local/lib/python3.11/dist-packages (from catboost) (3.10.0)\n",
            "Requirement already satisfied: numpy<3.0,>=1.16.0 in /usr/local/lib/python3.11/dist-packages (from catboost) (2.0.2)\n",
            "Requirement already satisfied: pandas>=0.24 in /usr/local/lib/python3.11/dist-packages (from catboost) (2.2.2)\n",
            "Requirement already satisfied: scipy in /usr/local/lib/python3.11/dist-packages (from catboost) (1.15.3)\n",
            "Requirement already satisfied: plotly in /usr/local/lib/python3.11/dist-packages (from catboost) (5.24.1)\n",
            "Requirement already satisfied: six in /usr/local/lib/python3.11/dist-packages (from catboost) (1.17.0)\n",
            "Requirement already satisfied: python-dateutil>=2.8.2 in /usr/local/lib/python3.11/dist-packages (from pandas>=0.24->catboost) (2.9.0.post0)\n",
            "Requirement already satisfied: pytz>=2020.1 in /usr/local/lib/python3.11/dist-packages (from pandas>=0.24->catboost) (2025.2)\n",
            "Requirement already satisfied: tzdata>=2022.7 in /usr/local/lib/python3.11/dist-packages (from pandas>=0.24->catboost) (2025.2)\n",
            "Requirement already satisfied: contourpy>=1.0.1 in /usr/local/lib/python3.11/dist-packages (from matplotlib->catboost) (1.3.2)\n",
            "Requirement already satisfied: cycler>=0.10 in /usr/local/lib/python3.11/dist-packages (from matplotlib->catboost) (0.12.1)\n",
            "Requirement already satisfied: fonttools>=4.22.0 in /usr/local/lib/python3.11/dist-packages (from matplotlib->catboost) (4.58.5)\n",
            "Requirement already satisfied: kiwisolver>=1.3.1 in /usr/local/lib/python3.11/dist-packages (from matplotlib->catboost) (1.4.8)\n",
            "Requirement already satisfied: packaging>=20.0 in /usr/local/lib/python3.11/dist-packages (from matplotlib->catboost) (25.0)\n",
            "Requirement already satisfied: pillow>=8 in /usr/local/lib/python3.11/dist-packages (from matplotlib->catboost) (11.2.1)\n",
            "Requirement already satisfied: pyparsing>=2.3.1 in /usr/local/lib/python3.11/dist-packages (from matplotlib->catboost) (3.2.3)\n",
            "Requirement already satisfied: tenacity>=6.2.0 in /usr/local/lib/python3.11/dist-packages (from plotly->catboost) (8.5.0)\n",
            "Downloading catboost-1.2.8-cp311-cp311-manylinux2014_x86_64.whl (99.2 MB)\n",
            "\u001b[2K   \u001b[90m━━━━━━━━━━━━━━━━━━━━━━━━━━━━━━━━━━━━━━━━\u001b[0m \u001b[32m99.2/99.2 MB\u001b[0m \u001b[31m9.3 MB/s\u001b[0m eta \u001b[36m0:00:00\u001b[0m\n",
            "\u001b[?25hInstalling collected packages: catboost\n",
            "Successfully installed catboost-1.2.8\n"
          ]
        }
      ]
    },
    {
      "cell_type": "code",
      "source": [
        "import numpy as np\n",
        "\n",
        "\n",
        "def recover_phi(sin_phi, cos_phi):\n",
        "    phi_rad = np.arctan2(sin_phi, cos_phi)\n",
        "    phi_deg = np.degrees(phi_rad)\n",
        "    # Нормализация к диапазону [0, 360)\n",
        "    phi_deg = np.where(phi_deg < 0, phi_deg + 360, phi_deg)\n",
        "    return phi_deg\n",
        "\n",
        "\n",
        "def custom_metric_rmse(y_pred, y_true):\n",
        "    return np.sqrt(np.mean(np.minimum(np.abs(y_pred - y_true), 360 - np.abs(y_pred - y_true)) ** 2))\n"
      ],
      "metadata": {
        "id": "p-2kzQ5nPP4x"
      },
      "id": "p-2kzQ5nPP4x",
      "execution_count": null,
      "outputs": []
    },
    {
      "cell_type": "code",
      "source": [
        "import numpy as np\n",
        "import pandas as pd\n",
        "from catboost import CatBoostRegressor, Pool\n",
        "from sklearn.model_selection import train_test_split\n",
        "from sklearn.metrics import mean_squared_error, r2_score\n",
        "from sklearn.datasets import make_regression\n",
        "\n",
        "\n",
        "df = data\n",
        "\n",
        "\n",
        "target_cols = ['power', 'age', 'x', 'y', 'tetta', 'sin', 'cos']\n",
        "\n",
        "\n",
        "X_train, X_test, y_train, y_test = train_test_split(\n",
        "    df.drop(target_cols, axis=1),\n",
        "    df[target_cols],\n",
        "    test_size=0.2,\n",
        "    random_state=42\n",
        ")\n",
        "\n",
        "\n",
        "cat_features = []\n",
        "\n",
        "train_pool = Pool(\n",
        "    data=X_train,\n",
        "    label=y_train,\n",
        "    cat_features=cat_features\n",
        ")\n",
        "\n",
        "test_pool = Pool(\n",
        "    data=X_test,\n",
        "    label=y_test,\n",
        "    cat_features=cat_features\n",
        ")\n",
        "\n",
        "model = CatBoostRegressor(\n",
        "    iterations=1000,\n",
        "    learning_rate=0.03,\n",
        "    depth=6,\n",
        "    loss_function='MultiRMSE',\n",
        "    eval_metric='MultiRMSE',\n",
        "    random_seed=42,\n",
        "    task_type='GPU',\n",
        "    verbose=100\n",
        ")\n",
        "\n",
        "\n",
        "model.fit(\n",
        "    train_pool,\n",
        "    eval_set=test_pool,\n",
        "    early_stopping_rounds=50,\n",
        "    plot=True\n",
        ")\n",
        "\n",
        "\n",
        "y_pred = model.predict(X_test)\n",
        "\n",
        "for i in range(y_test.shape[1] - 2):\n",
        "    rmse = np.sqrt(mean_squared_error(y_test.iloc[:, i], y_pred[:, i]))\n",
        "    r2 = r2_score(y_test.iloc[:, i], y_pred[:, i])\n",
        "\n",
        "    print(f\"{y_test.iloc[:, i].name} - RMSE: {rmse:.4f}, R²: {r2:.4f}\")\n",
        "\n",
        "print(\"phi - \", custom_metric_rmse(recover_phi(y_test.iloc[:, -2], y_test.iloc[:, -1]), recover_phi(y_pred[:, -2], y_pred[:, -1])))\n",
        "\n",
        "feature_importance = model.get_feature_importance()\n",
        "feature_names = X_train.columns\n",
        "for score, name in sorted(zip(feature_importance, feature_names), reverse=True):\n",
        "    print(f\"{name}: {score}\")\n",
        "\n",
        "model.save_model('catboost_multi_regression.cbm')\n"
      ],
      "metadata": {
        "id": "hae6CqEccH4Y",
        "outputId": "654e46ec-9e69-407e-85d1-47f75677eedc",
        "colab": {
          "base_uri": "https://localhost:8080/",
          "height": 1000,
          "referenced_widgets": [
            "c937a3f9c422455a8c72bd753a0fd808"
          ]
        }
      },
      "id": "hae6CqEccH4Y",
      "execution_count": null,
      "outputs": [
        {
          "output_type": "display_data",
          "data": {
            "text/plain": [
              "MetricVisualizer(layout=Layout(align_self='stretch', height='500px'))"
            ],
            "application/vnd.jupyter.widget-view+json": {
              "version_major": 2,
              "version_minor": 0,
              "model_id": "c937a3f9c422455a8c72bd753a0fd808"
            }
          },
          "metadata": {}
        },
        {
          "output_type": "stream",
          "name": "stdout",
          "text": [
            "0:\tlearn: 46.2736577\ttest: 46.3312033\tbest: 46.3312033 (0)\ttotal: 139ms\tremaining: 2m 19s\n",
            "100:\tlearn: 23.9734593\ttest: 24.2489886\tbest: 24.2489886 (100)\ttotal: 9.13s\tremaining: 1m 21s\n",
            "200:\tlearn: 20.6062503\ttest: 20.9009390\tbest: 20.9009390 (200)\ttotal: 11.3s\tremaining: 44.7s\n",
            "300:\tlearn: 19.2844328\ttest: 19.6151727\tbest: 19.6151727 (300)\ttotal: 13.4s\tremaining: 31.1s\n",
            "400:\tlearn: 18.5039246\ttest: 18.8726528\tbest: 18.8726528 (400)\ttotal: 17.5s\tremaining: 26.1s\n",
            "500:\tlearn: 17.9459564\ttest: 18.3584504\tbest: 18.3584504 (500)\ttotal: 19.8s\tremaining: 19.7s\n",
            "600:\tlearn: 17.5233986\ttest: 17.9766258\tbest: 17.9766258 (600)\ttotal: 21.9s\tremaining: 14.5s\n",
            "700:\tlearn: 17.1915372\ttest: 17.6898099\tbest: 17.6898099 (700)\ttotal: 24.6s\tremaining: 10.5s\n",
            "800:\tlearn: 16.9107296\ttest: 17.4519139\tbest: 17.4519139 (800)\ttotal: 26.8s\tremaining: 6.65s\n",
            "900:\tlearn: 16.6747826\ttest: 17.2621262\tbest: 17.2621262 (900)\ttotal: 30.6s\tremaining: 3.36s\n",
            "999:\tlearn: 16.4804733\ttest: 17.1127679\tbest: 17.1127679 (999)\ttotal: 33.1s\tremaining: 0us\n",
            "bestTest = 17.11276789\n",
            "bestIteration = 999\n",
            "power - RMSE: 0.0979, R²: 0.9748\n",
            "age - RMSE: 0.0514, R²: 0.3778\n",
            "x - RMSE: 10.0690, R²: 0.8089\n",
            "y - RMSE: 13.0285, R²: 0.8892\n",
            "tetta - RMSE: 4.5506, R²: 0.8535\n",
            "phi -  103.78336111912553\n",
            "energy_70: 2.765180723986665\n",
            "energy_71: 2.674279357091465\n",
            "energy_68: 2.604909866637678\n",
            "first_interaction_height: 2.135049930723502\n",
            "energy_69: 2.127840225240148\n",
            "energy_142: 1.6754722347780386\n",
            "energy_126: 1.4621056608651495\n",
            "energy_141: 1.4426030988578809\n",
            "energy_143: 1.4118792104495062\n",
            "energy_124: 1.4028734728376815\n",
            "energy_140: 1.3908149058248325\n",
            "energy_92: 1.3424576822569885\n",
            "energy_98: 1.3422257476464357\n",
            "energy_18: 1.2699486144897512\n",
            "energy_138: 1.2558776971631047\n",
            "energy_127: 1.2493051963637296\n",
            "primary_energy: 1.2354015224368025\n",
            "energy_17: 1.2070521142366764\n",
            "energy_125: 1.2009344803399846\n",
            "energy_19: 1.1962129646145263\n",
            "energy_16: 1.1923840577076064\n",
            "energy_96: 1.1718699314388399\n",
            "energy_81: 1.1555751118153201\n",
            "energy_88: 1.127971440779084\n",
            "energy_83: 1.1242026111156673\n",
            "energy_85: 1.1208637307155258\n",
            "energy_94: 1.1038756210266534\n",
            "energy_67: 1.072867021568384\n",
            "energy_137: 1.0545872046200395\n",
            "energy_99: 1.054422886572684\n",
            "energy_97: 1.0428016344102575\n",
            "n_hadrons: 1.0381323274687555\n",
            "energy_80: 1.0187890238553223\n",
            "energy_82: 1.0114067394810682\n",
            "energy_23: 1.00902857243126\n",
            "energy_123: 1.008547489836674\n",
            "energy_136: 1.0071656918776664\n",
            "energy_139: 1.0067225237143977\n",
            "energy_66: 0.9762964976418552\n",
            "energy_95: 0.9592849919989692\n",
            "energy_93: 0.9286415355708402\n",
            "energy_22: 0.9264747738067236\n",
            "energy_86: 0.8951346709433785\n",
            "energy_100: 0.8446536707917951\n",
            "energy_122: 0.8399568607785048\n",
            "energy_84: 0.8303583233216255\n",
            "energy_91: 0.8118712681819432\n",
            "energy_90: 0.8093071794000402\n",
            "energy_89: 0.7892025067145019\n",
            "energy_21: 0.7724604753483936\n",
            "energy_120: 0.7387886083873095\n",
            "energy_74: 0.7144508432757717\n",
            "energy_103: 0.7045837049562348\n",
            "energy_73: 0.6941665367788071\n",
            "energy_20: 0.6844098614477239\n",
            "energy_121: 0.6824016475395759\n",
            "energy_64: 0.6735808698639423\n",
            "energy_107: 0.6594201348044595\n",
            "energy_102: 0.6296887782985269\n",
            "energy_106: 0.5874114258254046\n",
            "energy_114: 0.5376412417120165\n",
            "energy_112: 0.5374750177438523\n",
            "energy_101: 0.5355794797011983\n",
            "energy_87: 0.49908586973084984\n",
            "energy_65: 0.4827415979986537\n",
            "energy_72: 0.47473497021194283\n",
            "threshold_time_70: 0.46267752071088775\n",
            "energy_75: 0.460594007787165\n",
            "energy_115: 0.4566963652193659\n",
            "energy_104: 0.44058127371464184\n",
            "energy_27: 0.4389113970616528\n",
            "energy_105: 0.42129542349528337\n",
            "energy_113: 0.390695517383482\n",
            "energy_135: 0.37818440181778634\n",
            "energy_110: 0.374545125064052\n",
            "threshold_time_140: 0.33133993730662686\n",
            "threshold_time_19: 0.3128925266506817\n",
            "threshold_time_93: 0.3017767234687689\n",
            "threshold_time_89: 0.29482976776662206\n",
            "energy_108: 0.29332287730567763\n",
            "threshold_time_82: 0.29140145559852954\n",
            "energy_10: 0.2884263586961244\n",
            "energy_119: 0.2867088569495848\n",
            "threshold_time_142: 0.284015360998173\n",
            "energy_26: 0.28018736226712804\n",
            "energy_111: 0.2775813321063271\n",
            "energy_15: 0.2752158863983409\n",
            "energy_28: 0.27326378927875655\n",
            "threshold_time_139: 0.2654991123145258\n",
            "energy_11: 0.26542882676546736\n",
            "energy_8: 0.2603062322354142\n",
            "energy_134: 0.2596723287151665\n",
            "threshold_time_122: 0.25960159499592717\n",
            "threshold_time_143: 0.25784223081202495\n",
            "energy_6: 0.25483946290949566\n",
            "energy_14: 0.2546733726073418\n",
            "energy_7: 0.25427926119021366\n",
            "threshold_time_141: 0.2537166839175031\n",
            "threshold_time_18: 0.2505886312837072\n",
            "energy_133: 0.2505335281338846\n",
            "energy_55: 0.2500439446092442\n",
            "energy_109: 0.22658158215074536\n",
            "threshold_time_92: 0.22518098993038352\n",
            "energy_132: 0.22497527138934922\n",
            "energy_13: 0.2249263461683555\n",
            "energy_24: 0.22160509361351324\n",
            "threshold_time_138: 0.21703370138863834\n",
            "threshold_time_81: 0.21349889722125417\n",
            "energy_131: 0.2096154643387916\n",
            "energy_29: 0.2034738756930241\n",
            "energy_12: 0.2032676526537081\n",
            "threshold_time_90: 0.20118291927531995\n",
            "energy_5: 0.19634258026744986\n",
            "threshold_time_126: 0.19147777275038444\n",
            "energy_25: 0.191105490827628\n",
            "energy_4: 0.1860046488458612\n",
            "threshold_time_128: 0.18536915262143608\n",
            "threshold_time_136: 0.18398031718452815\n",
            "threshold_time_86: 0.1815554410905421\n",
            "threshold_time_30: 0.17607916337607615\n",
            "energy_2: 0.17309851286736969\n",
            "threshold_time_87: 0.17115657578268625\n",
            "energy_35: 0.16983224702094357\n",
            "threshold_time_47: 0.16701550497394244\n",
            "threshold_time_107: 0.16659052069109972\n",
            "threshold_time_16: 0.166514701004901\n",
            "threshold_time_31: 0.1655841936227631\n",
            "threshold_time_71: 0.16294911338627963\n",
            "threshold_time_130: 0.16257979190764138\n",
            "threshold_time_23: 0.16211213873392102\n",
            "energy_54: 0.15668380497685747\n",
            "energy_34: 0.15568790756531875\n",
            "energy_53: 0.1531237008564051\n",
            "energy_129: 0.15272714588388886\n",
            "threshold_time_34: 0.14525963355982294\n",
            "threshold_time_28: 0.14409790228202257\n",
            "threshold_time_69: 0.14319598048466062\n",
            "threshold_time_75: 0.13960128209767128\n",
            "energy_32: 0.13406082867073163\n",
            "energy_130: 0.13188187044575078\n",
            "threshold_time_83: 0.13183266621175518\n",
            "energy_52: 0.1317422325755316\n",
            "energy_9: 0.13002150136499238\n",
            "threshold_time_80: 0.12850985015633345\n",
            "threshold_time_134: 0.12747954342301784\n",
            "threshold_time_72: 0.12590604011259138\n",
            "threshold_time_109: 0.12573670128791167\n",
            "threshold_time_33: 0.12556375578788143\n",
            "threshold_time_68: 0.12548293747553835\n",
            "threshold_time_95: 0.12143511577178447\n",
            "threshold_time_104: 0.1205938641297715\n",
            "threshold_time_84: 0.11898173887578051\n",
            "threshold_time_39: 0.11763743027693664\n",
            "threshold_time_125: 0.1173107179726167\n",
            "threshold_time_91: 0.11638339194615833\n",
            "energy_51: 0.11575223923496597\n",
            "threshold_time_10: 0.11451658676565024\n",
            "threshold_time_46: 0.11434272991666446\n",
            "threshold_time_105: 0.11274987354134902\n",
            "threshold_time_64: 0.11181148844944083\n",
            "threshold_time_35: 0.11146798869313185\n",
            "threshold_time_36: 0.11090458824296999\n",
            "threshold_time_137: 0.10727937599345139\n",
            "energy_116: 0.10689699625160716\n",
            "energy_33: 0.10599128088851717\n",
            "threshold_time_117: 0.10585023614181378\n",
            "threshold_time_43: 0.10505155901609489\n",
            "threshold_time_108: 0.10429820314868582\n",
            "energy_0: 0.10325515510911779\n",
            "energy_58: 0.10237944364736208\n",
            "threshold_time_42: 0.10147441435890744\n",
            "threshold_time_127: 0.10146536803610005\n",
            "threshold_time_56: 0.10000012443056663\n",
            "threshold_time_40: 0.09952635878312582\n",
            "energy_77: 0.0987258131262357\n",
            "threshold_time_27: 0.09862837830087266\n",
            "energy_50: 0.09757488087360532\n",
            "threshold_time_129: 0.09679795979230303\n",
            "energy_57: 0.09533218582115699\n",
            "threshold_time_100: 0.09522506611269758\n",
            "threshold_time_12: 0.09483710927362916\n",
            "threshold_time_124: 0.09312484079154201\n",
            "threshold_time_5: 0.09281059251844759\n",
            "energy_46: 0.09222845821650488\n",
            "energy_37: 0.09097958989275227\n",
            "threshold_time_74: 0.0907276896025569\n",
            "threshold_time_88: 0.08907609027644214\n",
            "threshold_time_11: 0.08608480060130994\n",
            "threshold_time_20: 0.08377964700803159\n",
            "threshold_time_6: 0.0827967341865296\n",
            "threshold_time_131: 0.08146727388807161\n",
            "threshold_time_120: 0.08132446184071786\n",
            "threshold_time_32: 0.0805373166695346\n",
            "threshold_time_22: 0.07861558951944404\n",
            "energy_56: 0.0778685172406543\n",
            "energy_76: 0.07691867892502675\n",
            "threshold_time_26: 0.07618730942501833\n",
            "threshold_time_21: 0.07506729043566651\n",
            "threshold_time_38: 0.07429213415989583\n",
            "threshold_time_102: 0.07330066840506166\n",
            "threshold_time_123: 0.07283178746577255\n",
            "energy_3: 0.07257559562328178\n",
            "energy_31: 0.07172626382850573\n",
            "threshold_time_9: 0.071637805588802\n",
            "threshold_time_94: 0.07146036164016786\n",
            "threshold_time_17: 0.07009560864781501\n",
            "energy_59: 0.07002898185689692\n",
            "threshold_time_103: 0.06927879315577856\n",
            "threshold_time_57: 0.06798905753555626\n",
            "threshold_time_111: 0.0670895956001649\n",
            "threshold_time_85: 0.06692840339026439\n",
            "threshold_time_65: 0.06667484014850353\n",
            "threshold_time_13: 0.06643813085032985\n",
            "energy_30: 0.06618533705714714\n",
            "threshold_time_96: 0.06591734302063451\n",
            "energy_44: 0.06501135351994092\n",
            "threshold_time_45: 0.06437074698142914\n",
            "energy_117: 0.06395466779520573\n",
            "energy_118: 0.06318835653290923\n",
            "threshold_time_15: 0.06280253580962332\n",
            "threshold_time_1: 0.06267001509607119\n",
            "threshold_time_67: 0.062366414717691124\n",
            "threshold_time_99: 0.06203852311166175\n",
            "threshold_time_119: 0.06094377885618093\n",
            "threshold_time_97: 0.060304395305584076\n",
            "threshold_time_121: 0.060218444147534106\n",
            "threshold_time_29: 0.060068563519500545\n",
            "energy_41: 0.059754296684348215\n",
            "threshold_time_101: 0.05875858354054043\n",
            "threshold_time_59: 0.05869805652432347\n",
            "threshold_time_98: 0.058605329424651575\n",
            "energy_47: 0.05624470823357695\n",
            "threshold_time_0: 0.05574517669979445\n",
            "energy_42: 0.055406520706485704\n",
            "threshold_time_37: 0.054795119164332044\n",
            "threshold_time_115: 0.05352494704069215\n",
            "threshold_time_66: 0.05349511263562276\n",
            "energy_43: 0.05300492931080351\n",
            "threshold_time_135: 0.052913724075568026\n",
            "threshold_time_132: 0.05262395961297459\n",
            "energy_45: 0.052481284949057565\n",
            "threshold_time_113: 0.05231757722472019\n",
            "threshold_time_25: 0.05197912019166189\n",
            "energy_39: 0.05083550478194351\n",
            "threshold_time_44: 0.05077526377964457\n",
            "threshold_time_116: 0.049842599937959434\n",
            "threshold_time_133: 0.049544584926957146\n",
            "energy_38: 0.04876529950143297\n",
            "threshold_time_14: 0.046925855979934046\n",
            "energy_40: 0.04687097517031486\n",
            "threshold_time_118: 0.04622004696103549\n",
            "threshold_time_7: 0.04621385210475155\n",
            "threshold_time_52: 0.043764902352912124\n",
            "threshold_time_58: 0.04375562353772472\n",
            "threshold_time_41: 0.043366425113325315\n",
            "threshold_time_3: 0.04306384208239289\n",
            "threshold_time_55: 0.040062967577462194\n",
            "energy_78: 0.039851345522233066\n",
            "threshold_time_110: 0.03959897438508361\n",
            "energy_36: 0.03690460006390333\n",
            "threshold_time_106: 0.03664586774105236\n",
            "energy_1: 0.03595638093023859\n",
            "energy_128: 0.03267419472604407\n",
            "threshold_time_54: 0.03185859764924494\n",
            "energy_79: 0.03174627408307866\n",
            "threshold_time_8: 0.03161149959512542\n",
            "threshold_time_73: 0.030944045218501498\n",
            "threshold_time_53: 0.029881393224862378\n",
            "threshold_time_2: 0.028122197163595198\n",
            "threshold_time_24: 0.025307728118586347\n",
            "threshold_time_4: 0.02183796938560448\n",
            "threshold_time_114: 0.021653890682108413\n",
            "threshold_time_78: 0.02146645149305032\n",
            "energy_49: 0.020540949167441775\n",
            "threshold_time_77: 0.017955076931782832\n",
            "energy_60: 0.01478640382705998\n",
            "threshold_time_61: 0.01473227225590894\n",
            "threshold_time_76: 0.014489281677542728\n",
            "n_muons: 0.012248878146889158\n",
            "threshold_time_112: 0.011548260954958414\n",
            "threshold_time_62: 0.008220411623310265\n",
            "energy_63: 0.007354490037658037\n",
            "threshold_time_48: 0.007164666432096174\n",
            "energy_61: 0.007076902907554748\n",
            "threshold_time_79: 0.006780793843008649\n",
            "energy_48: 0.005078288740605166\n",
            "threshold_time_63: 0.004460723507264612\n",
            "threshold_time_60: 0.0029568334491492944\n",
            "threshold_time_51: 0.002118507976245575\n",
            "energy_62: 0.0018847040870306037\n",
            "threshold_time_49: 0.0016340742328839297\n",
            "threshold_time_50: 0.0011947394797318849\n",
            "primary_particle: 0.0\n"
          ]
        }
      ]
    }
  ],
  "metadata": {
    "language_info": {
      "name": "python"
    },
    "colab": {
      "provenance": [],
      "gpuType": "T4"
    },
    "kernelspec": {
      "name": "python3",
      "display_name": "Python 3"
    },
    "accelerator": "GPU",
    "widgets": {
      "application/vnd.jupyter.widget-state+json": {
        "c937a3f9c422455a8c72bd753a0fd808": {
          "model_module": "catboost-widget",
          "model_name": "CatboostWidgetModel",
          "model_module_version": "^1.0.0",
          "state": {
            "_dom_classes": [],
            "_model_module": "catboost-widget",
            "_model_module_version": "^1.0.0",
            "_model_name": "CatboostWidgetModel",
            "_view_count": null,
            "_view_module": "catboost-widget",
            "_view_module_version": "^1.0.0",
            "_view_name": "CatboostWidgetView",
            "data": {
              "catboost_info": {
                "path": "catboost_info",
                "name": "catboost_info",
                "content": {
                  "passed_iterations": 999,
                  "total_iterations": 1000,
                  "data": {
                    "iterations": [
                      {
                        "learn": [
                          46.27365773
                        ],
                        "iteration": 0,
                        "passed_time": 0.1393538812,
                        "remaining_time": 139.2145274,
                        "test": [
                          46.33120331
                        ]
                      },
                      {
                        "learn": [
                          45.65619564
                        ],
                        "iteration": 1,
                        "passed_time": 0.2418128734,
                        "remaining_time": 120.6646238,
                        "test": [
                          45.72045275
                        ]
                      },
                      {
                        "learn": [
                          45.04908434
                        ],
                        "iteration": 2,
                        "passed_time": 0.3919122108,
                        "remaining_time": 130.2454914,
                        "test": [
                          45.11779915
                        ]
                      },
                      {
                        "learn": [
                          44.45650684
                        ],
                        "iteration": 3,
                        "passed_time": 0.5018449489,
                        "remaining_time": 124.9593923,
                        "test": [
                          44.53174373
                        ]
                      },
                      {
                        "learn": [
                          43.88449612
                        ],
                        "iteration": 4,
                        "passed_time": 0.6185565723,
                        "remaining_time": 123.0927579,
                        "test": [
                          43.95775472
                        ]
                      },
                      {
                        "learn": [
                          43.33717573
                        ],
                        "iteration": 5,
                        "passed_time": 0.7187314392,
                        "remaining_time": 119.0698418,
                        "test": [
                          43.41508954
                        ]
                      },
                      {
                        "learn": [
                          42.79684801
                        ],
                        "iteration": 6,
                        "passed_time": 0.8356199157,
                        "remaining_time": 118.5386538,
                        "test": [
                          42.87815061
                        ]
                      },
                      {
                        "learn": [
                          42.27871332
                        ],
                        "iteration": 7,
                        "passed_time": 0.9554585856,
                        "remaining_time": 118.4768646,
                        "test": [
                          42.36289886
                        ]
                      },
                      {
                        "learn": [
                          41.77232577
                        ],
                        "iteration": 8,
                        "passed_time": 1.108514669,
                        "remaining_time": 122.0597819,
                        "test": [
                          41.86210458
                        ]
                      },
                      {
                        "learn": [
                          41.2774006
                        ],
                        "iteration": 9,
                        "passed_time": 1.265683673,
                        "remaining_time": 125.3026836,
                        "test": [
                          41.37531631
                        ]
                      },
                      {
                        "learn": [
                          40.8019975
                        ],
                        "iteration": 10,
                        "passed_time": 1.402094451,
                        "remaining_time": 126.0610375,
                        "test": [
                          40.89920537
                        ]
                      },
                      {
                        "learn": [
                          40.34331667
                        ],
                        "iteration": 11,
                        "passed_time": 1.50008678,
                        "remaining_time": 123.5071449,
                        "test": [
                          40.44240596
                        ]
                      },
                      {
                        "learn": [
                          39.89279133
                        ],
                        "iteration": 12,
                        "passed_time": 1.628429721,
                        "remaining_time": 123.6353949,
                        "test": [
                          39.99301314
                        ]
                      },
                      {
                        "learn": [
                          39.45567513
                        ],
                        "iteration": 13,
                        "passed_time": 1.786130738,
                        "remaining_time": 125.7946363,
                        "test": [
                          39.56288918
                        ]
                      },
                      {
                        "learn": [
                          39.03244932
                        ],
                        "iteration": 14,
                        "passed_time": 1.898483986,
                        "remaining_time": 124.6671151,
                        "test": [
                          39.14155592
                        ]
                      },
                      {
                        "learn": [
                          38.61475107
                        ],
                        "iteration": 15,
                        "passed_time": 1.99530199,
                        "remaining_time": 122.7110724,
                        "test": [
                          38.72962432
                        ]
                      },
                      {
                        "learn": [
                          38.21470659
                        ],
                        "iteration": 16,
                        "passed_time": 2.153732288,
                        "remaining_time": 124.5364023,
                        "test": [
                          38.33310449
                        ]
                      },
                      {
                        "learn": [
                          37.82141986
                        ],
                        "iteration": 17,
                        "passed_time": 2.295982486,
                        "remaining_time": 125.2586001,
                        "test": [
                          37.94280169
                        ]
                      },
                      {
                        "learn": [
                          37.4377924
                        ],
                        "iteration": 18,
                        "passed_time": 2.427738947,
                        "remaining_time": 125.3479951,
                        "test": [
                          37.56179841
                        ]
                      },
                      {
                        "learn": [
                          37.05927414
                        ],
                        "iteration": 19,
                        "passed_time": 2.546669727,
                        "remaining_time": 124.7868166,
                        "test": [
                          37.18800075
                        ]
                      },
                      {
                        "learn": [
                          36.69486068
                        ],
                        "iteration": 20,
                        "passed_time": 2.698722923,
                        "remaining_time": 125.8118925,
                        "test": [
                          36.82514766
                        ]
                      },
                      {
                        "learn": [
                          36.34274205
                        ],
                        "iteration": 21,
                        "passed_time": 2.838617866,
                        "remaining_time": 126.1894669,
                        "test": [
                          36.47543557
                        ]
                      },
                      {
                        "learn": [
                          35.99516634
                        ],
                        "iteration": 22,
                        "passed_time": 2.957355797,
                        "remaining_time": 125.623331,
                        "test": [
                          36.13323539
                        ]
                      },
                      {
                        "learn": [
                          35.65787991
                        ],
                        "iteration": 23,
                        "passed_time": 3.075487856,
                        "remaining_time": 125.0698395,
                        "test": [
                          35.79844829
                        ]
                      },
                      {
                        "learn": [
                          35.33041324
                        ],
                        "iteration": 24,
                        "passed_time": 3.221613892,
                        "remaining_time": 125.6429418,
                        "test": [
                          35.47604967
                        ]
                      },
                      {
                        "learn": [
                          35.00933018
                        ],
                        "iteration": 25,
                        "passed_time": 3.488599152,
                        "remaining_time": 130.6882913,
                        "test": [
                          35.15990188
                        ]
                      },
                      {
                        "learn": [
                          34.70109652
                        ],
                        "iteration": 26,
                        "passed_time": 3.759227557,
                        "remaining_time": 135.4714227,
                        "test": [
                          34.85390939
                        ]
                      },
                      {
                        "learn": [
                          34.39901888
                        ],
                        "iteration": 27,
                        "passed_time": 4.048915023,
                        "remaining_time": 140.5551929,
                        "test": [
                          34.55413723
                        ]
                      },
                      {
                        "learn": [
                          34.10303652
                        ],
                        "iteration": 28,
                        "passed_time": 4.269945912,
                        "remaining_time": 142.9695683,
                        "test": [
                          34.26420289
                        ]
                      },
                      {
                        "learn": [
                          33.8123853
                        ],
                        "iteration": 29,
                        "passed_time": 4.368793395,
                        "remaining_time": 141.2576531,
                        "test": [
                          33.98066509
                        ]
                      },
                      {
                        "learn": [
                          33.5303564
                        ],
                        "iteration": 30,
                        "passed_time": 4.453416446,
                        "remaining_time": 139.2051786,
                        "test": [
                          33.70293162
                        ]
                      },
                      {
                        "learn": [
                          33.25713758
                        ],
                        "iteration": 31,
                        "passed_time": 4.588206782,
                        "remaining_time": 138.7932552,
                        "test": [
                          33.43526731
                        ]
                      },
                      {
                        "learn": [
                          32.9903304
                        ],
                        "iteration": 32,
                        "passed_time": 4.733477436,
                        "remaining_time": 138.7052327,
                        "test": [
                          33.17309
                        ]
                      },
                      {
                        "learn": [
                          32.73273896
                        ],
                        "iteration": 33,
                        "passed_time": 4.842648581,
                        "remaining_time": 137.588192,
                        "test": [
                          32.91972053
                        ]
                      },
                      {
                        "learn": [
                          32.47798639
                        ],
                        "iteration": 34,
                        "passed_time": 4.957363155,
                        "remaining_time": 136.6815841,
                        "test": [
                          32.66431539
                        ]
                      },
                      {
                        "learn": [
                          32.22967111
                        ],
                        "iteration": 35,
                        "passed_time": 5.074731614,
                        "remaining_time": 135.8900354,
                        "test": [
                          32.41600376
                        ]
                      },
                      {
                        "learn": [
                          31.98811811
                        ],
                        "iteration": 36,
                        "passed_time": 5.190941779,
                        "remaining_time": 135.104782,
                        "test": [
                          32.17801423
                        ]
                      },
                      {
                        "learn": [
                          31.75298254
                        ],
                        "iteration": 37,
                        "passed_time": 5.293014572,
                        "remaining_time": 133.9968426,
                        "test": [
                          31.94907667
                        ]
                      },
                      {
                        "learn": [
                          31.52460943
                        ],
                        "iteration": 38,
                        "passed_time": 5.397393265,
                        "remaining_time": 132.9973058,
                        "test": [
                          31.72664495
                        ]
                      },
                      {
                        "learn": [
                          31.30174596
                        ],
                        "iteration": 39,
                        "passed_time": 5.508059723,
                        "remaining_time": 132.1934333,
                        "test": [
                          31.50572964
                        ]
                      },
                      {
                        "learn": [
                          31.08500442
                        ],
                        "iteration": 40,
                        "passed_time": 5.604039015,
                        "remaining_time": 131.0798394,
                        "test": [
                          31.29262852
                        ]
                      },
                      {
                        "learn": [
                          30.87289264
                        ],
                        "iteration": 41,
                        "passed_time": 5.701092712,
                        "remaining_time": 130.03921,
                        "test": [
                          31.08499477
                        ]
                      },
                      {
                        "learn": [
                          30.66730181
                        ],
                        "iteration": 42,
                        "passed_time": 5.812276454,
                        "remaining_time": 129.3569434,
                        "test": [
                          30.88365425
                        ]
                      },
                      {
                        "learn": [
                          30.46562325
                        ],
                        "iteration": 43,
                        "passed_time": 5.887287797,
                        "remaining_time": 127.9147076,
                        "test": [
                          30.68443742
                        ]
                      },
                      {
                        "learn": [
                          30.26831016
                        ],
                        "iteration": 44,
                        "passed_time": 6.038656684,
                        "remaining_time": 128.1537141,
                        "test": [
                          30.4881518
                        ]
                      },
                      {
                        "learn": [
                          30.07736524
                        ],
                        "iteration": 45,
                        "passed_time": 6.134535759,
                        "remaining_time": 127.2249373,
                        "test": [
                          30.29711867
                        ]
                      },
                      {
                        "learn": [
                          29.88910002
                        ],
                        "iteration": 46,
                        "passed_time": 6.260217409,
                        "remaining_time": 126.9358977,
                        "test": [
                          30.11235959
                        ]
                      },
                      {
                        "learn": [
                          29.70448114
                        ],
                        "iteration": 47,
                        "passed_time": 6.366877417,
                        "remaining_time": 126.2764021,
                        "test": [
                          29.93334595
                        ]
                      },
                      {
                        "learn": [
                          29.5218851
                        ],
                        "iteration": 48,
                        "passed_time": 6.473766775,
                        "remaining_time": 125.6439225,
                        "test": [
                          29.75455595
                        ]
                      },
                      {
                        "learn": [
                          29.3467051
                        ],
                        "iteration": 49,
                        "passed_time": 6.578973292,
                        "remaining_time": 125.0004925,
                        "test": [
                          29.58188297
                        ]
                      },
                      {
                        "learn": [
                          29.179366
                        ],
                        "iteration": 50,
                        "passed_time": 6.707738336,
                        "remaining_time": 124.8165428,
                        "test": [
                          29.41437404
                        ]
                      },
                      {
                        "learn": [
                          29.00904686
                        ],
                        "iteration": 51,
                        "passed_time": 6.799801113,
                        "remaining_time": 123.9656049,
                        "test": [
                          29.2450218
                        ]
                      },
                      {
                        "learn": [
                          28.84874434
                        ],
                        "iteration": 52,
                        "passed_time": 6.88880728,
                        "remaining_time": 123.0886886,
                        "test": [
                          29.08673237
                        ]
                      },
                      {
                        "learn": [
                          28.68762277
                        ],
                        "iteration": 53,
                        "passed_time": 6.972654234,
                        "remaining_time": 122.1505723,
                        "test": [
                          28.92901225
                        ]
                      },
                      {
                        "learn": [
                          28.52731498
                        ],
                        "iteration": 54,
                        "passed_time": 7.056195163,
                        "remaining_time": 121.2382623,
                        "test": [
                          28.77176046
                        ]
                      },
                      {
                        "learn": [
                          28.37565065
                        ],
                        "iteration": 55,
                        "passed_time": 7.156469015,
                        "remaining_time": 120.6376205,
                        "test": [
                          28.62213304
                        ]
                      },
                      {
                        "learn": [
                          28.22902584
                        ],
                        "iteration": 56,
                        "passed_time": 7.242786534,
                        "remaining_time": 119.8236439,
                        "test": [
                          28.47291696
                        ]
                      },
                      {
                        "learn": [
                          28.08425983
                        ],
                        "iteration": 57,
                        "passed_time": 7.331012216,
                        "remaining_time": 119.0657501,
                        "test": [
                          28.32826768
                        ]
                      },
                      {
                        "learn": [
                          27.93875713
                        ],
                        "iteration": 58,
                        "passed_time": 7.413484605,
                        "remaining_time": 118.2387968,
                        "test": [
                          28.18608788
                        ]
                      },
                      {
                        "learn": [
                          27.80286046
                        ],
                        "iteration": 59,
                        "passed_time": 7.503147403,
                        "remaining_time": 117.5493093,
                        "test": [
                          28.04973529
                        ]
                      },
                      {
                        "learn": [
                          27.66662339
                        ],
                        "iteration": 60,
                        "passed_time": 7.590260523,
                        "remaining_time": 116.8402398,
                        "test": [
                          27.91486432
                        ]
                      },
                      {
                        "learn": [
                          27.53015619
                        ],
                        "iteration": 61,
                        "passed_time": 7.689061737,
                        "remaining_time": 116.3280631,
                        "test": [
                          27.77941234
                        ]
                      },
                      {
                        "learn": [
                          27.39834119
                        ],
                        "iteration": 62,
                        "passed_time": 7.777203008,
                        "remaining_time": 115.6704638,
                        "test": [
                          27.6457022
                        ]
                      },
                      {
                        "learn": [
                          27.26817192
                        ],
                        "iteration": 63,
                        "passed_time": 7.857741395,
                        "remaining_time": 114.9194679,
                        "test": [
                          27.51764434
                        ]
                      },
                      {
                        "learn": [
                          27.1442038
                        ],
                        "iteration": 64,
                        "passed_time": 7.936151584,
                        "remaining_time": 114.1584882,
                        "test": [
                          27.39492928
                        ]
                      },
                      {
                        "learn": [
                          27.0216478
                        ],
                        "iteration": 65,
                        "passed_time": 8.019087848,
                        "remaining_time": 113.4822432,
                        "test": [
                          27.27275655
                        ]
                      },
                      {
                        "learn": [
                          26.90329069
                        ],
                        "iteration": 66,
                        "passed_time": 8.099213335,
                        "remaining_time": 112.7845678,
                        "test": [
                          27.15675422
                        ]
                      },
                      {
                        "learn": [
                          26.7872843
                        ],
                        "iteration": 67,
                        "passed_time": 8.18074242,
                        "remaining_time": 112.1242932,
                        "test": [
                          27.04032822
                        ]
                      },
                      {
                        "learn": [
                          26.67457966
                        ],
                        "iteration": 68,
                        "passed_time": 8.264201565,
                        "remaining_time": 111.5068356,
                        "test": [
                          26.9285629
                        ]
                      },
                      {
                        "learn": [
                          26.56526115
                        ],
                        "iteration": 69,
                        "passed_time": 8.349644121,
                        "remaining_time": 110.9309862,
                        "test": [
                          26.81962528
                        ]
                      },
                      {
                        "learn": [
                          26.4605291
                        ],
                        "iteration": 70,
                        "passed_time": 8.3991932,
                        "remaining_time": 109.8993026,
                        "test": [
                          26.71531302
                        ]
                      },
                      {
                        "learn": [
                          26.34916033
                        ],
                        "iteration": 71,
                        "passed_time": 8.432204821,
                        "remaining_time": 108.681751,
                        "test": [
                          26.60464433
                        ]
                      },
                      {
                        "learn": [
                          26.2406612
                        ],
                        "iteration": 72,
                        "passed_time": 8.462661057,
                        "remaining_time": 107.4642027,
                        "test": [
                          26.49646392
                        ]
                      },
                      {
                        "learn": [
                          26.1382268
                        ],
                        "iteration": 73,
                        "passed_time": 8.495337379,
                        "remaining_time": 106.3065191,
                        "test": [
                          26.39351435
                        ]
                      },
                      {
                        "learn": [
                          26.03697851
                        ],
                        "iteration": 74,
                        "passed_time": 8.526045758,
                        "remaining_time": 105.1545644,
                        "test": [
                          26.29237817
                        ]
                      },
                      {
                        "learn": [
                          25.94035563
                        ],
                        "iteration": 75,
                        "passed_time": 8.556912514,
                        "remaining_time": 104.0340416,
                        "test": [
                          26.19445647
                        ]
                      },
                      {
                        "learn": [
                          25.84251536
                        ],
                        "iteration": 76,
                        "passed_time": 8.587817178,
                        "remaining_time": 102.942276,
                        "test": [
                          26.09752479
                        ]
                      },
                      {
                        "learn": [
                          25.74568119
                        ],
                        "iteration": 77,
                        "passed_time": 8.617958686,
                        "remaining_time": 101.8686911,
                        "test": [
                          26.00095671
                        ]
                      },
                      {
                        "learn": [
                          25.65154284
                        ],
                        "iteration": 78,
                        "passed_time": 8.640146356,
                        "remaining_time": 100.7287949,
                        "test": [
                          25.90839825
                        ]
                      },
                      {
                        "learn": [
                          25.56076779
                        ],
                        "iteration": 79,
                        "passed_time": 8.661522224,
                        "remaining_time": 99.60750557,
                        "test": [
                          25.82083364
                        ]
                      },
                      {
                        "learn": [
                          25.46957106
                        ],
                        "iteration": 80,
                        "passed_time": 8.683673899,
                        "remaining_time": 98.52217671,
                        "test": [
                          25.7288554
                        ]
                      },
                      {
                        "learn": [
                          25.37959417
                        ],
                        "iteration": 81,
                        "passed_time": 8.709764202,
                        "remaining_time": 97.5068724,
                        "test": [
                          25.64036076
                        ]
                      },
                      {
                        "learn": [
                          25.28969454
                        ],
                        "iteration": 82,
                        "passed_time": 8.749728167,
                        "remaining_time": 96.66868348,
                        "test": [
                          25.55195785
                        ]
                      },
                      {
                        "learn": [
                          25.20509671
                        ],
                        "iteration": 83,
                        "passed_time": 8.770953504,
                        "remaining_time": 95.64515964,
                        "test": [
                          25.46913426
                        ]
                      },
                      {
                        "learn": [
                          25.11904457
                        ],
                        "iteration": 84,
                        "passed_time": 8.791739623,
                        "remaining_time": 94.64049124,
                        "test": [
                          25.38403632
                        ]
                      },
                      {
                        "learn": [
                          25.03636555
                        ],
                        "iteration": 85,
                        "passed_time": 8.812636377,
                        "remaining_time": 93.65987963,
                        "test": [
                          25.30309368
                        ]
                      },
                      {
                        "learn": [
                          24.95770021
                        ],
                        "iteration": 86,
                        "passed_time": 8.834048203,
                        "remaining_time": 92.70673574,
                        "test": [
                          25.22313026
                        ]
                      },
                      {
                        "learn": [
                          24.88122585
                        ],
                        "iteration": 87,
                        "passed_time": 8.854814402,
                        "remaining_time": 91.76807653,
                        "test": [
                          25.14642519
                        ]
                      },
                      {
                        "learn": [
                          24.80314597
                        ],
                        "iteration": 88,
                        "passed_time": 8.874066212,
                        "remaining_time": 90.83454291,
                        "test": [
                          25.06929995
                        ]
                      },
                      {
                        "learn": [
                          24.72707019
                        ],
                        "iteration": 89,
                        "passed_time": 8.895521245,
                        "remaining_time": 89.9436037,
                        "test": [
                          24.99577664
                        ]
                      },
                      {
                        "learn": [
                          24.65639674
                        ],
                        "iteration": 90,
                        "passed_time": 8.913597608,
                        "remaining_time": 89.03802446,
                        "test": [
                          24.92519408
                        ]
                      },
                      {
                        "learn": [
                          24.58096926
                        ],
                        "iteration": 91,
                        "passed_time": 8.934792777,
                        "remaining_time": 88.18252002,
                        "test": [
                          24.84834602
                        ]
                      },
                      {
                        "learn": [
                          24.50868214
                        ],
                        "iteration": 92,
                        "passed_time": 8.956210243,
                        "remaining_time": 87.3471257,
                        "test": [
                          24.77568163
                        ]
                      },
                      {
                        "learn": [
                          24.43655663
                        ],
                        "iteration": 93,
                        "passed_time": 8.976905764,
                        "remaining_time": 86.52209173,
                        "test": [
                          24.70454513
                        ]
                      },
                      {
                        "learn": [
                          24.36342238
                        ],
                        "iteration": 94,
                        "passed_time": 8.998187334,
                        "remaining_time": 85.71957408,
                        "test": [
                          24.63419676
                        ]
                      },
                      {
                        "learn": [
                          24.2966119
                        ],
                        "iteration": 95,
                        "passed_time": 9.017662369,
                        "remaining_time": 84.91632064,
                        "test": [
                          24.56816639
                        ]
                      },
                      {
                        "learn": [
                          24.23087184
                        ],
                        "iteration": 96,
                        "passed_time": 9.038430195,
                        "remaining_time": 84.14126254,
                        "test": [
                          24.50141527
                        ]
                      },
                      {
                        "learn": [
                          24.16548882
                        ],
                        "iteration": 97,
                        "passed_time": 9.057336639,
                        "remaining_time": 83.3644658,
                        "test": [
                          24.43609421
                        ]
                      },
                      {
                        "learn": [
                          24.10121677
                        ],
                        "iteration": 98,
                        "passed_time": 9.078543616,
                        "remaining_time": 82.62391715,
                        "test": [
                          24.37375843
                        ]
                      },
                      {
                        "learn": [
                          24.03633604
                        ],
                        "iteration": 99,
                        "passed_time": 9.099790014,
                        "remaining_time": 81.89811013,
                        "test": [
                          24.3094097
                        ]
                      },
                      {
                        "learn": [
                          23.97345928
                        ],
                        "iteration": 100,
                        "passed_time": 9.131223939,
                        "remaining_time": 81.27693387,
                        "test": [
                          24.24898864
                        ]
                      },
                      {
                        "learn": [
                          23.9118548
                        ],
                        "iteration": 101,
                        "passed_time": 9.149676306,
                        "remaining_time": 80.55303258,
                        "test": [
                          24.18638357
                        ]
                      },
                      {
                        "learn": [
                          23.85115616
                        ],
                        "iteration": 102,
                        "passed_time": 9.170255303,
                        "remaining_time": 79.86134958,
                        "test": [
                          24.12718073
                        ]
                      },
                      {
                        "learn": [
                          23.7948755
                        ],
                        "iteration": 103,
                        "passed_time": 9.188252637,
                        "remaining_time": 79.16033041,
                        "test": [
                          24.07120687
                        ]
                      },
                      {
                        "learn": [
                          23.74066237
                        ],
                        "iteration": 104,
                        "passed_time": 9.206534567,
                        "remaining_time": 78.47474703,
                        "test": [
                          24.01654742
                        ]
                      },
                      {
                        "learn": [
                          23.68797269
                        ],
                        "iteration": 105,
                        "passed_time": 9.225230971,
                        "remaining_time": 77.80524989,
                        "test": [
                          23.96395418
                        ]
                      },
                      {
                        "learn": [
                          23.62618674
                        ],
                        "iteration": 106,
                        "passed_time": 9.246299222,
                        "remaining_time": 77.1677122,
                        "test": [
                          23.9031546
                        ]
                      },
                      {
                        "learn": [
                          23.5672474
                        ],
                        "iteration": 107,
                        "passed_time": 9.266876725,
                        "remaining_time": 76.5375374,
                        "test": [
                          23.84363227
                        ]
                      },
                      {
                        "learn": [
                          23.51086345
                        ],
                        "iteration": 108,
                        "passed_time": 9.28775666,
                        "remaining_time": 75.92102004,
                        "test": [
                          23.78542201
                        ]
                      },
                      {
                        "learn": [
                          23.45440364
                        ],
                        "iteration": 109,
                        "passed_time": 9.309768065,
                        "remaining_time": 75.32448707,
                        "test": [
                          23.73029288
                        ]
                      },
                      {
                        "learn": [
                          23.3981901
                        ],
                        "iteration": 110,
                        "passed_time": 9.333699629,
                        "remaining_time": 74.75368442,
                        "test": [
                          23.6726002
                        ]
                      },
                      {
                        "learn": [
                          23.34528432
                        ],
                        "iteration": 111,
                        "passed_time": 9.355322068,
                        "remaining_time": 74.17433925,
                        "test": [
                          23.62073454
                        ]
                      },
                      {
                        "learn": [
                          23.29096928
                        ],
                        "iteration": 112,
                        "passed_time": 9.377531239,
                        "remaining_time": 73.60947088,
                        "test": [
                          23.56521165
                        ]
                      },
                      {
                        "learn": [
                          23.23678764
                        ],
                        "iteration": 113,
                        "passed_time": 9.398946186,
                        "remaining_time": 73.04795018,
                        "test": [
                          23.50985006
                        ]
                      },
                      {
                        "learn": [
                          23.18947822
                        ],
                        "iteration": 114,
                        "passed_time": 9.417640001,
                        "remaining_time": 72.47488175,
                        "test": [
                          23.46206832
                        ]
                      },
                      {
                        "learn": [
                          23.13864949
                        ],
                        "iteration": 115,
                        "passed_time": 9.438188766,
                        "remaining_time": 71.9255075,
                        "test": [
                          23.41269207
                        ]
                      },
                      {
                        "learn": [
                          23.08739158
                        ],
                        "iteration": 116,
                        "passed_time": 9.46144878,
                        "remaining_time": 71.40563481,
                        "test": [
                          23.36099313
                        ]
                      },
                      {
                        "learn": [
                          23.0384114
                        ],
                        "iteration": 117,
                        "passed_time": 9.48251559,
                        "remaining_time": 70.87778602,
                        "test": [
                          23.31248592
                        ]
                      },
                      {
                        "learn": [
                          22.98858847
                        ],
                        "iteration": 118,
                        "passed_time": 9.503085966,
                        "remaining_time": 70.3547793,
                        "test": [
                          23.26316939
                        ]
                      },
                      {
                        "learn": [
                          22.94390878
                        ],
                        "iteration": 119,
                        "passed_time": 9.521721534,
                        "remaining_time": 69.82595792,
                        "test": [
                          23.21853247
                        ]
                      },
                      {
                        "learn": [
                          22.90042467
                        ],
                        "iteration": 120,
                        "passed_time": 9.540093672,
                        "remaining_time": 69.30365568,
                        "test": [
                          23.17430905
                        ]
                      },
                      {
                        "learn": [
                          22.85463848
                        ],
                        "iteration": 121,
                        "passed_time": 9.560589052,
                        "remaining_time": 68.80489498,
                        "test": [
                          23.12761877
                        ]
                      },
                      {
                        "learn": [
                          22.80817945
                        ],
                        "iteration": 122,
                        "passed_time": 9.582477616,
                        "remaining_time": 68.32384447,
                        "test": [
                          23.08218361
                        ]
                      },
                      {
                        "learn": [
                          22.76853201
                        ],
                        "iteration": 123,
                        "passed_time": 9.601661106,
                        "remaining_time": 67.83108975,
                        "test": [
                          23.04241849
                        ]
                      },
                      {
                        "learn": [
                          22.7245726
                        ],
                        "iteration": 124,
                        "passed_time": 9.623487376,
                        "remaining_time": 67.36441163,
                        "test": [
                          22.99743247
                        ]
                      },
                      {
                        "learn": [
                          22.68473165
                        ],
                        "iteration": 125,
                        "passed_time": 9.642011959,
                        "remaining_time": 66.88189248,
                        "test": [
                          22.95935866
                        ]
                      },
                      {
                        "learn": [
                          22.64099711
                        ],
                        "iteration": 126,
                        "passed_time": 9.662977987,
                        "remaining_time": 66.42346286,
                        "test": [
                          22.91620278
                        ]
                      },
                      {
                        "learn": [
                          22.6031281
                        ],
                        "iteration": 127,
                        "passed_time": 9.683480392,
                        "remaining_time": 65.96871017,
                        "test": [
                          22.8790898
                        ]
                      },
                      {
                        "learn": [
                          22.56175082
                        ],
                        "iteration": 128,
                        "passed_time": 9.703352803,
                        "remaining_time": 65.51643637,
                        "test": [
                          22.8378622
                        ]
                      },
                      {
                        "learn": [
                          22.51998335
                        ],
                        "iteration": 129,
                        "passed_time": 9.724209687,
                        "remaining_time": 65.07740329,
                        "test": [
                          22.79641858
                        ]
                      },
                      {
                        "learn": [
                          22.47993439
                        ],
                        "iteration": 130,
                        "passed_time": 9.764039953,
                        "remaining_time": 64.77061618,
                        "test": [
                          22.75783382
                        ]
                      },
                      {
                        "learn": [
                          22.44536812
                        ],
                        "iteration": 131,
                        "passed_time": 9.783814741,
                        "remaining_time": 64.3359939,
                        "test": [
                          22.72292015
                        ]
                      },
                      {
                        "learn": [
                          22.40345732
                        ],
                        "iteration": 132,
                        "passed_time": 9.803913022,
                        "remaining_time": 63.90971872,
                        "test": [
                          22.68252521
                        ]
                      },
                      {
                        "learn": [
                          22.36358983
                        ],
                        "iteration": 133,
                        "passed_time": 9.825680238,
                        "remaining_time": 63.50029168,
                        "test": [
                          22.64320317
                        ]
                      },
                      {
                        "learn": [
                          22.3313468
                        ],
                        "iteration": 134,
                        "passed_time": 9.848785307,
                        "remaining_time": 63.10517993,
                        "test": [
                          22.61010172
                        ]
                      },
                      {
                        "learn": [
                          22.29588976
                        ],
                        "iteration": 135,
                        "passed_time": 9.868407502,
                        "remaining_time": 62.69341237,
                        "test": [
                          22.5739806
                        ]
                      },
                      {
                        "learn": [
                          22.25866236
                        ],
                        "iteration": 136,
                        "passed_time": 9.888887407,
                        "remaining_time": 62.2927725,
                        "test": [
                          22.53665126
                        ]
                      },
                      {
                        "learn": [
                          22.22764158
                        ],
                        "iteration": 137,
                        "passed_time": 9.907297354,
                        "remaining_time": 61.88471246,
                        "test": [
                          22.50459842
                        ]
                      },
                      {
                        "learn": [
                          22.19048445
                        ],
                        "iteration": 138,
                        "passed_time": 9.928435242,
                        "remaining_time": 61.49915643,
                        "test": [
                          22.46667198
                        ]
                      },
                      {
                        "learn": [
                          22.15501072
                        ],
                        "iteration": 139,
                        "passed_time": 9.949823093,
                        "remaining_time": 61.12034186,
                        "test": [
                          22.43256784
                        ]
                      },
                      {
                        "learn": [
                          22.11643733
                        ],
                        "iteration": 140,
                        "passed_time": 9.970742182,
                        "remaining_time": 60.74374138,
                        "test": [
                          22.39350799
                        ]
                      },
                      {
                        "learn": [
                          22.07817361
                        ],
                        "iteration": 141,
                        "passed_time": 9.993810299,
                        "remaining_time": 60.38513547,
                        "test": [
                          22.35546018
                        ]
                      },
                      {
                        "learn": [
                          22.04779581
                        ],
                        "iteration": 142,
                        "passed_time": 10.01314777,
                        "remaining_time": 60.00886464,
                        "test": [
                          22.32615171
                        ]
                      },
                      {
                        "learn": [
                          22.01381157
                        ],
                        "iteration": 143,
                        "passed_time": 10.03461175,
                        "remaining_time": 59.65019206,
                        "test": [
                          22.29131109
                        ]
                      },
                      {
                        "learn": [
                          21.98025705
                        ],
                        "iteration": 144,
                        "passed_time": 10.05494962,
                        "remaining_time": 59.28953049,
                        "test": [
                          22.25799519
                        ]
                      },
                      {
                        "learn": [
                          21.94449589
                        ],
                        "iteration": 145,
                        "passed_time": 10.07631444,
                        "remaining_time": 58.93953791,
                        "test": [
                          22.22352807
                        ]
                      },
                      {
                        "learn": [
                          21.91119805
                        ],
                        "iteration": 146,
                        "passed_time": 10.09694745,
                        "remaining_time": 58.58976988,
                        "test": [
                          22.1898772
                        ]
                      },
                      {
                        "learn": [
                          21.87879796
                        ],
                        "iteration": 147,
                        "passed_time": 10.13081974,
                        "remaining_time": 58.32066499,
                        "test": [
                          22.15744909
                        ]
                      },
                      {
                        "learn": [
                          21.84438028
                        ],
                        "iteration": 148,
                        "passed_time": 10.15172988,
                        "remaining_time": 57.9806854,
                        "test": [
                          22.1234378
                        ]
                      },
                      {
                        "learn": [
                          21.81099837
                        ],
                        "iteration": 149,
                        "passed_time": 10.17444629,
                        "remaining_time": 57.65519562,
                        "test": [
                          22.09034631
                        ]
                      },
                      {
                        "learn": [
                          21.7802399
                        ],
                        "iteration": 150,
                        "passed_time": 10.195315,
                        "remaining_time": 57.32332736,
                        "test": [
                          22.05866723
                        ]
                      },
                      {
                        "learn": [
                          21.75390425
                        ],
                        "iteration": 151,
                        "passed_time": 10.21421288,
                        "remaining_time": 56.98455605,
                        "test": [
                          22.03285161
                        ]
                      },
                      {
                        "learn": [
                          21.72441138
                        ],
                        "iteration": 152,
                        "passed_time": 10.23404389,
                        "remaining_time": 56.65513188,
                        "test": [
                          22.00397123
                        ]
                      },
                      {
                        "learn": [
                          21.69603074
                        ],
                        "iteration": 153,
                        "passed_time": 10.25452025,
                        "remaining_time": 56.33327359,
                        "test": [
                          21.97599827
                        ]
                      },
                      {
                        "learn": [
                          21.66509174
                        ],
                        "iteration": 154,
                        "passed_time": 10.27554656,
                        "remaining_time": 56.01830222,
                        "test": [
                          21.94443779
                        ]
                      },
                      {
                        "learn": [
                          21.64022412
                        ],
                        "iteration": 155,
                        "passed_time": 10.29440392,
                        "remaining_time": 55.69536482,
                        "test": [
                          21.91994297
                        ]
                      },
                      {
                        "learn": [
                          21.61653881
                        ],
                        "iteration": 156,
                        "passed_time": 10.31239728,
                        "remaining_time": 55.37166185,
                        "test": [
                          21.89589802
                        ]
                      },
                      {
                        "learn": [
                          21.5924848
                        ],
                        "iteration": 157,
                        "passed_time": 10.33144895,
                        "remaining_time": 55.05746847,
                        "test": [
                          21.87198779
                        ]
                      },
                      {
                        "learn": [
                          21.55970315
                        ],
                        "iteration": 158,
                        "passed_time": 10.35427299,
                        "remaining_time": 54.7669408,
                        "test": [
                          21.83964743
                        ]
                      },
                      {
                        "learn": [
                          21.53124358
                        ],
                        "iteration": 159,
                        "passed_time": 10.37709799,
                        "remaining_time": 54.47976444,
                        "test": [
                          21.81163451
                        ]
                      },
                      {
                        "learn": [
                          21.50375897
                        ],
                        "iteration": 160,
                        "passed_time": 10.39908316,
                        "remaining_time": 54.19149549,
                        "test": [
                          21.78347424
                        ]
                      },
                      {
                        "learn": [
                          21.47621941
                        ],
                        "iteration": 161,
                        "passed_time": 10.42035118,
                        "remaining_time": 53.90280426,
                        "test": [
                          21.75697589
                        ]
                      },
                      {
                        "learn": [
                          21.44935197
                        ],
                        "iteration": 162,
                        "passed_time": 10.44012359,
                        "remaining_time": 53.60971438,
                        "test": [
                          21.73149558
                        ]
                      },
                      {
                        "learn": [
                          21.42838421
                        ],
                        "iteration": 163,
                        "passed_time": 10.4589557,
                        "remaining_time": 53.31516444,
                        "test": [
                          21.71055504
                        ]
                      },
                      {
                        "learn": [
                          21.40578193
                        ],
                        "iteration": 164,
                        "passed_time": 10.47797731,
                        "remaining_time": 53.0249155,
                        "test": [
                          21.68809581
                        ]
                      },
                      {
                        "learn": [
                          21.38409456
                        ],
                        "iteration": 165,
                        "passed_time": 10.49650967,
                        "remaining_time": 52.73547629,
                        "test": [
                          21.66715025
                        ]
                      },
                      {
                        "learn": [
                          21.35701407
                        ],
                        "iteration": 166,
                        "passed_time": 10.51782265,
                        "remaining_time": 52.46315129,
                        "test": [
                          21.63983133
                        ]
                      },
                      {
                        "learn": [
                          21.33550796
                        ],
                        "iteration": 167,
                        "passed_time": 10.53680353,
                        "remaining_time": 52.18226511,
                        "test": [
                          21.61864473
                        ]
                      },
                      {
                        "learn": [
                          21.30612588
                        ],
                        "iteration": 168,
                        "passed_time": 10.55927873,
                        "remaining_time": 51.92166051,
                        "test": [
                          21.5893168
                        ]
                      },
                      {
                        "learn": [
                          21.28653095
                        ],
                        "iteration": 169,
                        "passed_time": 10.57797759,
                        "remaining_time": 51.64542002,
                        "test": [
                          21.56988178
                        ]
                      },
                      {
                        "learn": [
                          21.25677657
                        ],
                        "iteration": 170,
                        "passed_time": 10.60115275,
                        "remaining_time": 51.39389259,
                        "test": [
                          21.54062905
                        ]
                      },
                      {
                        "learn": [
                          21.23726795
                        ],
                        "iteration": 171,
                        "passed_time": 10.61859356,
                        "remaining_time": 51.1174155,
                        "test": [
                          21.52076091
                        ]
                      },
                      {
                        "learn": [
                          21.2082814
                        ],
                        "iteration": 172,
                        "passed_time": 10.64116062,
                        "remaining_time": 50.86843832,
                        "test": [
                          21.4931396
                        ]
                      },
                      {
                        "learn": [
                          21.18918002
                        ],
                        "iteration": 173,
                        "passed_time": 10.65964192,
                        "remaining_time": 50.60266796,
                        "test": [
                          21.47371416
                        ]
                      },
                      {
                        "learn": [
                          21.16542464
                        ],
                        "iteration": 174,
                        "passed_time": 10.6807809,
                        "remaining_time": 50.35225283,
                        "test": [
                          21.45013054
                        ]
                      },
                      {
                        "learn": [
                          21.13854181
                        ],
                        "iteration": 175,
                        "passed_time": 10.70348833,
                        "remaining_time": 50.11178629,
                        "test": [
                          21.42340426
                        ]
                      },
                      {
                        "learn": [
                          21.11728439
                        ],
                        "iteration": 176,
                        "passed_time": 10.72304461,
                        "remaining_time": 49.85912832,
                        "test": [
                          21.40185506
                        ]
                      },
                      {
                        "learn": [
                          21.09277957
                        ],
                        "iteration": 177,
                        "passed_time": 10.74439896,
                        "remaining_time": 49.61739294,
                        "test": [
                          21.37891368
                        ]
                      },
                      {
                        "learn": [
                          21.06737881
                        ],
                        "iteration": 178,
                        "passed_time": 10.77124486,
                        "remaining_time": 49.40330744,
                        "test": [
                          21.35224695
                        ]
                      },
                      {
                        "learn": [
                          21.04049073
                        ],
                        "iteration": 179,
                        "passed_time": 10.80980787,
                        "remaining_time": 49.24468027,
                        "test": [
                          21.32589154
                        ]
                      },
                      {
                        "learn": [
                          21.01609859
                        ],
                        "iteration": 180,
                        "passed_time": 10.83194446,
                        "remaining_time": 49.01305258,
                        "test": [
                          21.30233438
                        ]
                      },
                      {
                        "learn": [
                          20.9930941
                        ],
                        "iteration": 181,
                        "passed_time": 10.85214891,
                        "remaining_time": 48.77504289,
                        "test": [
                          21.28019384
                        ]
                      },
                      {
                        "learn": [
                          20.97535339
                        ],
                        "iteration": 182,
                        "passed_time": 10.86992336,
                        "remaining_time": 48.52856496,
                        "test": [
                          21.26279497
                        ]
                      },
                      {
                        "learn": [
                          20.95944298
                        ],
                        "iteration": 183,
                        "passed_time": 10.88725225,
                        "remaining_time": 48.28259692,
                        "test": [
                          21.24675858
                        ]
                      },
                      {
                        "learn": [
                          20.94213814
                        ],
                        "iteration": 184,
                        "passed_time": 10.90562531,
                        "remaining_time": 48.04370068,
                        "test": [
                          21.229874
                        ]
                      },
                      {
                        "learn": [
                          20.91742455
                        ],
                        "iteration": 185,
                        "passed_time": 10.92801536,
                        "remaining_time": 47.82475538,
                        "test": [
                          21.20754701
                        ]
                      },
                      {
                        "learn": [
                          20.8972235
                        ],
                        "iteration": 186,
                        "passed_time": 10.94810892,
                        "remaining_time": 47.59792807,
                        "test": [
                          21.18724498
                        ]
                      },
                      {
                        "learn": [
                          20.87535748
                        ],
                        "iteration": 187,
                        "passed_time": 10.9690801,
                        "remaining_time": 47.37709066,
                        "test": [
                          21.16576481
                        ]
                      },
                      {
                        "learn": [
                          20.84986811
                        ],
                        "iteration": 188,
                        "passed_time": 10.9915559,
                        "remaining_time": 47.16482453,
                        "test": [
                          21.14053571
                        ]
                      },
                      {
                        "learn": [
                          20.82560443
                        ],
                        "iteration": 189,
                        "passed_time": 11.01426089,
                        "remaining_time": 46.95553326,
                        "test": [
                          21.11806691
                        ]
                      },
                      {
                        "learn": [
                          20.80795641
                        ],
                        "iteration": 190,
                        "passed_time": 11.0339323,
                        "remaining_time": 46.73534674,
                        "test": [
                          21.10006635
                        ]
                      },
                      {
                        "learn": [
                          20.78314942
                        ],
                        "iteration": 191,
                        "passed_time": 11.05534773,
                        "remaining_time": 46.52458835,
                        "test": [
                          21.07549881
                        ]
                      },
                      {
                        "learn": [
                          20.75813455
                        ],
                        "iteration": 192,
                        "passed_time": 11.07701795,
                        "remaining_time": 46.31685742,
                        "test": [
                          21.05180515
                        ]
                      },
                      {
                        "learn": [
                          20.73430008
                        ],
                        "iteration": 193,
                        "passed_time": 11.09918172,
                        "remaining_time": 46.1130952,
                        "test": [
                          21.02902518
                        ]
                      },
                      {
                        "learn": [
                          20.71843141
                        ],
                        "iteration": 194,
                        "passed_time": 11.13270307,
                        "remaining_time": 45.9580819,
                        "test": [
                          21.01348139
                        ]
                      },
                      {
                        "learn": [
                          20.70113161
                        ],
                        "iteration": 195,
                        "passed_time": 11.15606382,
                        "remaining_time": 45.76262914,
                        "test": [
                          20.99531853
                        ]
                      },
                      {
                        "learn": [
                          20.68541273
                        ],
                        "iteration": 196,
                        "passed_time": 11.17410948,
                        "remaining_time": 45.54725843,
                        "test": [
                          20.97958889
                        ]
                      },
                      {
                        "learn": [
                          20.66559702
                        ],
                        "iteration": 197,
                        "passed_time": 11.19432078,
                        "remaining_time": 45.34265286,
                        "test": [
                          20.96009542
                        ]
                      },
                      {
                        "learn": [
                          20.64474752
                        ],
                        "iteration": 198,
                        "passed_time": 11.21445854,
                        "remaining_time": 45.13960447,
                        "test": [
                          20.93852192
                        ]
                      },
                      {
                        "learn": [
                          20.62420423
                        ],
                        "iteration": 199,
                        "passed_time": 11.23470186,
                        "remaining_time": 44.93880743,
                        "test": [
                          20.91855516
                        ]
                      },
                      {
                        "learn": [
                          20.60625027
                        ],
                        "iteration": 200,
                        "passed_time": 11.25601849,
                        "remaining_time": 44.74407351,
                        "test": [
                          20.90093897
                        ]
                      },
                      {
                        "learn": [
                          20.58673845
                        ],
                        "iteration": 201,
                        "passed_time": 11.27667467,
                        "remaining_time": 44.54844746,
                        "test": [
                          20.88122721
                        ]
                      },
                      {
                        "learn": [
                          20.57057729
                        ],
                        "iteration": 202,
                        "passed_time": 11.29530737,
                        "remaining_time": 44.34660085,
                        "test": [
                          20.86558291
                        ]
                      },
                      {
                        "learn": [
                          20.55623628
                        ],
                        "iteration": 203,
                        "passed_time": 11.31388112,
                        "remaining_time": 44.14632045,
                        "test": [
                          20.85161505
                        ]
                      },
                      {
                        "learn": [
                          20.54030915
                        ],
                        "iteration": 204,
                        "passed_time": 11.33266594,
                        "remaining_time": 43.94863135,
                        "test": [
                          20.83584891
                        ]
                      },
                      {
                        "learn": [
                          20.52084672
                        ],
                        "iteration": 205,
                        "passed_time": 11.35248866,
                        "remaining_time": 43.75667959,
                        "test": [
                          20.81656312
                        ]
                      },
                      {
                        "learn": [
                          20.50482017
                        ],
                        "iteration": 206,
                        "passed_time": 11.37190092,
                        "remaining_time": 43.5648185,
                        "test": [
                          20.79929686
                        ]
                      },
                      {
                        "learn": [
                          20.48352875
                        ],
                        "iteration": 207,
                        "passed_time": 11.39614291,
                        "remaining_time": 43.39300568,
                        "test": [
                          20.77727725
                        ]
                      },
                      {
                        "learn": [
                          20.46779666
                        ],
                        "iteration": 208,
                        "passed_time": 11.41763714,
                        "remaining_time": 43.21220565,
                        "test": [
                          20.76217715
                        ]
                      },
                      {
                        "learn": [
                          20.45052383
                        ],
                        "iteration": 209,
                        "passed_time": 11.4384593,
                        "remaining_time": 43.03039451,
                        "test": [
                          20.74512232
                        ]
                      },
                      {
                        "learn": [
                          20.43251575
                        ],
                        "iteration": 210,
                        "passed_time": 11.46733418,
                        "remaining_time": 42.88022119,
                        "test": [
                          20.72662298
                        ]
                      },
                      {
                        "learn": [
                          20.42054541
                        ],
                        "iteration": 211,
                        "passed_time": 11.48486403,
                        "remaining_time": 42.68902289,
                        "test": [
                          20.71457458
                        ]
                      },
                      {
                        "learn": [
                          20.39899998
                        ],
                        "iteration": 212,
                        "passed_time": 11.50708973,
                        "remaining_time": 42.5168057,
                        "test": [
                          20.69396047
                        ]
                      },
                      {
                        "learn": [
                          20.38295918
                        ],
                        "iteration": 213,
                        "passed_time": 11.52866911,
                        "remaining_time": 42.34361643,
                        "test": [
                          20.67848761
                        ]
                      },
                      {
                        "learn": [
                          20.36225368
                        ],
                        "iteration": 214,
                        "passed_time": 11.55044828,
                        "remaining_time": 42.17256698,
                        "test": [
                          20.65910937
                        ]
                      },
                      {
                        "learn": [
                          20.34202792
                        ],
                        "iteration": 215,
                        "passed_time": 11.57253038,
                        "remaining_time": 42.00399916,
                        "test": [
                          20.63984859
                        ]
                      },
                      {
                        "learn": [
                          20.3263954
                        ],
                        "iteration": 216,
                        "passed_time": 11.59263159,
                        "remaining_time": 41.82963382,
                        "test": [
                          20.62502
                        ]
                      },
                      {
                        "learn": [
                          20.30794057
                        ],
                        "iteration": 217,
                        "passed_time": 11.6128593,
                        "remaining_time": 41.65713748,
                        "test": [
                          20.60809064
                        ]
                      },
                      {
                        "learn": [
                          20.29583332
                        ],
                        "iteration": 218,
                        "passed_time": 11.63036239,
                        "remaining_time": 41.4763152,
                        "test": [
                          20.59567916
                        ]
                      },
                      {
                        "learn": [
                          20.28337558
                        ],
                        "iteration": 219,
                        "passed_time": 11.64874494,
                        "remaining_time": 41.30009569,
                        "test": [
                          20.58337557
                        ]
                      },
                      {
                        "learn": [
                          20.26512398
                        ],
                        "iteration": 220,
                        "passed_time": 11.671204,
                        "remaining_time": 41.13967385,
                        "test": [
                          20.56585033
                        ]
                      },
                      {
                        "learn": [
                          20.25312877
                        ],
                        "iteration": 221,
                        "passed_time": 11.68894767,
                        "remaining_time": 40.96396976,
                        "test": [
                          20.55321873
                        ]
                      },
                      {
                        "learn": [
                          20.24002285
                        ],
                        "iteration": 222,
                        "passed_time": 11.70911376,
                        "remaining_time": 40.79812283,
                        "test": [
                          20.5400353
                        ]
                      },
                      {
                        "learn": [
                          20.22068063
                        ],
                        "iteration": 223,
                        "passed_time": 11.73116891,
                        "remaining_time": 40.64012087,
                        "test": [
                          20.52203694
                        ]
                      },
                      {
                        "learn": [
                          20.21046078
                        ],
                        "iteration": 224,
                        "passed_time": 11.762487,
                        "remaining_time": 40.51523299,
                        "test": [
                          20.51173688
                        ]
                      },
                      {
                        "learn": [
                          20.1928137
                        ],
                        "iteration": 225,
                        "passed_time": 11.78961537,
                        "remaining_time": 40.37682432,
                        "test": [
                          20.49468468
                        ]
                      },
                      {
                        "learn": [
                          20.17979992
                        ],
                        "iteration": 226,
                        "passed_time": 11.82612432,
                        "remaining_time": 40.27133964,
                        "test": [
                          20.48203603
                        ]
                      },
                      {
                        "learn": [
                          20.16053013
                        ],
                        "iteration": 227,
                        "passed_time": 11.8496555,
                        "remaining_time": 40.12251776,
                        "test": [
                          20.46297754
                        ]
                      },
                      {
                        "learn": [
                          20.14234346
                        ],
                        "iteration": 228,
                        "passed_time": 11.87102294,
                        "remaining_time": 39.96750517,
                        "test": [
                          20.44571288
                        ]
                      },
                      {
                        "learn": [
                          20.13212483
                        ],
                        "iteration": 229,
                        "passed_time": 11.88888206,
                        "remaining_time": 39.80190952,
                        "test": [
                          20.43534071
                        ]
                      },
                      {
                        "learn": [
                          20.1132475
                        ],
                        "iteration": 230,
                        "passed_time": 11.9117848,
                        "remaining_time": 39.65438316,
                        "test": [
                          20.41708231
                        ]
                      },
                      {
                        "learn": [
                          20.09682811
                        ],
                        "iteration": 231,
                        "passed_time": 11.93231811,
                        "remaining_time": 39.50008752,
                        "test": [
                          20.40076592
                        ]
                      },
                      {
                        "learn": [
                          20.08702691
                        ],
                        "iteration": 232,
                        "passed_time": 11.94921199,
                        "remaining_time": 39.33495965,
                        "test": [
                          20.39069212
                        ]
                      },
                      {
                        "learn": [
                          20.06970478
                        ],
                        "iteration": 233,
                        "passed_time": 11.97074883,
                        "remaining_time": 39.18629744,
                        "test": [
                          20.37272932
                        ]
                      },
                      {
                        "learn": [
                          20.05056171
                        ],
                        "iteration": 234,
                        "passed_time": 11.99276019,
                        "remaining_time": 39.0402619,
                        "test": [
                          20.35420964
                        ]
                      },
                      {
                        "learn": [
                          20.03321866
                        ],
                        "iteration": 235,
                        "passed_time": 12.01563449,
                        "remaining_time": 38.89807097,
                        "test": [
                          20.33794237
                        ]
                      },
                      {
                        "learn": [
                          20.01878805
                        ],
                        "iteration": 236,
                        "passed_time": 12.03684565,
                        "remaining_time": 38.75153263,
                        "test": [
                          20.32324716
                        ]
                      },
                      {
                        "learn": [
                          20.00772663
                        ],
                        "iteration": 237,
                        "passed_time": 12.05670903,
                        "remaining_time": 38.60173227,
                        "test": [
                          20.31254969
                        ]
                      },
                      {
                        "learn": [
                          19.99276744
                        ],
                        "iteration": 238,
                        "passed_time": 12.07673204,
                        "remaining_time": 38.45352754,
                        "test": [
                          20.29806272
                        ]
                      },
                      {
                        "learn": [
                          19.97768317
                        ],
                        "iteration": 239,
                        "passed_time": 12.09827794,
                        "remaining_time": 38.31121349,
                        "test": [
                          20.2833688
                        ]
                      },
                      {
                        "learn": [
                          19.96762755
                        ],
                        "iteration": 240,
                        "passed_time": 12.11635833,
                        "remaining_time": 38.15898745,
                        "test": [
                          20.27351228
                        ]
                      },
                      {
                        "learn": [
                          19.9554009
                        ],
                        "iteration": 241,
                        "passed_time": 12.15235082,
                        "remaining_time": 38.06397489,
                        "test": [
                          20.26172623
                        ]
                      },
                      {
                        "learn": [
                          19.93800391
                        ],
                        "iteration": 242,
                        "passed_time": 12.17354669,
                        "remaining_time": 37.92335326,
                        "test": [
                          20.24594898
                        ]
                      },
                      {
                        "learn": [
                          19.92656707
                        ],
                        "iteration": 243,
                        "passed_time": 12.19282954,
                        "remaining_time": 37.77778334,
                        "test": [
                          20.23439213
                        ]
                      },
                      {
                        "learn": [
                          19.91448782
                        ],
                        "iteration": 244,
                        "passed_time": 12.2137381,
                        "remaining_time": 37.63825416,
                        "test": [
                          20.22195342
                        ]
                      },
                      {
                        "learn": [
                          19.9051256
                        ],
                        "iteration": 245,
                        "passed_time": 12.23154941,
                        "remaining_time": 37.49019617,
                        "test": [
                          20.21240646
                        ]
                      },
                      {
                        "learn": [
                          19.88816357
                        ],
                        "iteration": 246,
                        "passed_time": 12.25357962,
                        "remaining_time": 37.35605448,
                        "test": [
                          20.19618343
                        ]
                      },
                      {
                        "learn": [
                          19.87280239
                        ],
                        "iteration": 247,
                        "passed_time": 12.27627235,
                        "remaining_time": 37.22482583,
                        "test": [
                          20.18077736
                        ]
                      },
                      {
                        "learn": [
                          19.85699247
                        ],
                        "iteration": 248,
                        "passed_time": 12.29852609,
                        "remaining_time": 37.09314496,
                        "test": [
                          20.16612072
                        ]
                      },
                      {
                        "learn": [
                          19.84457672
                        ],
                        "iteration": 249,
                        "passed_time": 12.32962716,
                        "remaining_time": 36.98888147,
                        "test": [
                          20.15280688
                        ]
                      },
                      {
                        "learn": [
                          19.83522435
                        ],
                        "iteration": 250,
                        "passed_time": 12.34733505,
                        "remaining_time": 36.84523488,
                        "test": [
                          20.14377075
                        ]
                      },
                      {
                        "learn": [
                          19.82008514
                        ],
                        "iteration": 251,
                        "passed_time": 12.36870956,
                        "remaining_time": 36.71347124,
                        "test": [
                          20.12787495
                        ]
                      },
                      {
                        "learn": [
                          19.80596754
                        ],
                        "iteration": 252,
                        "passed_time": 12.39251183,
                        "remaining_time": 36.58974837,
                        "test": [
                          20.1145911
                        ]
                      },
                      {
                        "learn": [
                          19.79662092
                        ],
                        "iteration": 253,
                        "passed_time": 12.41088448,
                        "remaining_time": 36.45086545,
                        "test": [
                          20.10537988
                        ]
                      },
                      {
                        "learn": [
                          19.78851245
                        ],
                        "iteration": 254,
                        "passed_time": 12.42792764,
                        "remaining_time": 36.30904351,
                        "test": [
                          20.09712728
                        ]
                      },
                      {
                        "learn": [
                          19.780182
                        ],
                        "iteration": 255,
                        "passed_time": 12.44594023,
                        "remaining_time": 36.1710138,
                        "test": [
                          20.0884712
                        ]
                      },
                      {
                        "learn": [
                          19.76634261
                        ],
                        "iteration": 256,
                        "passed_time": 12.46710913,
                        "remaining_time": 36.04304311,
                        "test": [
                          20.0747117
                        ]
                      },
                      {
                        "learn": [
                          19.75479625
                        ],
                        "iteration": 257,
                        "passed_time": 12.48808108,
                        "remaining_time": 35.91533397,
                        "test": [
                          20.06367863
                        ]
                      },
                      {
                        "learn": [
                          19.73768983
                        ],
                        "iteration": 258,
                        "passed_time": 12.50979306,
                        "remaining_time": 35.79056624,
                        "test": [
                          20.04812585
                        ]
                      },
                      {
                        "learn": [
                          19.72700053
                        ],
                        "iteration": 259,
                        "passed_time": 12.52966184,
                        "remaining_time": 35.66134523,
                        "test": [
                          20.03829895
                        ]
                      },
                      {
                        "learn": [
                          19.71102864
                        ],
                        "iteration": 260,
                        "passed_time": 12.55179874,
                        "remaining_time": 35.53938417,
                        "test": [
                          20.02408862
                        ]
                      },
                      {
                        "learn": [
                          19.70389809
                        ],
                        "iteration": 261,
                        "passed_time": 12.56841104,
                        "remaining_time": 35.40262347,
                        "test": [
                          20.01665369
                        ]
                      },
                      {
                        "learn": [
                          19.69072117
                        ],
                        "iteration": 262,
                        "passed_time": 12.59128034,
                        "remaining_time": 35.28431031,
                        "test": [
                          20.00422205
                        ]
                      },
                      {
                        "learn": [
                          19.68206989
                        ],
                        "iteration": 263,
                        "passed_time": 12.61022987,
                        "remaining_time": 35.15579238,
                        "test": [
                          19.99482621
                        ]
                      },
                      {
                        "learn": [
                          19.6674973
                        ],
                        "iteration": 264,
                        "passed_time": 12.63195572,
                        "remaining_time": 35.03580171,
                        "test": [
                          19.9825355
                        ]
                      },
                      {
                        "learn": [
                          19.6572652
                        ],
                        "iteration": 265,
                        "passed_time": 12.64991114,
                        "remaining_time": 34.90614579,
                        "test": [
                          19.9726901
                        ]
                      },
                      {
                        "learn": [
                          19.64363001
                        ],
                        "iteration": 266,
                        "passed_time": 12.67192944,
                        "remaining_time": 34.78848044,
                        "test": [
                          19.959628
                        ]
                      },
                      {
                        "learn": [
                          19.6285016
                        ],
                        "iteration": 267,
                        "passed_time": 12.69450102,
                        "remaining_time": 34.67304011,
                        "test": [
                          19.94474743
                        ]
                      },
                      {
                        "learn": [
                          19.61634268
                        ],
                        "iteration": 268,
                        "passed_time": 12.71538996,
                        "remaining_time": 34.55371769,
                        "test": [
                          19.93271118
                        ]
                      },
                      {
                        "learn": [
                          19.60761332
                        ],
                        "iteration": 269,
                        "passed_time": 12.73407125,
                        "remaining_time": 34.42915559,
                        "test": [
                          19.92449184
                        ]
                      },
                      {
                        "learn": [
                          19.59369222
                        ],
                        "iteration": 270,
                        "passed_time": 12.75519694,
                        "remaining_time": 34.31195043,
                        "test": [
                          19.91158017
                        ]
                      },
                      {
                        "learn": [
                          19.57926263
                        ],
                        "iteration": 271,
                        "passed_time": 12.77699795,
                        "remaining_time": 34.19725921,
                        "test": [
                          19.8973943
                        ]
                      },
                      {
                        "learn": [
                          19.56484539
                        ],
                        "iteration": 272,
                        "passed_time": 12.79940519,
                        "remaining_time": 34.08486291,
                        "test": [
                          19.88506286
                        ]
                      },
                      {
                        "learn": [
                          19.55548772
                        ],
                        "iteration": 273,
                        "passed_time": 12.81914888,
                        "remaining_time": 33.96606601,
                        "test": [
                          19.87519748
                        ]
                      },
                      {
                        "learn": [
                          19.54079643
                        ],
                        "iteration": 274,
                        "passed_time": 12.85968502,
                        "remaining_time": 33.90280597,
                        "test": [
                          19.86165023
                        ]
                      },
                      {
                        "learn": [
                          19.52853809
                        ],
                        "iteration": 275,
                        "passed_time": 12.88440421,
                        "remaining_time": 33.79821974,
                        "test": [
                          19.8493942
                        ]
                      },
                      {
                        "learn": [
                          19.52053854
                        ],
                        "iteration": 276,
                        "passed_time": 12.90163329,
                        "remaining_time": 33.67466019,
                        "test": [
                          19.84210233
                        ]
                      },
                      {
                        "learn": [
                          19.51376886
                        ],
                        "iteration": 277,
                        "passed_time": 12.91887693,
                        "remaining_time": 33.55190339,
                        "test": [
                          19.83549092
                        ]
                      },
                      {
                        "learn": [
                          19.50061602
                        ],
                        "iteration": 278,
                        "passed_time": 12.93984419,
                        "remaining_time": 33.43952566,
                        "test": [
                          19.82279685
                        ]
                      },
                      {
                        "learn": [
                          19.48834267
                        ],
                        "iteration": 279,
                        "passed_time": 12.96083852,
                        "remaining_time": 33.32787049,
                        "test": [
                          19.81086444
                        ]
                      },
                      {
                        "learn": [
                          19.47565147
                        ],
                        "iteration": 280,
                        "passed_time": 12.98249922,
                        "remaining_time": 33.21856562,
                        "test": [
                          19.79850184
                        ]
                      },
                      {
                        "learn": [
                          19.46718778
                        ],
                        "iteration": 281,
                        "passed_time": 13.0013796,
                        "remaining_time": 33.10280338,
                        "test": [
                          19.79024886
                        ]
                      },
                      {
                        "learn": [
                          19.45477384
                        ],
                        "iteration": 282,
                        "passed_time": 13.02245565,
                        "remaining_time": 32.9932887,
                        "test": [
                          19.77786831
                        ]
                      },
                      {
                        "learn": [
                          19.44754997
                        ],
                        "iteration": 283,
                        "passed_time": 13.04345184,
                        "remaining_time": 32.88419548,
                        "test": [
                          19.77087188
                        ]
                      },
                      {
                        "learn": [
                          19.43968621
                        ],
                        "iteration": 284,
                        "passed_time": 13.06205038,
                        "remaining_time": 32.76970535,
                        "test": [
                          19.76309629
                        ]
                      },
                      {
                        "learn": [
                          19.43163851
                        ],
                        "iteration": 285,
                        "passed_time": 13.08193238,
                        "remaining_time": 32.65908992,
                        "test": [
                          19.75480638
                        ]
                      },
                      {
                        "learn": [
                          19.42423486
                        ],
                        "iteration": 286,
                        "passed_time": 13.10013916,
                        "remaining_time": 32.54494502,
                        "test": [
                          19.7480018
                        ]
                      },
                      {
                        "learn": [
                          19.41363181
                        ],
                        "iteration": 287,
                        "passed_time": 13.12107641,
                        "remaining_time": 32.43821667,
                        "test": [
                          19.73818001
                        ]
                      },
                      {
                        "learn": [
                          19.40687249
                        ],
                        "iteration": 288,
                        "passed_time": 13.13911631,
                        "remaining_time": 32.32495396,
                        "test": [
                          19.73115113
                        ]
                      },
                      {
                        "learn": [
                          19.39778209
                        ],
                        "iteration": 289,
                        "passed_time": 13.17887375,
                        "remaining_time": 32.26551849,
                        "test": [
                          19.7223528
                        ]
                      },
                      {
                        "learn": [
                          19.38590661
                        ],
                        "iteration": 290,
                        "passed_time": 13.19959876,
                        "remaining_time": 32.15984715,
                        "test": [
                          19.71228297
                        ]
                      },
                      {
                        "learn": [
                          19.37252823
                        ],
                        "iteration": 291,
                        "passed_time": 13.22090204,
                        "remaining_time": 32.05615974,
                        "test": [
                          19.69939656
                        ]
                      },
                      {
                        "learn": [
                          19.360215
                        ],
                        "iteration": 292,
                        "passed_time": 13.24161107,
                        "remaining_time": 31.95160077,
                        "test": [
                          19.68820713
                        ]
                      },
                      {
                        "learn": [
                          19.34821245
                        ],
                        "iteration": 293,
                        "passed_time": 13.26127066,
                        "remaining_time": 31.84509213,
                        "test": [
                          19.67622423
                        ]
                      },
                      {
                        "learn": [
                          19.34001357
                        ],
                        "iteration": 294,
                        "passed_time": 13.28138208,
                        "remaining_time": 31.74025208,
                        "test": [
                          19.66814366
                        ]
                      },
                      {
                        "learn": [
                          19.33362421
                        ],
                        "iteration": 295,
                        "passed_time": 13.29852302,
                        "remaining_time": 31.62891962,
                        "test": [
                          19.66163523
                        ]
                      },
                      {
                        "learn": [
                          19.32201271
                        ],
                        "iteration": 296,
                        "passed_time": 13.32123984,
                        "remaining_time": 31.53141954,
                        "test": [
                          19.6508155
                        ]
                      },
                      {
                        "learn": [
                          19.30940833
                        ],
                        "iteration": 297,
                        "passed_time": 13.34311208,
                        "remaining_time": 31.43243182,
                        "test": [
                          19.63827513
                        ]
                      },
                      {
                        "learn": [
                          19.30046049
                        ],
                        "iteration": 298,
                        "passed_time": 13.36211871,
                        "remaining_time": 31.32724151,
                        "test": [
                          19.63004521
                        ]
                      },
                      {
                        "learn": [
                          19.29186098
                        ],
                        "iteration": 299,
                        "passed_time": 13.38473851,
                        "remaining_time": 31.23105651,
                        "test": [
                          19.62244378
                        ]
                      },
                      {
                        "learn": [
                          19.28443284
                        ],
                        "iteration": 300,
                        "passed_time": 13.40463262,
                        "remaining_time": 31.12903058,
                        "test": [
                          19.6151727
                        ]
                      },
                      {
                        "learn": [
                          19.2719589
                        ],
                        "iteration": 301,
                        "passed_time": 13.42686676,
                        "remaining_time": 31.03295695,
                        "test": [
                          19.60296916
                        ]
                      },
                      {
                        "learn": [
                          19.25959826
                        ],
                        "iteration": 302,
                        "passed_time": 13.4515893,
                        "remaining_time": 30.94309485,
                        "test": [
                          19.5905162
                        ]
                      },
                      {
                        "learn": [
                          19.24853955
                        ],
                        "iteration": 303,
                        "passed_time": 13.47286524,
                        "remaining_time": 30.84577042,
                        "test": [
                          19.57965526
                        ]
                      },
                      {
                        "learn": [
                          19.24150852
                        ],
                        "iteration": 304,
                        "passed_time": 13.49249417,
                        "remaining_time": 30.74519164,
                        "test": [
                          19.57267738
                        ]
                      },
                      {
                        "learn": [
                          19.23036206
                        ],
                        "iteration": 305,
                        "passed_time": 13.51420315,
                        "remaining_time": 30.64985942,
                        "test": [
                          19.56325829
                        ]
                      },
                      {
                        "learn": [
                          19.2193919
                        ],
                        "iteration": 306,
                        "passed_time": 13.53583584,
                        "remaining_time": 30.55483464,
                        "test": [
                          19.5510978
                        ]
                      },
                      {
                        "learn": [
                          19.20790267
                        ],
                        "iteration": 307,
                        "passed_time": 13.55747572,
                        "remaining_time": 30.46030258,
                        "test": [
                          19.54065186
                        ]
                      },
                      {
                        "learn": [
                          19.20185603
                        ],
                        "iteration": 308,
                        "passed_time": 13.57481941,
                        "remaining_time": 30.35663498,
                        "test": [
                          19.5344273
                        ]
                      },
                      {
                        "learn": [
                          19.19393329
                        ],
                        "iteration": 309,
                        "passed_time": 13.59438653,
                        "remaining_time": 30.25847323,
                        "test": [
                          19.52674768
                        ]
                      },
                      {
                        "learn": [
                          19.18560072
                        ],
                        "iteration": 310,
                        "passed_time": 13.61993898,
                        "remaining_time": 30.17407704,
                        "test": [
                          19.51892991
                        ]
                      },
                      {
                        "learn": [
                          19.17513364
                        ],
                        "iteration": 311,
                        "passed_time": 13.64091888,
                        "remaining_time": 30.07997497,
                        "test": [
                          19.50921449
                        ]
                      },
                      {
                        "learn": [
                          19.16341175
                        ],
                        "iteration": 312,
                        "passed_time": 13.66300351,
                        "remaining_time": 29.9887649,
                        "test": [
                          19.49786655
                        ]
                      },
                      {
                        "learn": [
                          19.15291296
                        ],
                        "iteration": 313,
                        "passed_time": 13.68341258,
                        "remaining_time": 29.89433449,
                        "test": [
                          19.48827917
                        ]
                      },
                      {
                        "learn": [
                          19.14584354
                        ],
                        "iteration": 314,
                        "passed_time": 13.70226091,
                        "remaining_time": 29.79698007,
                        "test": [
                          19.48158297
                        ]
                      },
                      {
                        "learn": [
                          19.14010449
                        ],
                        "iteration": 315,
                        "passed_time": 13.72012963,
                        "remaining_time": 29.69800212,
                        "test": [
                          19.47581
                        ]
                      },
                      {
                        "learn": [
                          19.13238877
                        ],
                        "iteration": 316,
                        "passed_time": 13.73799876,
                        "remaining_time": 29.59953676,
                        "test": [
                          19.46868511
                        ]
                      },
                      {
                        "learn": [
                          19.12525948
                        ],
                        "iteration": 317,
                        "passed_time": 13.75601622,
                        "remaining_time": 29.50189643,
                        "test": [
                          19.46162378
                        ]
                      },
                      {
                        "learn": [
                          19.11327615
                        ],
                        "iteration": 318,
                        "passed_time": 13.77861012,
                        "remaining_time": 29.41452505,
                        "test": [
                          19.45069215
                        ]
                      },
                      {
                        "learn": [
                          19.10671217
                        ],
                        "iteration": 319,
                        "passed_time": 13.79767247,
                        "remaining_time": 29.32005399,
                        "test": [
                          19.44421379
                        ]
                      },
                      {
                        "learn": [
                          19.10097772
                        ],
                        "iteration": 320,
                        "passed_time": 13.81509915,
                        "remaining_time": 29.2225929,
                        "test": [
                          19.43834226
                        ]
                      },
                      {
                        "learn": [
                          19.09002685
                        ],
                        "iteration": 321,
                        "passed_time": 13.83475452,
                        "remaining_time": 29.13032164,
                        "test": [
                          19.42815676
                        ]
                      },
                      {
                        "learn": [
                          19.07937827
                        ],
                        "iteration": 322,
                        "passed_time": 13.85449055,
                        "remaining_time": 29.03866904,
                        "test": [
                          19.41927715
                        ]
                      },
                      {
                        "learn": [
                          19.07287734
                        ],
                        "iteration": 323,
                        "passed_time": 13.90209276,
                        "remaining_time": 29.00560095,
                        "test": [
                          19.41308193
                        ]
                      },
                      {
                        "learn": [
                          19.0632631
                        ],
                        "iteration": 324,
                        "passed_time": 13.92296269,
                        "remaining_time": 28.9169225,
                        "test": [
                          19.40387332
                        ]
                      },
                      {
                        "learn": [
                          19.05827904
                        ],
                        "iteration": 325,
                        "passed_time": 13.93960871,
                        "remaining_time": 28.81992721,
                        "test": [
                          19.39857276
                        ]
                      },
                      {
                        "learn": [
                          19.04710017
                        ],
                        "iteration": 326,
                        "passed_time": 13.96112265,
                        "remaining_time": 28.73344203,
                        "test": [
                          19.38868807
                        ]
                      },
                      {
                        "learn": [
                          19.04167338
                        ],
                        "iteration": 327,
                        "passed_time": 13.9786487,
                        "remaining_time": 28.63918271,
                        "test": [
                          19.38343171
                        ]
                      },
                      {
                        "learn": [
                          19.03017998
                        ],
                        "iteration": 328,
                        "passed_time": 13.99986716,
                        "remaining_time": 28.55292056,
                        "test": [
                          19.37235401
                        ]
                      },
                      {
                        "learn": [
                          19.02505979
                        ],
                        "iteration": 329,
                        "passed_time": 14.01789479,
                        "remaining_time": 28.46057428,
                        "test": [
                          19.36745531
                        ]
                      },
                      {
                        "learn": [
                          19.015165
                        ],
                        "iteration": 330,
                        "passed_time": 14.04008256,
                        "remaining_time": 28.37708529,
                        "test": [
                          19.35757668
                        ]
                      },
                      {
                        "learn": [
                          19.00446461
                        ],
                        "iteration": 331,
                        "passed_time": 14.06143686,
                        "remaining_time": 28.29228862,
                        "test": [
                          19.34835135
                        ]
                      },
                      {
                        "learn": [
                          18.99935459
                        ],
                        "iteration": 332,
                        "passed_time": 14.07848928,
                        "remaining_time": 28.19925631,
                        "test": [
                          19.34344139
                        ]
                      },
                      {
                        "learn": [
                          18.98922853
                        ],
                        "iteration": 333,
                        "passed_time": 14.10105613,
                        "remaining_time": 28.11767479,
                        "test": [
                          19.3335977
                        ]
                      },
                      {
                        "learn": [
                          18.97983272
                        ],
                        "iteration": 334,
                        "passed_time": 14.12227947,
                        "remaining_time": 28.03377864,
                        "test": [
                          19.32499159
                        ]
                      },
                      {
                        "learn": [
                          18.96926
                        ],
                        "iteration": 335,
                        "passed_time": 14.14408464,
                        "remaining_time": 27.95140536,
                        "test": [
                          19.31542583
                        ]
                      },
                      {
                        "learn": [
                          18.9641148
                        ],
                        "iteration": 336,
                        "passed_time": 14.16296808,
                        "remaining_time": 27.86364342,
                        "test": [
                          19.31037351
                        ]
                      },
                      {
                        "learn": [
                          18.95427656
                        ],
                        "iteration": 337,
                        "passed_time": 14.20753372,
                        "remaining_time": 27.8265897,
                        "test": [
                          19.30087045
                        ]
                      },
                      {
                        "learn": [
                          18.95001583
                        ],
                        "iteration": 338,
                        "passed_time": 14.22404843,
                        "remaining_time": 27.73479649,
                        "test": [
                          19.29651523
                        ]
                      },
                      {
                        "learn": [
                          18.9453972
                        ],
                        "iteration": 339,
                        "passed_time": 14.2410651,
                        "remaining_time": 27.64442049,
                        "test": [
                          19.29168668
                        ]
                      },
                      {
                        "learn": [
                          18.93600605
                        ],
                        "iteration": 340,
                        "passed_time": 14.29270179,
                        "remaining_time": 27.62137971,
                        "test": [
                          19.28221655
                        ]
                      },
                      {
                        "learn": [
                          18.92836364
                        ],
                        "iteration": 341,
                        "passed_time": 14.34322983,
                        "remaining_time": 27.59603869,
                        "test": [
                          19.27488521
                        ]
                      },
                      {
                        "learn": [
                          18.91959897
                        ],
                        "iteration": 342,
                        "passed_time": 14.38101542,
                        "remaining_time": 27.54614323,
                        "test": [
                          19.26823876
                        ]
                      },
                      {
                        "learn": [
                          18.91356325
                        ],
                        "iteration": 343,
                        "passed_time": 14.43034728,
                        "remaining_time": 27.51833667,
                        "test": [
                          19.26216629
                        ]
                      },
                      {
                        "learn": [
                          18.90444921
                        ],
                        "iteration": 344,
                        "passed_time": 14.46769317,
                        "remaining_time": 27.46764935,
                        "test": [
                          19.25351332
                        ]
                      },
                      {
                        "learn": [
                          18.89350087
                        ],
                        "iteration": 345,
                        "passed_time": 14.50094647,
                        "remaining_time": 27.40930345,
                        "test": [
                          19.24360868
                        ]
                      },
                      {
                        "learn": [
                          18.88322735
                        ],
                        "iteration": 346,
                        "passed_time": 14.54680576,
                        "remaining_time": 27.37482467,
                        "test": [
                          19.23399075
                        ]
                      },
                      {
                        "learn": [
                          18.87336284
                        ],
                        "iteration": 347,
                        "passed_time": 14.59108595,
                        "remaining_time": 27.33732196,
                        "test": [
                          19.22426917
                        ]
                      },
                      {
                        "learn": [
                          18.86664915
                        ],
                        "iteration": 348,
                        "passed_time": 14.64187435,
                        "remaining_time": 27.31192035,
                        "test": [
                          19.2178901
                        ]
                      },
                      {
                        "learn": [
                          18.86280334
                        ],
                        "iteration": 349,
                        "passed_time": 14.67070216,
                        "remaining_time": 27.24558973,
                        "test": [
                          19.21416144
                        ]
                      },
                      {
                        "learn": [
                          18.85398499
                        ],
                        "iteration": 350,
                        "passed_time": 14.69465361,
                        "remaining_time": 27.17045639,
                        "test": [
                          19.20559749
                        ]
                      },
                      {
                        "learn": [
                          18.84440235
                        ],
                        "iteration": 351,
                        "passed_time": 14.72855659,
                        "remaining_time": 27.11393372,
                        "test": [
                          19.19640787
                        ]
                      },
                      {
                        "learn": [
                          18.83448566
                        ],
                        "iteration": 352,
                        "passed_time": 14.78170317,
                        "remaining_time": 27.09281006,
                        "test": [
                          19.18683012
                        ]
                      },
                      {
                        "learn": [
                          18.83064125
                        ],
                        "iteration": 353,
                        "passed_time": 14.8310656,
                        "remaining_time": 27.06459994,
                        "test": [
                          19.18271683
                        ]
                      },
                      {
                        "learn": [
                          18.82081228
                        ],
                        "iteration": 354,
                        "passed_time": 14.8825316,
                        "remaining_time": 27.04009263,
                        "test": [
                          19.17284082
                        ]
                      },
                      {
                        "learn": [
                          18.81661832
                        ],
                        "iteration": 355,
                        "passed_time": 14.93868498,
                        "remaining_time": 27.02391328,
                        "test": [
                          19.1684539
                        ]
                      },
                      {
                        "learn": [
                          18.80706849
                        ],
                        "iteration": 356,
                        "passed_time": 14.99310787,
                        "remaining_time": 27.00439317,
                        "test": [
                          19.16016636
                        ]
                      },
                      {
                        "learn": [
                          18.79898335
                        ],
                        "iteration": 357,
                        "passed_time": 15.0505796,
                        "remaining_time": 26.99014553,
                        "test": [
                          19.15169379
                        ]
                      },
                      {
                        "learn": [
                          18.7905608
                        ],
                        "iteration": 358,
                        "passed_time": 15.10264233,
                        "remaining_time": 26.96599926,
                        "test": [
                          19.143621
                        ]
                      },
                      {
                        "learn": [
                          18.7820373
                        ],
                        "iteration": 359,
                        "passed_time": 15.1507348,
                        "remaining_time": 26.93463964,
                        "test": [
                          19.13630189
                        ]
                      },
                      {
                        "learn": [
                          18.77291733
                        ],
                        "iteration": 360,
                        "passed_time": 15.19164754,
                        "remaining_time": 26.89047861,
                        "test": [
                          19.12752794
                        ]
                      },
                      {
                        "learn": [
                          18.76807396
                        ],
                        "iteration": 361,
                        "passed_time": 15.26813872,
                        "remaining_time": 26.90904007,
                        "test": [
                          19.12240113
                        ]
                      },
                      {
                        "learn": [
                          18.75994403
                        ],
                        "iteration": 362,
                        "passed_time": 15.32100754,
                        "remaining_time": 26.8856248,
                        "test": [
                          19.1150752
                        ]
                      },
                      {
                        "learn": [
                          18.75319173
                        ],
                        "iteration": 363,
                        "passed_time": 15.37673911,
                        "remaining_time": 26.86704965,
                        "test": [
                          19.10861651
                        ]
                      },
                      {
                        "learn": [
                          18.74347153
                        ],
                        "iteration": 364,
                        "passed_time": 15.43328731,
                        "remaining_time": 26.84969162,
                        "test": [
                          19.0990628
                        ]
                      },
                      {
                        "learn": [
                          18.7385385
                        ],
                        "iteration": 365,
                        "passed_time": 15.48173251,
                        "remaining_time": 26.81808309,
                        "test": [
                          19.09409398
                        ]
                      },
                      {
                        "learn": [
                          18.72985451
                        ],
                        "iteration": 366,
                        "passed_time": 15.5293702,
                        "remaining_time": 26.78499002,
                        "test": [
                          19.08709119
                        ]
                      },
                      {
                        "learn": [
                          18.72214464
                        ],
                        "iteration": 367,
                        "passed_time": 15.5889727,
                        "remaining_time": 26.77236616,
                        "test": [
                          19.08075994
                        ]
                      },
                      {
                        "learn": [
                          18.71604526
                        ],
                        "iteration": 368,
                        "passed_time": 15.63750113,
                        "remaining_time": 26.74055071,
                        "test": [
                          19.07472805
                        ]
                      },
                      {
                        "learn": [
                          18.70751186
                        ],
                        "iteration": 369,
                        "passed_time": 15.67830743,
                        "remaining_time": 26.69549643,
                        "test": [
                          19.06739298
                        ]
                      },
                      {
                        "learn": [
                          18.6990481
                        ],
                        "iteration": 370,
                        "passed_time": 15.72023826,
                        "remaining_time": 26.65237161,
                        "test": [
                          19.05876439
                        ]
                      },
                      {
                        "learn": [
                          18.69134225
                        ],
                        "iteration": 371,
                        "passed_time": 15.76166073,
                        "remaining_time": 26.608395,
                        "test": [
                          19.05136544
                        ]
                      },
                      {
                        "learn": [
                          18.68167819
                        ],
                        "iteration": 372,
                        "passed_time": 15.82344505,
                        "remaining_time": 26.59865963,
                        "test": [
                          19.04341684
                        ]
                      },
                      {
                        "learn": [
                          18.67459036
                        ],
                        "iteration": 373,
                        "passed_time": 15.85906905,
                        "remaining_time": 26.54485889,
                        "test": [
                          19.03672832
                        ]
                      },
                      {
                        "learn": [
                          18.67016604
                        ],
                        "iteration": 374,
                        "passed_time": 15.8991952,
                        "remaining_time": 26.49865867,
                        "test": [
                          19.03240789
                        ]
                      },
                      {
                        "learn": [
                          18.6630236
                        ],
                        "iteration": 375,
                        "passed_time": 15.94291424,
                        "remaining_time": 26.45845342,
                        "test": [
                          19.02575491
                        ]
                      },
                      {
                        "learn": [
                          18.65510386
                        ],
                        "iteration": 376,
                        "passed_time": 16.00081677,
                        "remaining_time": 26.44166803,
                        "test": [
                          19.01841607
                        ]
                      },
                      {
                        "learn": [
                          18.65130759
                        ],
                        "iteration": 377,
                        "passed_time": 16.0505581,
                        "remaining_time": 26.41123582,
                        "test": [
                          19.0143413
                        ]
                      },
                      {
                        "learn": [
                          18.64575421
                        ],
                        "iteration": 378,
                        "passed_time": 16.10682259,
                        "remaining_time": 26.39139005,
                        "test": [
                          19.00934639
                        ]
                      },
                      {
                        "learn": [
                          18.64025483
                        ],
                        "iteration": 379,
                        "passed_time": 16.16043411,
                        "remaining_time": 26.36702407,
                        "test": [
                          19.003624
                        ]
                      },
                      {
                        "learn": [
                          18.63308885
                        ],
                        "iteration": 380,
                        "passed_time": 16.21775307,
                        "remaining_time": 26.34852796,
                        "test": [
                          18.99723927
                        ]
                      },
                      {
                        "learn": [
                          18.62463959
                        ],
                        "iteration": 381,
                        "passed_time": 16.33485767,
                        "remaining_time": 26.42654984,
                        "test": [
                          18.99
                        ]
                      },
                      {
                        "learn": [
                          18.61778988
                        ],
                        "iteration": 382,
                        "passed_time": 16.40545873,
                        "remaining_time": 26.42863717,
                        "test": [
                          18.98332426
                        ]
                      },
                      {
                        "learn": [
                          18.61331714
                        ],
                        "iteration": 383,
                        "passed_time": 16.47274215,
                        "remaining_time": 26.42502386,
                        "test": [
                          18.97897784
                        ]
                      },
                      {
                        "learn": [
                          18.60808091
                        ],
                        "iteration": 384,
                        "passed_time": 16.52305255,
                        "remaining_time": 26.39396706,
                        "test": [
                          18.97376346
                        ]
                      },
                      {
                        "learn": [
                          18.60213361
                        ],
                        "iteration": 385,
                        "passed_time": 16.55438663,
                        "remaining_time": 26.33262536,
                        "test": [
                          18.96840663
                        ]
                      },
                      {
                        "learn": [
                          18.5939634
                        ],
                        "iteration": 386,
                        "passed_time": 16.58871809,
                        "remaining_time": 26.27618654,
                        "test": [
                          18.95988397
                        ]
                      },
                      {
                        "learn": [
                          18.58722478
                        ],
                        "iteration": 387,
                        "passed_time": 16.61728997,
                        "remaining_time": 26.21077697,
                        "test": [
                          18.95333546
                        ]
                      },
                      {
                        "learn": [
                          18.57742313
                        ],
                        "iteration": 388,
                        "passed_time": 16.67167375,
                        "remaining_time": 26.18609939,
                        "test": [
                          18.94533122
                        ]
                      },
                      {
                        "learn": [
                          18.56981758
                        ],
                        "iteration": 389,
                        "passed_time": 16.74361462,
                        "remaining_time": 26.18873055,
                        "test": [
                          18.9377236
                        ]
                      },
                      {
                        "learn": [
                          18.56547737
                        ],
                        "iteration": 390,
                        "passed_time": 16.80720632,
                        "remaining_time": 26.17797608,
                        "test": [
                          18.93359712
                        ]
                      },
                      {
                        "learn": [
                          18.55780294
                        ],
                        "iteration": 391,
                        "passed_time": 16.87873866,
                        "remaining_time": 26.17926812,
                        "test": [
                          18.92627869
                        ]
                      },
                      {
                        "learn": [
                          18.54980458
                        ],
                        "iteration": 392,
                        "passed_time": 16.95014653,
                        "remaining_time": 26.17999732,
                        "test": [
                          18.91876846
                        ]
                      },
                      {
                        "learn": [
                          18.54315844
                        ],
                        "iteration": 393,
                        "passed_time": 17.01605345,
                        "remaining_time": 26.17189946,
                        "test": [
                          18.91242911
                        ]
                      },
                      {
                        "learn": [
                          18.53869534
                        ],
                        "iteration": 394,
                        "passed_time": 17.08758285,
                        "remaining_time": 26.17212057,
                        "test": [
                          18.90782444
                        ]
                      },
                      {
                        "learn": [
                          18.53382718
                        ],
                        "iteration": 395,
                        "passed_time": 17.14250323,
                        "remaining_time": 26.14664635,
                        "test": [
                          18.90326361
                        ]
                      },
                      {
                        "learn": [
                          18.52491363
                        ],
                        "iteration": 396,
                        "passed_time": 17.18287586,
                        "remaining_time": 26.09892731,
                        "test": [
                          18.8942134
                        ]
                      },
                      {
                        "learn": [
                          18.51696722
                        ],
                        "iteration": 397,
                        "passed_time": 17.2453823,
                        "remaining_time": 26.08472399,
                        "test": [
                          18.88598422
                        ]
                      },
                      {
                        "learn": [
                          18.51402982
                        ],
                        "iteration": 398,
                        "passed_time": 17.31746664,
                        "remaining_time": 26.0847054,
                        "test": [
                          18.88313666
                        ]
                      },
                      {
                        "learn": [
                          18.51065166
                        ],
                        "iteration": 399,
                        "passed_time": 17.37935315,
                        "remaining_time": 26.06902973,
                        "test": [
                          18.87969213
                        ]
                      },
                      {
                        "learn": [
                          18.50392458
                        ],
                        "iteration": 400,
                        "passed_time": 17.45105359,
                        "remaining_time": 26.0677833,
                        "test": [
                          18.87265283
                        ]
                      },
                      {
                        "learn": [
                          18.49810936
                        ],
                        "iteration": 401,
                        "passed_time": 17.47959891,
                        "remaining_time": 26.00199042,
                        "test": [
                          18.86737329
                        ]
                      },
                      {
                        "learn": [
                          18.49155686
                        ],
                        "iteration": 402,
                        "passed_time": 17.53665834,
                        "remaining_time": 25.9786229,
                        "test": [
                          18.86128442
                        ]
                      },
                      {
                        "learn": [
                          18.48390313
                        ],
                        "iteration": 403,
                        "passed_time": 17.57774109,
                        "remaining_time": 25.93151903,
                        "test": [
                          18.85398632
                        ]
                      },
                      {
                        "learn": [
                          18.47734491
                        ],
                        "iteration": 404,
                        "passed_time": 17.61333283,
                        "remaining_time": 25.87637785,
                        "test": [
                          18.84742025
                        ]
                      },
                      {
                        "learn": [
                          18.47254923
                        ],
                        "iteration": 405,
                        "passed_time": 17.64136346,
                        "remaining_time": 25.81027068,
                        "test": [
                          18.84287929
                        ]
                      },
                      {
                        "learn": [
                          18.46506702
                        ],
                        "iteration": 406,
                        "passed_time": 17.68696342,
                        "remaining_time": 25.76994916,
                        "test": [
                          18.83640226
                        ]
                      },
                      {
                        "learn": [
                          18.45713277
                        ],
                        "iteration": 407,
                        "passed_time": 17.75488759,
                        "remaining_time": 25.76199376,
                        "test": [
                          18.82926512
                        ]
                      },
                      {
                        "learn": [
                          18.4489268
                        ],
                        "iteration": 408,
                        "passed_time": 17.82700814,
                        "remaining_time": 25.75980883,
                        "test": [
                          18.82148706
                        ]
                      },
                      {
                        "learn": [
                          18.44095036
                        ],
                        "iteration": 409,
                        "passed_time": 17.88877293,
                        "remaining_time": 25.74238056,
                        "test": [
                          18.81456218
                        ]
                      },
                      {
                        "learn": [
                          18.43667066
                        ],
                        "iteration": 410,
                        "passed_time": 17.90636365,
                        "remaining_time": 25.66143113,
                        "test": [
                          18.8103017
                        ]
                      },
                      {
                        "learn": [
                          18.43013293
                        ],
                        "iteration": 411,
                        "passed_time": 17.92545007,
                        "remaining_time": 25.58292388,
                        "test": [
                          18.80459851
                        ]
                      },
                      {
                        "learn": [
                          18.42363835
                        ],
                        "iteration": 412,
                        "passed_time": 17.94489998,
                        "remaining_time": 25.50522104,
                        "test": [
                          18.79854715
                        ]
                      },
                      {
                        "learn": [
                          18.42020697
                        ],
                        "iteration": 413,
                        "passed_time": 17.96204064,
                        "remaining_time": 25.42453095,
                        "test": [
                          18.79500665
                        ]
                      },
                      {
                        "learn": [
                          18.4150767
                        ],
                        "iteration": 414,
                        "passed_time": 17.98079734,
                        "remaining_time": 25.34642517,
                        "test": [
                          18.78949108
                        ]
                      },
                      {
                        "learn": [
                          18.40775176
                        ],
                        "iteration": 415,
                        "passed_time": 18.00010743,
                        "remaining_time": 25.26938158,
                        "test": [
                          18.78259567
                        ]
                      },
                      {
                        "learn": [
                          18.40056793
                        ],
                        "iteration": 416,
                        "passed_time": 18.01977409,
                        "remaining_time": 25.19311341,
                        "test": [
                          18.77616574
                        ]
                      },
                      {
                        "learn": [
                          18.39406154
                        ],
                        "iteration": 417,
                        "passed_time": 18.04023337,
                        "remaining_time": 25.11821967,
                        "test": [
                          18.76983151
                        ]
                      },
                      {
                        "learn": [
                          18.39100391
                        ],
                        "iteration": 418,
                        "passed_time": 18.05814067,
                        "remaining_time": 25.04004708,
                        "test": [
                          18.76655935
                        ]
                      },
                      {
                        "learn": [
                          18.38364898
                        ],
                        "iteration": 419,
                        "passed_time": 18.08008837,
                        "remaining_time": 24.96774108,
                        "test": [
                          18.75879927
                        ]
                      },
                      {
                        "learn": [
                          18.3777855
                        ],
                        "iteration": 420,
                        "passed_time": 18.10617759,
                        "remaining_time": 24.90137013,
                        "test": [
                          18.75327971
                        ]
                      },
                      {
                        "learn": [
                          18.36992923
                        ],
                        "iteration": 421,
                        "passed_time": 18.12797365,
                        "remaining_time": 24.82930989,
                        "test": [
                          18.74659569
                        ]
                      },
                      {
                        "learn": [
                          18.36458276
                        ],
                        "iteration": 422,
                        "passed_time": 18.1588471,
                        "remaining_time": 24.76986945,
                        "test": [
                          18.74121594
                        ]
                      },
                      {
                        "learn": [
                          18.35793425
                        ],
                        "iteration": 423,
                        "passed_time": 18.18705315,
                        "remaining_time": 24.70694012,
                        "test": [
                          18.73618157
                        ]
                      },
                      {
                        "learn": [
                          18.35091142
                        ],
                        "iteration": 424,
                        "passed_time": 18.20695187,
                        "remaining_time": 24.63293488,
                        "test": [
                          18.73035638
                        ]
                      },
                      {
                        "learn": [
                          18.34286987
                        ],
                        "iteration": 425,
                        "passed_time": 18.22934035,
                        "remaining_time": 24.56253841,
                        "test": [
                          18.72343518
                        ]
                      },
                      {
                        "learn": [
                          18.33654139
                        ],
                        "iteration": 426,
                        "passed_time": 18.24774749,
                        "remaining_time": 24.48702415,
                        "test": [
                          18.71733488
                        ]
                      },
                      {
                        "learn": [
                          18.32913732
                        ],
                        "iteration": 427,
                        "passed_time": 18.26954715,
                        "remaining_time": 24.41631068,
                        "test": [
                          18.71003073
                        ]
                      },
                      {
                        "learn": [
                          18.32231495
                        ],
                        "iteration": 428,
                        "passed_time": 18.29982353,
                        "remaining_time": 24.35710777,
                        "test": [
                          18.70388195
                        ]
                      },
                      {
                        "learn": [
                          18.31704193
                        ],
                        "iteration": 429,
                        "passed_time": 18.31978841,
                        "remaining_time": 24.28437068,
                        "test": [
                          18.69928943
                        ]
                      },
                      {
                        "learn": [
                          18.31151141
                        ],
                        "iteration": 430,
                        "passed_time": 18.36489139,
                        "remaining_time": 24.24506543,
                        "test": [
                          18.69410402
                        ]
                      },
                      {
                        "learn": [
                          18.30492557
                        ],
                        "iteration": 431,
                        "passed_time": 18.39373986,
                        "remaining_time": 24.18436167,
                        "test": [
                          18.68765368
                        ]
                      },
                      {
                        "learn": [
                          18.29885447
                        ],
                        "iteration": 432,
                        "passed_time": 18.41374604,
                        "remaining_time": 24.11222634,
                        "test": [
                          18.68130616
                        ]
                      },
                      {
                        "learn": [
                          18.29363277
                        ],
                        "iteration": 433,
                        "passed_time": 18.43210734,
                        "remaining_time": 24.03818607,
                        "test": [
                          18.67746704
                        ]
                      },
                      {
                        "learn": [
                          18.29003417
                        ],
                        "iteration": 434,
                        "passed_time": 18.45227116,
                        "remaining_time": 23.966743,
                        "test": [
                          18.6738266
                        ]
                      },
                      {
                        "learn": [
                          18.28308166
                        ],
                        "iteration": 435,
                        "passed_time": 18.47284789,
                        "remaining_time": 23.89606928,
                        "test": [
                          18.66686972
                        ]
                      },
                      {
                        "learn": [
                          18.27982836
                        ],
                        "iteration": 436,
                        "passed_time": 18.48931022,
                        "remaining_time": 23.82032415,
                        "test": [
                          18.66351789
                        ]
                      },
                      {
                        "learn": [
                          18.2728877
                        ],
                        "iteration": 437,
                        "passed_time": 18.50738739,
                        "remaining_time": 23.74692173,
                        "test": [
                          18.65679635
                        ]
                      },
                      {
                        "learn": [
                          18.26582738
                        ],
                        "iteration": 438,
                        "passed_time": 18.52859906,
                        "remaining_time": 23.67777693,
                        "test": [
                          18.65050401
                        ]
                      },
                      {
                        "learn": [
                          18.26143751
                        ],
                        "iteration": 439,
                        "passed_time": 18.54836401,
                        "remaining_time": 23.60700873,
                        "test": [
                          18.64638571
                        ]
                      },
                      {
                        "learn": [
                          18.25414679
                        ],
                        "iteration": 440,
                        "passed_time": 18.56987422,
                        "remaining_time": 23.5386841,
                        "test": [
                          18.64030914
                        ]
                      },
                      {
                        "learn": [
                          18.24740187
                        ],
                        "iteration": 441,
                        "passed_time": 18.59227931,
                        "remaining_time": 23.47170102,
                        "test": [
                          18.63453917
                        ]
                      },
                      {
                        "learn": [
                          18.24083537
                        ],
                        "iteration": 442,
                        "passed_time": 18.61393054,
                        "remaining_time": 23.40397136,
                        "test": [
                          18.62895998
                        ]
                      },
                      {
                        "learn": [
                          18.23453454
                        ],
                        "iteration": 443,
                        "passed_time": 18.63515976,
                        "remaining_time": 23.33592078,
                        "test": [
                          18.6225052
                        ]
                      },
                      {
                        "learn": [
                          18.22877807
                        ],
                        "iteration": 444,
                        "passed_time": 18.65677756,
                        "remaining_time": 23.26856528,
                        "test": [
                          18.61756966
                        ]
                      },
                      {
                        "learn": [
                          18.22579628
                        ],
                        "iteration": 445,
                        "passed_time": 18.67443878,
                        "remaining_time": 23.19650019,
                        "test": [
                          18.61482407
                        ]
                      },
                      {
                        "learn": [
                          18.22080953
                        ],
                        "iteration": 446,
                        "passed_time": 18.69196655,
                        "remaining_time": 23.12451343,
                        "test": [
                          18.61076772
                        ]
                      },
                      {
                        "learn": [
                          18.21830947
                        ],
                        "iteration": 447,
                        "passed_time": 18.70838459,
                        "remaining_time": 23.05140245,
                        "test": [
                          18.60811785
                        ]
                      },
                      {
                        "learn": [
                          18.21308321
                        ],
                        "iteration": 448,
                        "passed_time": 18.72691976,
                        "remaining_time": 22.98114207,
                        "test": [
                          18.60302798
                        ]
                      },
                      {
                        "learn": [
                          18.20816575
                        ],
                        "iteration": 449,
                        "passed_time": 18.74732612,
                        "remaining_time": 22.91339859,
                        "test": [
                          18.59800258
                        ]
                      },
                      {
                        "learn": [
                          18.20278344
                        ],
                        "iteration": 450,
                        "passed_time": 18.76692117,
                        "remaining_time": 22.84487743,
                        "test": [
                          18.59268673
                        ]
                      },
                      {
                        "learn": [
                          18.19897593
                        ],
                        "iteration": 451,
                        "passed_time": 18.78390682,
                        "remaining_time": 22.77340916,
                        "test": [
                          18.58890193
                        ]
                      },
                      {
                        "learn": [
                          18.19577286
                        ],
                        "iteration": 452,
                        "passed_time": 18.80117015,
                        "remaining_time": 22.70251672,
                        "test": [
                          18.58544928
                        ]
                      },
                      {
                        "learn": [
                          18.19234661
                        ],
                        "iteration": 453,
                        "passed_time": 18.81843227,
                        "remaining_time": 22.63185907,
                        "test": [
                          18.58223278
                        ]
                      },
                      {
                        "learn": [
                          18.18625099
                        ],
                        "iteration": 454,
                        "passed_time": 18.83958061,
                        "remaining_time": 22.56609107,
                        "test": [
                          18.57671257
                        ]
                      },
                      {
                        "learn": [
                          18.17993193
                        ],
                        "iteration": 455,
                        "passed_time": 18.85813704,
                        "remaining_time": 22.49742664,
                        "test": [
                          18.57073504
                        ]
                      },
                      {
                        "learn": [
                          18.17534731
                        ],
                        "iteration": 456,
                        "passed_time": 18.87852781,
                        "remaining_time": 22.43116105,
                        "test": [
                          18.56647112
                        ]
                      },
                      {
                        "learn": [
                          18.16956934
                        ],
                        "iteration": 457,
                        "passed_time": 18.89809414,
                        "remaining_time": 22.36412013,
                        "test": [
                          18.56178601
                        ]
                      },
                      {
                        "learn": [
                          18.16659297
                        ],
                        "iteration": 458,
                        "passed_time": 18.91486964,
                        "remaining_time": 22.29399667,
                        "test": [
                          18.55874188
                        ]
                      },
                      {
                        "learn": [
                          18.15969163
                        ],
                        "iteration": 459,
                        "passed_time": 18.93710065,
                        "remaining_time": 22.23050945,
                        "test": [
                          18.55289465
                        ]
                      },
                      {
                        "learn": [
                          18.15393002
                        ],
                        "iteration": 460,
                        "passed_time": 18.95725456,
                        "remaining_time": 22.16477268,
                        "test": [
                          18.54832068
                        ]
                      },
                      {
                        "learn": [
                          18.147194
                        ],
                        "iteration": 461,
                        "passed_time": 18.97729405,
                        "remaining_time": 22.09909999,
                        "test": [
                          18.54166861
                        ]
                      },
                      {
                        "learn": [
                          18.14051887
                        ],
                        "iteration": 462,
                        "passed_time": 18.9946601,
                        "remaining_time": 22.0305237,
                        "test": [
                          18.53592593
                        ]
                      },
                      {
                        "learn": [
                          18.13470637
                        ],
                        "iteration": 463,
                        "passed_time": 19.01569533,
                        "remaining_time": 21.96640667,
                        "test": [
                          18.53045871
                        ]
                      },
                      {
                        "learn": [
                          18.12940016
                        ],
                        "iteration": 464,
                        "passed_time": 19.03514278,
                        "remaining_time": 21.90064814,
                        "test": [
                          18.52570444
                        ]
                      },
                      {
                        "learn": [
                          18.12287643
                        ],
                        "iteration": 465,
                        "passed_time": 19.05667963,
                        "remaining_time": 21.83748266,
                        "test": [
                          18.52015119
                        ]
                      },
                      {
                        "learn": [
                          18.11687335
                        ],
                        "iteration": 466,
                        "passed_time": 19.07888544,
                        "remaining_time": 21.77525897,
                        "test": [
                          18.51443558
                        ]
                      },
                      {
                        "learn": [
                          18.11246325
                        ],
                        "iteration": 467,
                        "passed_time": 19.09859294,
                        "remaining_time": 21.71036634,
                        "test": [
                          18.51023231
                        ]
                      },
                      {
                        "learn": [
                          18.10575323
                        ],
                        "iteration": 468,
                        "passed_time": 19.1191012,
                        "remaining_time": 21.646573,
                        "test": [
                          18.50355574
                        ]
                      },
                      {
                        "learn": [
                          18.10061877
                        ],
                        "iteration": 469,
                        "passed_time": 19.13883521,
                        "remaining_time": 21.58209077,
                        "test": [
                          18.49922161
                        ]
                      },
                      {
                        "learn": [
                          18.09511122
                        ],
                        "iteration": 470,
                        "passed_time": 19.15962533,
                        "remaining_time": 21.51898472,
                        "test": [
                          18.49321227
                        ]
                      },
                      {
                        "learn": [
                          18.08984591
                        ],
                        "iteration": 471,
                        "passed_time": 19.19254701,
                        "remaining_time": 21.46962886,
                        "test": [
                          18.48763303
                        ]
                      },
                      {
                        "learn": [
                          18.08314547
                        ],
                        "iteration": 472,
                        "passed_time": 19.22503747,
                        "remaining_time": 21.41986205,
                        "test": [
                          18.4821664
                        ]
                      },
                      {
                        "learn": [
                          18.07753855
                        ],
                        "iteration": 473,
                        "passed_time": 19.24579618,
                        "remaining_time": 21.35714934,
                        "test": [
                          18.4774633
                        ]
                      },
                      {
                        "learn": [
                          18.07161379
                        ],
                        "iteration": 474,
                        "passed_time": 19.26614783,
                        "remaining_time": 21.29416339,
                        "test": [
                          18.47200517
                        ]
                      },
                      {
                        "learn": [
                          18.06594587
                        ],
                        "iteration": 475,
                        "passed_time": 19.28746829,
                        "remaining_time": 21.23242307,
                        "test": [
                          18.46640802
                        ]
                      },
                      {
                        "learn": [
                          18.06283408
                        ],
                        "iteration": 476,
                        "passed_time": 19.30351032,
                        "remaining_time": 21.16506478,
                        "test": [
                          18.46350454
                        ]
                      },
                      {
                        "learn": [
                          18.05911543
                        ],
                        "iteration": 477,
                        "passed_time": 19.32306461,
                        "remaining_time": 21.10175674,
                        "test": [
                          18.45993906
                        ]
                      },
                      {
                        "learn": [
                          18.053841
                        ],
                        "iteration": 478,
                        "passed_time": 19.34307113,
                        "remaining_time": 21.03912329,
                        "test": [
                          18.45493362
                        ]
                      },
                      {
                        "learn": [
                          18.05082616
                        ],
                        "iteration": 479,
                        "passed_time": 19.37639932,
                        "remaining_time": 20.99109926,
                        "test": [
                          18.45197889
                        ]
                      },
                      {
                        "learn": [
                          18.04850063
                        ],
                        "iteration": 480,
                        "passed_time": 19.40633833,
                        "remaining_time": 20.93947941,
                        "test": [
                          18.44973713
                        ]
                      },
                      {
                        "learn": [
                          18.04456843
                        ],
                        "iteration": 481,
                        "passed_time": 19.42323395,
                        "remaining_time": 20.87393193,
                        "test": [
                          18.44634178
                        ]
                      },
                      {
                        "learn": [
                          18.03848525
                        ],
                        "iteration": 482,
                        "passed_time": 19.44030348,
                        "remaining_time": 20.80877205,
                        "test": [
                          18.44093748
                        ]
                      },
                      {
                        "learn": [
                          18.03338016
                        ],
                        "iteration": 483,
                        "passed_time": 19.45927945,
                        "remaining_time": 20.74584338,
                        "test": [
                          18.4362008
                        ]
                      },
                      {
                        "learn": [
                          18.02756778
                        ],
                        "iteration": 484,
                        "passed_time": 19.47884053,
                        "remaining_time": 20.68371727,
                        "test": [
                          18.43111093
                        ]
                      },
                      {
                        "learn": [
                          18.02190958
                        ],
                        "iteration": 485,
                        "passed_time": 19.50082791,
                        "remaining_time": 20.6243324,
                        "test": [
                          18.42696937
                        ]
                      },
                      {
                        "learn": [
                          18.01586592
                        ],
                        "iteration": 486,
                        "passed_time": 19.52294561,
                        "remaining_time": 20.56523839,
                        "test": [
                          18.42140942
                        ]
                      },
                      {
                        "learn": [
                          18.01056843
                        ],
                        "iteration": 487,
                        "passed_time": 19.542375,
                        "remaining_time": 20.50347541,
                        "test": [
                          18.41633786
                        ]
                      },
                      {
                        "learn": [
                          18.00712359
                        ],
                        "iteration": 488,
                        "passed_time": 19.56179368,
                        "remaining_time": 20.44187438,
                        "test": [
                          18.4126777
                        ]
                      },
                      {
                        "learn": [
                          18.00111872
                        ],
                        "iteration": 489,
                        "passed_time": 19.5819083,
                        "remaining_time": 20.38116986,
                        "test": [
                          18.40785091
                        ]
                      },
                      {
                        "learn": [
                          17.99530216
                        ],
                        "iteration": 490,
                        "passed_time": 19.60291821,
                        "remaining_time": 20.3215588,
                        "test": [
                          18.4029101
                        ]
                      },
                      {
                        "learn": [
                          17.99102554
                        ],
                        "iteration": 491,
                        "passed_time": 19.62245141,
                        "remaining_time": 20.26057991,
                        "test": [
                          18.39969021
                        ]
                      },
                      {
                        "learn": [
                          17.98568806
                        ],
                        "iteration": 492,
                        "passed_time": 19.64202546,
                        "remaining_time": 20.19981117,
                        "test": [
                          18.39471188
                        ]
                      },
                      {
                        "learn": [
                          17.98137717
                        ],
                        "iteration": 493,
                        "passed_time": 19.66319018,
                        "remaining_time": 20.14083852,
                        "test": [
                          18.39077894
                        ]
                      },
                      {
                        "learn": [
                          17.97548887
                        ],
                        "iteration": 494,
                        "passed_time": 19.68397435,
                        "remaining_time": 20.0816304,
                        "test": [
                          18.38565133
                        ]
                      },
                      {
                        "learn": [
                          17.97075541
                        ],
                        "iteration": 495,
                        "passed_time": 19.70218329,
                        "remaining_time": 20.01996044,
                        "test": [
                          18.3818783
                        ]
                      },
                      {
                        "learn": [
                          17.96516351
                        ],
                        "iteration": 496,
                        "passed_time": 19.72352351,
                        "remaining_time": 19.96163446,
                        "test": [
                          18.37624145
                        ]
                      },
                      {
                        "learn": [
                          17.96271068
                        ],
                        "iteration": 497,
                        "passed_time": 19.74239812,
                        "remaining_time": 19.9009716,
                        "test": [
                          18.37383534
                        ]
                      },
                      {
                        "learn": [
                          17.95674664
                        ],
                        "iteration": 498,
                        "passed_time": 19.76386735,
                        "remaining_time": 19.84308125,
                        "test": [
                          18.36829129
                        ]
                      },
                      {
                        "learn": [
                          17.95162458
                        ],
                        "iteration": 499,
                        "passed_time": 19.78322626,
                        "remaining_time": 19.78322626,
                        "test": [
                          18.36381837
                        ]
                      },
                      {
                        "learn": [
                          17.94595637
                        ],
                        "iteration": 500,
                        "passed_time": 19.80488128,
                        "remaining_time": 19.72581988,
                        "test": [
                          18.35845037
                        ]
                      },
                      {
                        "learn": [
                          17.94135377
                        ],
                        "iteration": 501,
                        "passed_time": 19.82465683,
                        "remaining_time": 19.66669143,
                        "test": [
                          18.35392056
                        ]
                      },
                      {
                        "learn": [
                          17.93850398
                        ],
                        "iteration": 502,
                        "passed_time": 19.84183293,
                        "remaining_time": 19.60515102,
                        "test": [
                          18.35092845
                        ]
                      },
                      {
                        "learn": [
                          17.93425633
                        ],
                        "iteration": 503,
                        "passed_time": 19.86095329,
                        "remaining_time": 19.54570006,
                        "test": [
                          18.34717485
                        ]
                      },
                      {
                        "learn": [
                          17.92912017
                        ],
                        "iteration": 504,
                        "passed_time": 19.88109191,
                        "remaining_time": 19.48740692,
                        "test": [
                          18.34261568
                        ]
                      },
                      {
                        "learn": [
                          17.92394348
                        ],
                        "iteration": 505,
                        "passed_time": 19.90274395,
                        "remaining_time": 19.43074211,
                        "test": [
                          18.33785156
                        ]
                      },
                      {
                        "learn": [
                          17.92189862
                        ],
                        "iteration": 506,
                        "passed_time": 19.91901323,
                        "remaining_time": 19.3689813,
                        "test": [
                          18.33563402
                        ]
                      },
                      {
                        "learn": [
                          17.91561051
                        ],
                        "iteration": 507,
                        "passed_time": 19.94133912,
                        "remaining_time": 19.31326544,
                        "test": [
                          18.33021958
                        ]
                      },
                      {
                        "learn": [
                          17.91174545
                        ],
                        "iteration": 508,
                        "passed_time": 19.96005779,
                        "remaining_time": 19.25420113,
                        "test": [
                          18.32732523
                        ]
                      },
                      {
                        "learn": [
                          17.90827183
                        ],
                        "iteration": 509,
                        "passed_time": 19.97974591,
                        "remaining_time": 19.19622646,
                        "test": [
                          18.32391607
                        ]
                      },
                      {
                        "learn": [
                          17.90277562
                        ],
                        "iteration": 510,
                        "passed_time": 20.00187394,
                        "remaining_time": 19.14073651,
                        "test": [
                          18.31894375
                        ]
                      },
                      {
                        "learn": [
                          17.89809836
                        ],
                        "iteration": 511,
                        "passed_time": 20.02539596,
                        "remaining_time": 19.08670552,
                        "test": [
                          18.31438915
                        ]
                      },
                      {
                        "learn": [
                          17.89405069
                        ],
                        "iteration": 512,
                        "passed_time": 20.04512387,
                        "remaining_time": 19.02919166,
                        "test": [
                          18.31116121
                        ]
                      },
                      {
                        "learn": [
                          17.88922721
                        ],
                        "iteration": 513,
                        "passed_time": 20.06616587,
                        "remaining_time": 18.97306734,
                        "test": [
                          18.3064449
                        ]
                      },
                      {
                        "learn": [
                          17.8825187
                        ],
                        "iteration": 514,
                        "passed_time": 20.08794192,
                        "remaining_time": 18.91777054,
                        "test": [
                          18.30123083
                        ]
                      },
                      {
                        "learn": [
                          17.87677753
                        ],
                        "iteration": 515,
                        "passed_time": 20.10953923,
                        "remaining_time": 18.86243602,
                        "test": [
                          18.29624415
                        ]
                      },
                      {
                        "learn": [
                          17.87216691
                        ],
                        "iteration": 516,
                        "passed_time": 20.12992045,
                        "remaining_time": 18.8060959,
                        "test": [
                          18.29271098
                        ]
                      },
                      {
                        "learn": [
                          17.86731863
                        ],
                        "iteration": 517,
                        "passed_time": 20.14959199,
                        "remaining_time": 18.74923424,
                        "test": [
                          18.28814848
                        ]
                      },
                      {
                        "learn": [
                          17.86285112
                        ],
                        "iteration": 518,
                        "passed_time": 20.1692015,
                        "remaining_time": 18.69245842,
                        "test": [
                          18.28375508
                        ]
                      },
                      {
                        "learn": [
                          17.85894104
                        ],
                        "iteration": 519,
                        "passed_time": 20.18847251,
                        "remaining_time": 18.63551309,
                        "test": [
                          18.27987897
                        ]
                      },
                      {
                        "learn": [
                          17.85569097
                        ],
                        "iteration": 520,
                        "passed_time": 20.20953233,
                        "remaining_time": 18.58035698,
                        "test": [
                          18.27659569
                        ]
                      },
                      {
                        "learn": [
                          17.85023599
                        ],
                        "iteration": 521,
                        "passed_time": 20.24831313,
                        "remaining_time": 18.54155877,
                        "test": [
                          18.271748
                        ]
                      },
                      {
                        "learn": [
                          17.84471981
                        ],
                        "iteration": 522,
                        "passed_time": 20.2687804,
                        "remaining_time": 18.48605784,
                        "test": [
                          18.26701536
                        ]
                      },
                      {
                        "learn": [
                          17.8407441
                        ],
                        "iteration": 523,
                        "passed_time": 20.28699467,
                        "remaining_time": 18.42864401,
                        "test": [
                          18.26341972
                        ]
                      },
                      {
                        "learn": [
                          17.83470984
                        ],
                        "iteration": 524,
                        "passed_time": 20.30630596,
                        "remaining_time": 18.37237206,
                        "test": [
                          18.25768811
                        ]
                      },
                      {
                        "learn": [
                          17.82881446
                        ],
                        "iteration": 525,
                        "passed_time": 20.32896487,
                        "remaining_time": 18.31925732,
                        "test": [
                          18.25258886
                        ]
                      },
                      {
                        "learn": [
                          17.82332881
                        ],
                        "iteration": 526,
                        "passed_time": 20.34717425,
                        "remaining_time": 18.26226456,
                        "test": [
                          18.24751832
                        ]
                      },
                      {
                        "learn": [
                          17.81843357
                        ],
                        "iteration": 527,
                        "passed_time": 20.36869499,
                        "remaining_time": 18.20837885,
                        "test": [
                          18.2431309
                        ]
                      },
                      {
                        "learn": [
                          17.81276088
                        ],
                        "iteration": 528,
                        "passed_time": 20.41168452,
                        "remaining_time": 18.17373045,
                        "test": [
                          18.23751902
                        ]
                      },
                      {
                        "learn": [
                          17.80771813
                        ],
                        "iteration": 529,
                        "passed_time": 20.44614385,
                        "remaining_time": 18.13148605,
                        "test": [
                          18.23355972
                        ]
                      },
                      {
                        "learn": [
                          17.80420947
                        ],
                        "iteration": 530,
                        "passed_time": 20.46537315,
                        "remaining_time": 18.07581923,
                        "test": [
                          18.22973052
                        ]
                      },
                      {
                        "learn": [
                          17.79976475
                        ],
                        "iteration": 531,
                        "passed_time": 20.48509877,
                        "remaining_time": 18.02072599,
                        "test": [
                          18.22550617
                        ]
                      },
                      {
                        "learn": [
                          17.79392593
                        ],
                        "iteration": 532,
                        "passed_time": 20.506861,
                        "remaining_time": 17.96754988,
                        "test": [
                          18.21997873
                        ]
                      },
                      {
                        "learn": [
                          17.79143825
                        ],
                        "iteration": 533,
                        "passed_time": 20.52364804,
                        "remaining_time": 17.91014979,
                        "test": [
                          18.21759795
                        ]
                      },
                      {
                        "learn": [
                          17.78787368
                        ],
                        "iteration": 534,
                        "passed_time": 20.54306927,
                        "remaining_time": 17.85519105,
                        "test": [
                          18.2141456
                        ]
                      },
                      {
                        "learn": [
                          17.78243656
                        ],
                        "iteration": 535,
                        "passed_time": 20.56080193,
                        "remaining_time": 17.79890316,
                        "test": [
                          18.20905887
                        ]
                      },
                      {
                        "learn": [
                          17.77707934
                        ],
                        "iteration": 536,
                        "passed_time": 20.57971809,
                        "remaining_time": 17.74377929,
                        "test": [
                          18.20423096
                        ]
                      },
                      {
                        "learn": [
                          17.7730442
                        ],
                        "iteration": 537,
                        "passed_time": 20.59952792,
                        "remaining_time": 17.68955744,
                        "test": [
                          18.20053021
                        ]
                      },
                      {
                        "learn": [
                          17.76761872
                        ],
                        "iteration": 538,
                        "passed_time": 20.61694452,
                        "remaining_time": 17.63341637,
                        "test": [
                          18.19575363
                        ]
                      },
                      {
                        "learn": [
                          17.76260046
                        ],
                        "iteration": 539,
                        "passed_time": 20.63390195,
                        "remaining_time": 17.57702759,
                        "test": [
                          18.19118468
                        ]
                      },
                      {
                        "learn": [
                          17.7584311
                        ],
                        "iteration": 540,
                        "passed_time": 20.65444406,
                        "remaining_time": 17.52382592,
                        "test": [
                          18.18738436
                        ]
                      },
                      {
                        "learn": [
                          17.7536447
                        ],
                        "iteration": 541,
                        "passed_time": 20.6727708,
                        "remaining_time": 17.46887275,
                        "test": [
                          18.18302643
                        ]
                      },
                      {
                        "learn": [
                          17.74931125
                        ],
                        "iteration": 542,
                        "passed_time": 20.69203125,
                        "remaining_time": 17.4148403,
                        "test": [
                          18.17903944
                        ]
                      },
                      {
                        "learn": [
                          17.74583331
                        ],
                        "iteration": 543,
                        "passed_time": 20.70994315,
                        "remaining_time": 17.35980529,
                        "test": [
                          18.17689467
                        ]
                      },
                      {
                        "learn": [
                          17.74310923
                        ],
                        "iteration": 544,
                        "passed_time": 20.72811246,
                        "remaining_time": 17.30512141,
                        "test": [
                          18.17474759
                        ]
                      },
                      {
                        "learn": [
                          17.73808755
                        ],
                        "iteration": 545,
                        "passed_time": 20.74936374,
                        "remaining_time": 17.25313395,
                        "test": [
                          18.17028618
                        ]
                      },
                      {
                        "learn": [
                          17.73302075
                        ],
                        "iteration": 546,
                        "passed_time": 20.77182616,
                        "remaining_time": 17.20226188,
                        "test": [
                          18.16608447
                        ]
                      },
                      {
                        "learn": [
                          17.73032642
                        ],
                        "iteration": 547,
                        "passed_time": 20.78921668,
                        "remaining_time": 17.14731011,
                        "test": [
                          18.16406962
                        ]
                      },
                      {
                        "learn": [
                          17.72749066
                        ],
                        "iteration": 548,
                        "passed_time": 20.80670057,
                        "remaining_time": 17.09257187,
                        "test": [
                          18.1613532
                        ]
                      },
                      {
                        "learn": [
                          17.72218736
                        ],
                        "iteration": 549,
                        "passed_time": 20.82891689,
                        "remaining_time": 17.04184109,
                        "test": [
                          18.15612431
                        ]
                      },
                      {
                        "learn": [
                          17.71816652
                        ],
                        "iteration": 550,
                        "passed_time": 20.84878817,
                        "remaining_time": 16.98930288,
                        "test": [
                          18.15220097
                        ]
                      },
                      {
                        "learn": [
                          17.7128054
                        ],
                        "iteration": 551,
                        "passed_time": 20.87036417,
                        "remaining_time": 16.93826657,
                        "test": [
                          18.14758386
                        ]
                      },
                      {
                        "learn": [
                          17.70856078
                        ],
                        "iteration": 552,
                        "passed_time": 20.88920619,
                        "remaining_time": 16.88512689,
                        "test": [
                          18.14459148
                        ]
                      },
                      {
                        "learn": [
                          17.70357379
                        ],
                        "iteration": 553,
                        "passed_time": 20.91054586,
                        "remaining_time": 16.83412175,
                        "test": [
                          18.14012679
                        ]
                      },
                      {
                        "learn": [
                          17.69965819
                        ],
                        "iteration": 554,
                        "passed_time": 20.93109768,
                        "remaining_time": 16.78259183,
                        "test": [
                          18.13653288
                        ]
                      },
                      {
                        "learn": [
                          17.6960716
                        ],
                        "iteration": 555,
                        "passed_time": 20.95140726,
                        "remaining_time": 16.7309799,
                        "test": [
                          18.13305821
                        ]
                      },
                      {
                        "learn": [
                          17.69253515
                        ],
                        "iteration": 556,
                        "passed_time": 20.97104717,
                        "remaining_time": 16.67894775,
                        "test": [
                          18.1296925
                        ]
                      },
                      {
                        "learn": [
                          17.68770618
                        ],
                        "iteration": 557,
                        "passed_time": 20.99224532,
                        "remaining_time": 16.62826601,
                        "test": [
                          18.12563792
                        ]
                      },
                      {
                        "learn": [
                          17.6845646
                        ],
                        "iteration": 558,
                        "passed_time": 21.00983872,
                        "remaining_time": 16.57484593,
                        "test": [
                          18.12305576
                        ]
                      },
                      {
                        "learn": [
                          17.67935731
                        ],
                        "iteration": 559,
                        "passed_time": 21.03122105,
                        "remaining_time": 16.52453083,
                        "test": [
                          18.11790896
                        ]
                      },
                      {
                        "learn": [
                          17.67687472
                        ],
                        "iteration": 560,
                        "passed_time": 21.048595,
                        "remaining_time": 16.47118218,
                        "test": [
                          18.11601708
                        ]
                      },
                      {
                        "learn": [
                          17.67215182
                        ],
                        "iteration": 561,
                        "passed_time": 21.06568962,
                        "remaining_time": 16.41774387,
                        "test": [
                          18.11186144
                        ]
                      },
                      {
                        "learn": [
                          17.66884759
                        ],
                        "iteration": 562,
                        "passed_time": 21.084639,
                        "remaining_time": 16.36587432,
                        "test": [
                          18.1085691
                        ]
                      },
                      {
                        "learn": [
                          17.66427468
                        ],
                        "iteration": 563,
                        "passed_time": 21.10622946,
                        "remaining_time": 16.3161632,
                        "test": [
                          18.10430474
                        ]
                      },
                      {
                        "learn": [
                          17.66058323
                        ],
                        "iteration": 564,
                        "passed_time": 21.12643471,
                        "remaining_time": 16.26548513,
                        "test": [
                          18.10077346
                        ]
                      },
                      {
                        "learn": [
                          17.65748071
                        ],
                        "iteration": 565,
                        "passed_time": 21.14601488,
                        "remaining_time": 16.21443544,
                        "test": [
                          18.09776229
                        ]
                      },
                      {
                        "learn": [
                          17.65330422
                        ],
                        "iteration": 566,
                        "passed_time": 21.16729198,
                        "remaining_time": 16.16479264,
                        "test": [
                          18.09358312
                        ]
                      },
                      {
                        "learn": [
                          17.64948512
                        ],
                        "iteration": 567,
                        "passed_time": 21.18705376,
                        "remaining_time": 16.11409722,
                        "test": [
                          18.08982656
                        ]
                      },
                      {
                        "learn": [
                          17.64649894
                        ],
                        "iteration": 568,
                        "passed_time": 21.20572777,
                        "remaining_time": 16.06268659,
                        "test": [
                          18.08717156
                        ]
                      },
                      {
                        "learn": [
                          17.64192025
                        ],
                        "iteration": 569,
                        "passed_time": 21.22720671,
                        "remaining_time": 16.01350682,
                        "test": [
                          18.08394938
                        ]
                      },
                      {
                        "learn": [
                          17.63778472
                        ],
                        "iteration": 570,
                        "passed_time": 21.27508542,
                        "remaining_time": 15.98425857,
                        "test": [
                          18.08040583
                        ]
                      },
                      {
                        "learn": [
                          17.63246792
                        ],
                        "iteration": 571,
                        "passed_time": 21.29683329,
                        "remaining_time": 15.93539274,
                        "test": [
                          18.07569224
                        ]
                      },
                      {
                        "learn": [
                          17.62778985
                        ],
                        "iteration": 572,
                        "passed_time": 21.31792039,
                        "remaining_time": 15.88612916,
                        "test": [
                          18.07138207
                        ]
                      },
                      {
                        "learn": [
                          17.62350135
                        ],
                        "iteration": 573,
                        "passed_time": 21.33880279,
                        "remaining_time": 15.83681183,
                        "test": [
                          18.06778625
                        ]
                      },
                      {
                        "learn": [
                          17.6199099
                        ],
                        "iteration": 574,
                        "passed_time": 21.35868814,
                        "remaining_time": 15.78685645,
                        "test": [
                          18.06389008
                        ]
                      },
                      {
                        "learn": [
                          17.616383
                        ],
                        "iteration": 575,
                        "passed_time": 21.37690957,
                        "remaining_time": 15.73578066,
                        "test": [
                          18.06033776
                        ]
                      },
                      {
                        "learn": [
                          17.61246079
                        ],
                        "iteration": 576,
                        "passed_time": 21.401904,
                        "remaining_time": 15.68978404,
                        "test": [
                          18.05652444
                        ]
                      },
                      {
                        "learn": [
                          17.60854196
                        ],
                        "iteration": 577,
                        "passed_time": 21.44548984,
                        "remaining_time": 15.65743376,
                        "test": [
                          18.05398571
                        ]
                      },
                      {
                        "learn": [
                          17.60532803
                        ],
                        "iteration": 578,
                        "passed_time": 21.47756038,
                        "remaining_time": 15.61667171,
                        "test": [
                          18.05149578
                        ]
                      },
                      {
                        "learn": [
                          17.60106886
                        ],
                        "iteration": 579,
                        "passed_time": 21.49904501,
                        "remaining_time": 15.56827397,
                        "test": [
                          18.04747905
                        ]
                      },
                      {
                        "learn": [
                          17.59763052
                        ],
                        "iteration": 580,
                        "passed_time": 21.51756766,
                        "remaining_time": 15.51783279,
                        "test": [
                          18.04446383
                        ]
                      },
                      {
                        "learn": [
                          17.59422988
                        ],
                        "iteration": 581,
                        "passed_time": 21.53784218,
                        "remaining_time": 15.4687595,
                        "test": [
                          18.04102755
                        ]
                      },
                      {
                        "learn": [
                          17.58974772
                        ],
                        "iteration": 582,
                        "passed_time": 21.55968965,
                        "remaining_time": 15.42091009,
                        "test": [
                          18.03726767
                        ]
                      },
                      {
                        "learn": [
                          17.58688716
                        ],
                        "iteration": 583,
                        "passed_time": 21.57821905,
                        "remaining_time": 15.37078617,
                        "test": [
                          18.03468325
                        ]
                      },
                      {
                        "learn": [
                          17.58171849
                        ],
                        "iteration": 584,
                        "passed_time": 21.59949735,
                        "remaining_time": 15.32272034,
                        "test": [
                          18.02977468
                        ]
                      },
                      {
                        "learn": [
                          17.57720683
                        ],
                        "iteration": 585,
                        "passed_time": 21.62095146,
                        "remaining_time": 15.27487014,
                        "test": [
                          18.02544521
                        ]
                      },
                      {
                        "learn": [
                          17.57300202
                        ],
                        "iteration": 586,
                        "passed_time": 21.64225721,
                        "remaining_time": 15.2270055,
                        "test": [
                          18.02103077
                        ]
                      },
                      {
                        "learn": [
                          17.56863114
                        ],
                        "iteration": 587,
                        "passed_time": 21.66248699,
                        "remaining_time": 15.17847728,
                        "test": [
                          18.01732638
                        ]
                      },
                      {
                        "learn": [
                          17.56491958
                        ],
                        "iteration": 588,
                        "passed_time": 21.68074983,
                        "remaining_time": 15.12867263,
                        "test": [
                          18.01399734
                        ]
                      },
                      {
                        "learn": [
                          17.56107485
                        ],
                        "iteration": 589,
                        "passed_time": 21.7006591,
                        "remaining_time": 15.08011904,
                        "test": [
                          18.01058369
                        ]
                      },
                      {
                        "learn": [
                          17.55644682
                        ],
                        "iteration": 590,
                        "passed_time": 21.72033501,
                        "remaining_time": 15.03150088,
                        "test": [
                          18.00601358
                        ]
                      },
                      {
                        "learn": [
                          17.55369477
                        ],
                        "iteration": 591,
                        "passed_time": 21.74058657,
                        "remaining_time": 14.98337723,
                        "test": [
                          18.00348161
                        ]
                      },
                      {
                        "learn": [
                          17.55079841
                        ],
                        "iteration": 592,
                        "passed_time": 21.75832136,
                        "remaining_time": 14.93362022,
                        "test": [
                          18.00070971
                        ]
                      },
                      {
                        "learn": [
                          17.54822213
                        ],
                        "iteration": 593,
                        "passed_time": 21.77550866,
                        "remaining_time": 14.88359683,
                        "test": [
                          17.99926179
                        ]
                      },
                      {
                        "learn": [
                          17.54640277
                        ],
                        "iteration": 594,
                        "passed_time": 21.79251264,
                        "remaining_time": 14.83355902,
                        "test": [
                          17.99740606
                        ]
                      },
                      {
                        "learn": [
                          17.54240933
                        ],
                        "iteration": 595,
                        "passed_time": 21.8142008,
                        "remaining_time": 14.78680725,
                        "test": [
                          17.99372113
                        ]
                      },
                      {
                        "learn": [
                          17.53792818
                        ],
                        "iteration": 596,
                        "passed_time": 21.83292979,
                        "remaining_time": 14.73814189,
                        "test": [
                          17.98957267
                        ]
                      },
                      {
                        "learn": [
                          17.53442115
                        ],
                        "iteration": 597,
                        "passed_time": 21.85173283,
                        "remaining_time": 14.68962642,
                        "test": [
                          17.9865825
                        ]
                      },
                      {
                        "learn": [
                          17.53106315
                        ],
                        "iteration": 598,
                        "passed_time": 21.87101858,
                        "remaining_time": 14.64153331,
                        "test": [
                          17.98340902
                        ]
                      },
                      {
                        "learn": [
                          17.52787209
                        ],
                        "iteration": 599,
                        "passed_time": 21.89040235,
                        "remaining_time": 14.59360157,
                        "test": [
                          17.98056034
                        ]
                      },
                      {
                        "learn": [
                          17.52339864
                        ],
                        "iteration": 600,
                        "passed_time": 21.91291644,
                        "remaining_time": 14.54784303,
                        "test": [
                          17.9766258
                        ]
                      },
                      {
                        "learn": [
                          17.51904107
                        ],
                        "iteration": 601,
                        "passed_time": 21.93385664,
                        "remaining_time": 14.50112117,
                        "test": [
                          17.97265562
                        ]
                      },
                      {
                        "learn": [
                          17.51512204
                        ],
                        "iteration": 602,
                        "passed_time": 21.95588973,
                        "remaining_time": 14.45520435,
                        "test": [
                          17.9695555
                        ]
                      },
                      {
                        "learn": [
                          17.51160687
                        ],
                        "iteration": 603,
                        "passed_time": 21.97557778,
                        "remaining_time": 14.40782914,
                        "test": [
                          17.96660374
                        ]
                      },
                      {
                        "learn": [
                          17.509743
                        ],
                        "iteration": 604,
                        "passed_time": 21.99165797,
                        "remaining_time": 14.35818991,
                        "test": [
                          17.96477595
                        ]
                      },
                      {
                        "learn": [
                          17.50552199
                        ],
                        "iteration": 605,
                        "passed_time": 22.0125734,
                        "remaining_time": 14.31180515,
                        "test": [
                          17.96139262
                        ]
                      },
                      {
                        "learn": [
                          17.50240555
                        ],
                        "iteration": 606,
                        "passed_time": 22.0423952,
                        "remaining_time": 14.2712707,
                        "test": [
                          17.95923579
                        ]
                      },
                      {
                        "learn": [
                          17.49805703
                        ],
                        "iteration": 607,
                        "passed_time": 22.07154054,
                        "remaining_time": 14.23033535,
                        "test": [
                          17.95512879
                        ]
                      },
                      {
                        "learn": [
                          17.49328228
                        ],
                        "iteration": 608,
                        "passed_time": 22.09345733,
                        "remaining_time": 14.18479773,
                        "test": [
                          17.95107378
                        ]
                      },
                      {
                        "learn": [
                          17.48867062
                        ],
                        "iteration": 609,
                        "passed_time": 22.11646911,
                        "remaining_time": 14.14003763,
                        "test": [
                          17.94664244
                        ]
                      },
                      {
                        "learn": [
                          17.48458535
                        ],
                        "iteration": 610,
                        "passed_time": 22.13730338,
                        "remaining_time": 14.09396238,
                        "test": [
                          17.94324594
                        ]
                      },
                      {
                        "learn": [
                          17.48118489
                        ],
                        "iteration": 611,
                        "passed_time": 22.15687683,
                        "remaining_time": 14.04717028,
                        "test": [
                          17.93951713
                        ]
                      },
                      {
                        "learn": [
                          17.47770008
                        ],
                        "iteration": 612,
                        "passed_time": 22.17682734,
                        "remaining_time": 14.00070503,
                        "test": [
                          17.9361611
                        ]
                      },
                      {
                        "learn": [
                          17.47434548
                        ],
                        "iteration": 613,
                        "passed_time": 22.19966219,
                        "remaining_time": 13.95613942,
                        "test": [
                          17.93230465
                        ]
                      },
                      {
                        "learn": [
                          17.47053305
                        ],
                        "iteration": 614,
                        "passed_time": 22.22027021,
                        "remaining_time": 13.91025046,
                        "test": [
                          17.92892983
                        ]
                      },
                      {
                        "learn": [
                          17.46715346
                        ],
                        "iteration": 615,
                        "passed_time": 22.2422777,
                        "remaining_time": 13.86531597,
                        "test": [
                          17.92555648
                        ]
                      },
                      {
                        "learn": [
                          17.46348261
                        ],
                        "iteration": 616,
                        "passed_time": 22.26312528,
                        "remaining_time": 13.81973579,
                        "test": [
                          17.92237149
                        ]
                      },
                      {
                        "learn": [
                          17.46023983
                        ],
                        "iteration": 617,
                        "passed_time": 22.30715324,
                        "remaining_time": 13.78856398,
                        "test": [
                          17.91955357
                        ]
                      },
                      {
                        "learn": [
                          17.45739528
                        ],
                        "iteration": 618,
                        "passed_time": 22.32819641,
                        "remaining_time": 13.74320328,
                        "test": [
                          17.9175061
                        ]
                      },
                      {
                        "learn": [
                          17.45319527
                        ],
                        "iteration": 619,
                        "passed_time": 22.34831486,
                        "remaining_time": 13.69735427,
                        "test": [
                          17.913437
                        ]
                      },
                      {
                        "learn": [
                          17.4501755
                        ],
                        "iteration": 620,
                        "passed_time": 22.36747804,
                        "remaining_time": 13.65100511,
                        "test": [
                          17.91118784
                        ]
                      },
                      {
                        "learn": [
                          17.44664868
                        ],
                        "iteration": 621,
                        "passed_time": 22.3868255,
                        "remaining_time": 13.60485537,
                        "test": [
                          17.90807709
                        ]
                      },
                      {
                        "learn": [
                          17.44265103
                        ],
                        "iteration": 622,
                        "passed_time": 22.41063711,
                        "remaining_time": 13.56149308,
                        "test": [
                          17.90425368
                        ]
                      },
                      {
                        "learn": [
                          17.43949326
                        ],
                        "iteration": 623,
                        "passed_time": 22.42990983,
                        "remaining_time": 13.51545849,
                        "test": [
                          17.90223101
                        ]
                      },
                      {
                        "learn": [
                          17.435542
                        ],
                        "iteration": 624,
                        "passed_time": 22.44980917,
                        "remaining_time": 13.4698855,
                        "test": [
                          17.89874437
                        ]
                      },
                      {
                        "learn": [
                          17.43241808
                        ],
                        "iteration": 625,
                        "passed_time": 22.48506391,
                        "remaining_time": 13.43356854,
                        "test": [
                          17.89576277
                        ]
                      },
                      {
                        "learn": [
                          17.43020367
                        ],
                        "iteration": 626,
                        "passed_time": 22.51734304,
                        "remaining_time": 13.39548478,
                        "test": [
                          17.89470313
                        ]
                      },
                      {
                        "learn": [
                          17.42701208
                        ],
                        "iteration": 627,
                        "passed_time": 22.53562511,
                        "remaining_time": 13.34912825,
                        "test": [
                          17.89176906
                        ]
                      },
                      {
                        "learn": [
                          17.42316848
                        ],
                        "iteration": 628,
                        "passed_time": 22.55712647,
                        "remaining_time": 13.30475981,
                        "test": [
                          17.88829226
                        ]
                      },
                      {
                        "learn": [
                          17.42098447
                        ],
                        "iteration": 629,
                        "passed_time": 22.57473067,
                        "remaining_time": 13.25817516,
                        "test": [
                          17.88617693
                        ]
                      },
                      {
                        "learn": [
                          17.4178364
                        ],
                        "iteration": 630,
                        "passed_time": 22.59266897,
                        "remaining_time": 13.21187773,
                        "test": [
                          17.88323027
                        ]
                      },
                      {
                        "learn": [
                          17.41641252
                        ],
                        "iteration": 631,
                        "passed_time": 22.60878598,
                        "remaining_time": 13.16460956,
                        "test": [
                          17.88192383
                        ]
                      },
                      {
                        "learn": [
                          17.41227369
                        ],
                        "iteration": 632,
                        "passed_time": 22.63274197,
                        "remaining_time": 13.12198468,
                        "test": [
                          17.87810043
                        ]
                      },
                      {
                        "learn": [
                          17.41028073
                        ],
                        "iteration": 633,
                        "passed_time": 22.64922784,
                        "remaining_time": 13.07510629,
                        "test": [
                          17.87639785
                        ]
                      },
                      {
                        "learn": [
                          17.40640687
                        ],
                        "iteration": 634,
                        "passed_time": 22.66857549,
                        "remaining_time": 13.02996859,
                        "test": [
                          17.87284672
                        ]
                      },
                      {
                        "learn": [
                          17.40282377
                        ],
                        "iteration": 635,
                        "passed_time": 22.6886591,
                        "remaining_time": 12.98533319,
                        "test": [
                          17.86960618
                        ]
                      },
                      {
                        "learn": [
                          17.40017026
                        ],
                        "iteration": 636,
                        "passed_time": 22.71029224,
                        "remaining_time": 12.9416579,
                        "test": [
                          17.86802451
                        ]
                      },
                      {
                        "learn": [
                          17.39730295
                        ],
                        "iteration": 637,
                        "passed_time": 22.72872572,
                        "remaining_time": 12.89623622,
                        "test": [
                          17.8652337
                        ]
                      },
                      {
                        "learn": [
                          17.39361018
                        ],
                        "iteration": 638,
                        "passed_time": 22.74839698,
                        "remaining_time": 12.85159829,
                        "test": [
                          17.86164256
                        ]
                      },
                      {
                        "learn": [
                          17.38930347
                        ],
                        "iteration": 639,
                        "passed_time": 22.76951596,
                        "remaining_time": 12.80785273,
                        "test": [
                          17.85758732
                        ]
                      },
                      {
                        "learn": [
                          17.38628051
                        ],
                        "iteration": 640,
                        "passed_time": 22.79081266,
                        "remaining_time": 12.76427729,
                        "test": [
                          17.85441192
                        ]
                      },
                      {
                        "learn": [
                          17.38390779
                        ],
                        "iteration": 641,
                        "passed_time": 22.80888799,
                        "remaining_time": 12.71897493,
                        "test": [
                          17.8520391
                        ]
                      },
                      {
                        "learn": [
                          17.38045094
                        ],
                        "iteration": 642,
                        "passed_time": 22.82874095,
                        "remaining_time": 12.6747442,
                        "test": [
                          17.84913303
                        ]
                      },
                      {
                        "learn": [
                          17.37721712
                        ],
                        "iteration": 643,
                        "passed_time": 22.84941887,
                        "remaining_time": 12.63104522,
                        "test": [
                          17.84636938
                        ]
                      },
                      {
                        "learn": [
                          17.37439567
                        ],
                        "iteration": 644,
                        "passed_time": 22.86894835,
                        "remaining_time": 12.58678552,
                        "test": [
                          17.84430441
                        ]
                      },
                      {
                        "learn": [
                          17.37213645
                        ],
                        "iteration": 645,
                        "passed_time": 22.88781265,
                        "remaining_time": 12.54223789,
                        "test": [
                          17.841994
                        ]
                      },
                      {
                        "learn": [
                          17.36843113
                        ],
                        "iteration": 646,
                        "passed_time": 22.90707712,
                        "remaining_time": 12.49798798,
                        "test": [
                          17.8385979
                        ]
                      },
                      {
                        "learn": [
                          17.36523107
                        ],
                        "iteration": 647,
                        "passed_time": 22.92399772,
                        "remaining_time": 12.45254197,
                        "test": [
                          17.83581229
                        ]
                      },
                      {
                        "learn": [
                          17.36194042
                        ],
                        "iteration": 648,
                        "passed_time": 22.94329594,
                        "remaining_time": 12.40846976,
                        "test": [
                          17.83246267
                        ]
                      },
                      {
                        "learn": [
                          17.35983151
                        ],
                        "iteration": 649,
                        "passed_time": 22.9612213,
                        "remaining_time": 12.36373454,
                        "test": [
                          17.83118616
                        ]
                      },
                      {
                        "learn": [
                          17.35636987
                        ],
                        "iteration": 650,
                        "passed_time": 22.98277864,
                        "remaining_time": 12.32102879,
                        "test": [
                          17.82832297
                        ]
                      },
                      {
                        "learn": [
                          17.35288593
                        ],
                        "iteration": 651,
                        "passed_time": 23.00175045,
                        "remaining_time": 12.27700791,
                        "test": [
                          17.82533169
                        ]
                      },
                      {
                        "learn": [
                          17.35014121
                        ],
                        "iteration": 652,
                        "passed_time": 23.02029019,
                        "remaining_time": 12.23283414,
                        "test": [
                          17.82312332
                        ]
                      },
                      {
                        "learn": [
                          17.34584316
                        ],
                        "iteration": 653,
                        "passed_time": 23.04152515,
                        "remaining_time": 12.19016468,
                        "test": [
                          17.81946478
                        ]
                      },
                      {
                        "learn": [
                          17.34308508
                        ],
                        "iteration": 654,
                        "passed_time": 23.05981287,
                        "remaining_time": 12.1460083,
                        "test": [
                          17.81706275
                        ]
                      },
                      {
                        "learn": [
                          17.33852935
                        ],
                        "iteration": 655,
                        "passed_time": 23.08208693,
                        "remaining_time": 12.1040212,
                        "test": [
                          17.81301069
                        ]
                      },
                      {
                        "learn": [
                          17.33486371
                        ],
                        "iteration": 656,
                        "passed_time": 23.10337637,
                        "remaining_time": 12.06158006,
                        "test": [
                          17.80997894
                        ]
                      },
                      {
                        "learn": [
                          17.33168918
                        ],
                        "iteration": 657,
                        "passed_time": 23.12336032,
                        "remaining_time": 12.01852466,
                        "test": [
                          17.80737137
                        ]
                      },
                      {
                        "learn": [
                          17.3286872
                        ],
                        "iteration": 658,
                        "passed_time": 23.14256787,
                        "remaining_time": 11.97513755,
                        "test": [
                          17.80518394
                        ]
                      },
                      {
                        "learn": [
                          17.32506493
                        ],
                        "iteration": 659,
                        "passed_time": 23.16291738,
                        "remaining_time": 11.93241198,
                        "test": [
                          17.8024598
                        ]
                      },
                      {
                        "learn": [
                          17.32192902
                        ],
                        "iteration": 660,
                        "passed_time": 23.18269528,
                        "remaining_time": 11.88946097,
                        "test": [
                          17.79956601
                        ]
                      },
                      {
                        "learn": [
                          17.31822378
                        ],
                        "iteration": 661,
                        "passed_time": 23.20434335,
                        "remaining_time": 11.84753482,
                        "test": [
                          17.79631984
                        ]
                      },
                      {
                        "learn": [
                          17.31540283
                        ],
                        "iteration": 662,
                        "passed_time": 23.22257229,
                        "remaining_time": 11.80393192,
                        "test": [
                          17.79394981
                        ]
                      },
                      {
                        "learn": [
                          17.31204494
                        ],
                        "iteration": 663,
                        "passed_time": 23.24362737,
                        "remaining_time": 11.76183554,
                        "test": [
                          17.79146284
                        ]
                      },
                      {
                        "learn": [
                          17.30891678
                        ],
                        "iteration": 664,
                        "passed_time": 23.26282943,
                        "remaining_time": 11.71886896,
                        "test": [
                          17.78871342
                        ]
                      },
                      {
                        "learn": [
                          17.30494582
                        ],
                        "iteration": 665,
                        "passed_time": 23.28464954,
                        "remaining_time": 11.6772867,
                        "test": [
                          17.78500141
                        ]
                      },
                      {
                        "learn": [
                          17.30169789
                        ],
                        "iteration": 666,
                        "passed_time": 23.31667416,
                        "remaining_time": 11.64085831,
                        "test": [
                          17.78277256
                        ]
                      },
                      {
                        "learn": [
                          17.29895662
                        ],
                        "iteration": 667,
                        "passed_time": 23.34772008,
                        "remaining_time": 11.60395669,
                        "test": [
                          17.7803248
                        ]
                      },
                      {
                        "learn": [
                          17.29548207
                        ],
                        "iteration": 668,
                        "passed_time": 23.36893519,
                        "remaining_time": 11.56220859,
                        "test": [
                          17.77714333
                        ]
                      },
                      {
                        "learn": [
                          17.29111188
                        ],
                        "iteration": 669,
                        "passed_time": 23.39166961,
                        "remaining_time": 11.5212701,
                        "test": [
                          17.77310327
                        ]
                      },
                      {
                        "learn": [
                          17.28722361
                        ],
                        "iteration": 670,
                        "passed_time": 23.41489328,
                        "remaining_time": 11.48062577,
                        "test": [
                          17.76960889
                        ]
                      },
                      {
                        "learn": [
                          17.28381613
                        ],
                        "iteration": 671,
                        "passed_time": 23.4380585,
                        "remaining_time": 11.44000475,
                        "test": [
                          17.76668652
                        ]
                      },
                      {
                        "learn": [
                          17.28158268
                        ],
                        "iteration": 672,
                        "passed_time": 23.45635851,
                        "remaining_time": 11.39707167,
                        "test": [
                          17.76550731
                        ]
                      },
                      {
                        "learn": [
                          17.27875502
                        ],
                        "iteration": 673,
                        "passed_time": 23.4748008,
                        "remaining_time": 11.35428051,
                        "test": [
                          17.76286224
                        ]
                      },
                      {
                        "learn": [
                          17.27614034
                        ],
                        "iteration": 674,
                        "passed_time": 23.50314987,
                        "remaining_time": 11.31633142,
                        "test": [
                          17.7607003
                        ]
                      },
                      {
                        "learn": [
                          17.27333567
                        ],
                        "iteration": 675,
                        "passed_time": 23.5320496,
                        "remaining_time": 11.27867466,
                        "test": [
                          17.75865352
                        ]
                      },
                      {
                        "learn": [
                          17.26928415
                        ],
                        "iteration": 676,
                        "passed_time": 23.56887659,
                        "remaining_time": 11.24482591,
                        "test": [
                          17.75591099
                        ]
                      },
                      {
                        "learn": [
                          17.26642913
                        ],
                        "iteration": 677,
                        "passed_time": 23.58750525,
                        "remaining_time": 11.2023255,
                        "test": [
                          17.75417557
                        ]
                      },
                      {
                        "learn": [
                          17.26275253
                        ],
                        "iteration": 678,
                        "passed_time": 23.60894866,
                        "remaining_time": 11.1612261,
                        "test": [
                          17.75087956
                        ]
                      },
                      {
                        "learn": [
                          17.25989788
                        ],
                        "iteration": 679,
                        "passed_time": 23.62868131,
                        "remaining_time": 11.11937944,
                        "test": [
                          17.74794988
                        ]
                      },
                      {
                        "learn": [
                          17.25792572
                        ],
                        "iteration": 680,
                        "passed_time": 23.64698913,
                        "remaining_time": 11.0769303,
                        "test": [
                          17.74603266
                        ]
                      },
                      {
                        "learn": [
                          17.25471675
                        ],
                        "iteration": 681,
                        "passed_time": 23.66902312,
                        "remaining_time": 11.03628937,
                        "test": [
                          17.74397715
                        ]
                      },
                      {
                        "learn": [
                          17.25250417
                        ],
                        "iteration": 682,
                        "passed_time": 23.70906014,
                        "remaining_time": 11.00405866,
                        "test": [
                          17.74189251
                        ]
                      },
                      {
                        "learn": [
                          17.24838181
                        ],
                        "iteration": 683,
                        "passed_time": 23.76191382,
                        "remaining_time": 10.97772627,
                        "test": [
                          17.73840184
                        ]
                      },
                      {
                        "learn": [
                          17.24563133
                        ],
                        "iteration": 684,
                        "passed_time": 23.8277505,
                        "remaining_time": 10.95728673,
                        "test": [
                          17.73579079
                        ]
                      },
                      {
                        "learn": [
                          17.24187635
                        ],
                        "iteration": 685,
                        "passed_time": 23.89487973,
                        "remaining_time": 10.93730647,
                        "test": [
                          17.73231161
                        ]
                      },
                      {
                        "learn": [
                          17.23894138
                        ],
                        "iteration": 686,
                        "passed_time": 23.95501049,
                        "remaining_time": 10.91400041,
                        "test": [
                          17.72957416
                        ]
                      },
                      {
                        "learn": [
                          17.2358848
                        ],
                        "iteration": 687,
                        "passed_time": 24.01665432,
                        "remaining_time": 10.89127347,
                        "test": [
                          17.72647455
                        ]
                      },
                      {
                        "learn": [
                          17.23184044
                        ],
                        "iteration": 688,
                        "passed_time": 24.08923852,
                        "remaining_time": 10.87337181,
                        "test": [
                          17.72325238
                        ]
                      },
                      {
                        "learn": [
                          17.22864838
                        ],
                        "iteration": 689,
                        "passed_time": 24.15785094,
                        "remaining_time": 10.85352723,
                        "test": [
                          17.72054175
                        ]
                      },
                      {
                        "learn": [
                          17.22457111
                        ],
                        "iteration": 690,
                        "passed_time": 24.22851515,
                        "remaining_time": 10.83445902,
                        "test": [
                          17.71691988
                        ]
                      },
                      {
                        "learn": [
                          17.22218047
                        ],
                        "iteration": 691,
                        "passed_time": 24.30459133,
                        "remaining_time": 10.81765048,
                        "test": [
                          17.71548757
                        ]
                      },
                      {
                        "learn": [
                          17.21984393
                        ],
                        "iteration": 692,
                        "passed_time": 24.3690407,
                        "remaining_time": 10.79552019,
                        "test": [
                          17.7136247
                        ]
                      },
                      {
                        "learn": [
                          17.21678687
                        ],
                        "iteration": 693,
                        "passed_time": 24.42924623,
                        "remaining_time": 10.77139675,
                        "test": [
                          17.71079967
                        ]
                      },
                      {
                        "learn": [
                          17.21318898
                        ],
                        "iteration": 694,
                        "passed_time": 24.45679555,
                        "remaining_time": 10.73283833,
                        "test": [
                          17.70801443
                        ]
                      },
                      {
                        "learn": [
                          17.20931143
                        ],
                        "iteration": 695,
                        "passed_time": 24.47725984,
                        "remaining_time": 10.69121694,
                        "test": [
                          17.70475642
                        ]
                      },
                      {
                        "learn": [
                          17.20553835
                        ],
                        "iteration": 696,
                        "passed_time": 24.5001162,
                        "remaining_time": 10.65069614,
                        "test": [
                          17.70182335
                        ]
                      },
                      {
                        "learn": [
                          17.20289293
                        ],
                        "iteration": 697,
                        "passed_time": 24.51947121,
                        "remaining_time": 10.60871104,
                        "test": [
                          17.69908896
                        ]
                      },
                      {
                        "learn": [
                          17.19951017
                        ],
                        "iteration": 698,
                        "passed_time": 24.56868188,
                        "remaining_time": 10.57964699,
                        "test": [
                          17.69619804
                        ]
                      },
                      {
                        "learn": [
                          17.195402
                        ],
                        "iteration": 699,
                        "passed_time": 24.60865298,
                        "remaining_time": 10.54656556,
                        "test": [
                          17.69250265
                        ]
                      },
                      {
                        "learn": [
                          17.19153716
                        ],
                        "iteration": 700,
                        "passed_time": 24.63082099,
                        "remaining_time": 10.50587086,
                        "test": [
                          17.68980992
                        ]
                      },
                      {
                        "learn": [
                          17.18744455
                        ],
                        "iteration": 701,
                        "passed_time": 24.65154766,
                        "remaining_time": 10.4646171,
                        "test": [
                          17.68638459
                        ]
                      },
                      {
                        "learn": [
                          17.18409221
                        ],
                        "iteration": 702,
                        "passed_time": 24.67230868,
                        "remaining_time": 10.42343624,
                        "test": [
                          17.68364781
                        ]
                      },
                      {
                        "learn": [
                          17.18239361
                        ],
                        "iteration": 703,
                        "passed_time": 24.6885937,
                        "remaining_time": 10.38043144,
                        "test": [
                          17.68204103
                        ]
                      },
                      {
                        "learn": [
                          17.18024738
                        ],
                        "iteration": 704,
                        "passed_time": 24.70518668,
                        "remaining_time": 10.33763131,
                        "test": [
                          17.68065892
                        ]
                      },
                      {
                        "learn": [
                          17.17749982
                        ],
                        "iteration": 705,
                        "passed_time": 24.72503438,
                        "remaining_time": 10.29626078,
                        "test": [
                          17.67822743
                        ]
                      },
                      {
                        "learn": [
                          17.17389589
                        ],
                        "iteration": 706,
                        "passed_time": 24.74628656,
                        "remaining_time": 10.25553319,
                        "test": [
                          17.67472984
                        ]
                      },
                      {
                        "learn": [
                          17.17192913
                        ],
                        "iteration": 707,
                        "passed_time": 24.76427158,
                        "remaining_time": 10.21351314,
                        "test": [
                          17.67286126
                        ]
                      },
                      {
                        "learn": [
                          17.16785295
                        ],
                        "iteration": 708,
                        "passed_time": 24.78643587,
                        "remaining_time": 10.17327622,
                        "test": [
                          17.66924871
                        ]
                      },
                      {
                        "learn": [
                          17.16453466
                        ],
                        "iteration": 709,
                        "passed_time": 24.80609929,
                        "remaining_time": 10.13206872,
                        "test": [
                          17.66607625
                        ]
                      },
                      {
                        "learn": [
                          17.16059804
                        ],
                        "iteration": 710,
                        "passed_time": 24.82746103,
                        "remaining_time": 10.09161215,
                        "test": [
                          17.66272063
                        ]
                      },
                      {
                        "learn": [
                          17.15853432
                        ],
                        "iteration": 711,
                        "passed_time": 24.84872736,
                        "remaining_time": 10.05117062,
                        "test": [
                          17.66087767
                        ]
                      },
                      {
                        "learn": [
                          17.15507578
                        ],
                        "iteration": 712,
                        "passed_time": 24.86821668,
                        "remaining_time": 10.01006758,
                        "test": [
                          17.65802013
                        ]
                      },
                      {
                        "learn": [
                          17.15135272
                        ],
                        "iteration": 713,
                        "passed_time": 24.88949789,
                        "remaining_time": 9.969742852,
                        "test": [
                          17.65485061
                        ]
                      },
                      {
                        "learn": [
                          17.14961224
                        ],
                        "iteration": 714,
                        "passed_time": 24.9077773,
                        "remaining_time": 9.928274869,
                        "test": [
                          17.65318102
                        ]
                      },
                      {
                        "learn": [
                          17.14603307
                        ],
                        "iteration": 715,
                        "passed_time": 24.928086,
                        "remaining_time": 9.88767657,
                        "test": [
                          17.64997734
                        ]
                      },
                      {
                        "learn": [
                          17.14243784
                        ],
                        "iteration": 716,
                        "passed_time": 24.94951917,
                        "remaining_time": 9.847578697,
                        "test": [
                          17.64661228
                        ]
                      },
                      {
                        "learn": [
                          17.13911097
                        ],
                        "iteration": 717,
                        "passed_time": 24.97044002,
                        "remaining_time": 9.807331596,
                        "test": [
                          17.64357957
                        ]
                      },
                      {
                        "learn": [
                          17.13594978
                        ],
                        "iteration": 718,
                        "passed_time": 24.99163212,
                        "remaining_time": 9.767244263,
                        "test": [
                          17.64108698
                        ]
                      },
                      {
                        "learn": [
                          17.13289307
                        ],
                        "iteration": 719,
                        "passed_time": 25.01225947,
                        "remaining_time": 9.726989792,
                        "test": [
                          17.63880736
                        ]
                      },
                      {
                        "learn": [
                          17.13017732
                        ],
                        "iteration": 720,
                        "passed_time": 25.03346273,
                        "remaining_time": 9.687012625,
                        "test": [
                          17.63613691
                        ]
                      },
                      {
                        "learn": [
                          17.12684662
                        ],
                        "iteration": 721,
                        "passed_time": 25.0550539,
                        "remaining_time": 9.647236819,
                        "test": [
                          17.63304781
                        ]
                      },
                      {
                        "learn": [
                          17.12389631
                        ],
                        "iteration": 722,
                        "passed_time": 25.07476529,
                        "remaining_time": 9.606791129,
                        "test": [
                          17.6301886
                        ]
                      },
                      {
                        "learn": [
                          17.12022707
                        ],
                        "iteration": 723,
                        "passed_time": 25.09745138,
                        "remaining_time": 9.567536713,
                        "test": [
                          17.62803024
                        ]
                      },
                      {
                        "learn": [
                          17.11780944
                        ],
                        "iteration": 724,
                        "passed_time": 25.11656449,
                        "remaining_time": 9.526972739,
                        "test": [
                          17.62569148
                        ]
                      },
                      {
                        "learn": [
                          17.11653148
                        ],
                        "iteration": 725,
                        "passed_time": 25.13622275,
                        "remaining_time": 9.4866736,
                        "test": [
                          17.62440283
                        ]
                      },
                      {
                        "learn": [
                          17.11371745
                        ],
                        "iteration": 726,
                        "passed_time": 25.15538498,
                        "remaining_time": 9.446244978,
                        "test": [
                          17.62207848
                        ]
                      },
                      {
                        "learn": [
                          17.10975964
                        ],
                        "iteration": 727,
                        "passed_time": 25.17730056,
                        "remaining_time": 9.406903504,
                        "test": [
                          17.61907915
                        ]
                      },
                      {
                        "learn": [
                          17.10678666
                        ],
                        "iteration": 728,
                        "passed_time": 25.19827928,
                        "remaining_time": 9.367261569,
                        "test": [
                          17.61687401
                        ]
                      },
                      {
                        "learn": [
                          17.10479465
                        ],
                        "iteration": 729,
                        "passed_time": 25.21691212,
                        "remaining_time": 9.326803111,
                        "test": [
                          17.61499645
                        ]
                      },
                      {
                        "learn": [
                          17.10177403
                        ],
                        "iteration": 730,
                        "passed_time": 25.23854581,
                        "remaining_time": 9.287508651,
                        "test": [
                          17.61220812
                        ]
                      },
                      {
                        "learn": [
                          17.09860667
                        ],
                        "iteration": 731,
                        "passed_time": 25.26051074,
                        "remaining_time": 9.248383712,
                        "test": [
                          17.60945911
                        ]
                      },
                      {
                        "learn": [
                          17.09555278
                        ],
                        "iteration": 732,
                        "passed_time": 25.28152993,
                        "remaining_time": 9.208961107,
                        "test": [
                          17.6067842
                        ]
                      },
                      {
                        "learn": [
                          17.09252614
                        ],
                        "iteration": 733,
                        "passed_time": 25.30329844,
                        "remaining_time": 9.169860199,
                        "test": [
                          17.60417564
                        ]
                      },
                      {
                        "learn": [
                          17.08995465
                        ],
                        "iteration": 734,
                        "passed_time": 25.33225062,
                        "remaining_time": 9.13339648,
                        "test": [
                          17.60223991
                        ]
                      },
                      {
                        "learn": [
                          17.08646906
                        ],
                        "iteration": 735,
                        "passed_time": 25.36772078,
                        "remaining_time": 9.099291151,
                        "test": [
                          17.59915765
                        ]
                      },
                      {
                        "learn": [
                          17.08356886
                        ],
                        "iteration": 736,
                        "passed_time": 25.38556427,
                        "remaining_time": 9.058891997,
                        "test": [
                          17.59652665
                        ]
                      },
                      {
                        "learn": [
                          17.08057596
                        ],
                        "iteration": 737,
                        "passed_time": 25.40498948,
                        "remaining_time": 9.019115507,
                        "test": [
                          17.59343343
                        ]
                      },
                      {
                        "learn": [
                          17.07772526
                        ],
                        "iteration": 738,
                        "passed_time": 25.42499482,
                        "remaining_time": 8.979598982,
                        "test": [
                          17.59099699
                        ]
                      },
                      {
                        "learn": [
                          17.07515373
                        ],
                        "iteration": 739,
                        "passed_time": 25.44456533,
                        "remaining_time": 8.939982413,
                        "test": [
                          17.58885656
                        ]
                      },
                      {
                        "learn": [
                          17.07134368
                        ],
                        "iteration": 740,
                        "passed_time": 25.46674685,
                        "remaining_time": 8.901332571,
                        "test": [
                          17.58530637
                        ]
                      },
                      {
                        "learn": [
                          17.06840209
                        ],
                        "iteration": 741,
                        "passed_time": 25.48840673,
                        "remaining_time": 8.862545737,
                        "test": [
                          17.58291571
                        ]
                      },
                      {
                        "learn": [
                          17.06522341
                        ],
                        "iteration": 742,
                        "passed_time": 25.51021248,
                        "remaining_time": 8.823855459,
                        "test": [
                          17.58087526
                        ]
                      },
                      {
                        "learn": [
                          17.06197307
                        ],
                        "iteration": 743,
                        "passed_time": 25.53371319,
                        "remaining_time": 8.785793784,
                        "test": [
                          17.57808579
                        ]
                      },
                      {
                        "learn": [
                          17.05920279
                        ],
                        "iteration": 744,
                        "passed_time": 25.55337495,
                        "remaining_time": 8.746457196,
                        "test": [
                          17.57563086
                        ]
                      },
                      {
                        "learn": [
                          17.05651415
                        ],
                        "iteration": 745,
                        "passed_time": 25.5868843,
                        "remaining_time": 8.711888221,
                        "test": [
                          17.57331927
                        ]
                      },
                      {
                        "learn": [
                          17.05275638
                        ],
                        "iteration": 746,
                        "passed_time": 25.61337339,
                        "remaining_time": 8.674944401,
                        "test": [
                          17.57063744
                        ]
                      },
                      {
                        "learn": [
                          17.05016349
                        ],
                        "iteration": 747,
                        "passed_time": 25.65081697,
                        "remaining_time": 8.641719086,
                        "test": [
                          17.56874996
                        ]
                      },
                      {
                        "learn": [
                          17.04837529
                        ],
                        "iteration": 748,
                        "passed_time": 25.66962032,
                        "remaining_time": 8.602235916,
                        "test": [
                          17.5672522
                        ]
                      },
                      {
                        "learn": [
                          17.04688021
                        ],
                        "iteration": 749,
                        "passed_time": 25.68554568,
                        "remaining_time": 8.561848561,
                        "test": [
                          17.56592013
                        ]
                      },
                      {
                        "learn": [
                          17.04413462
                        ],
                        "iteration": 750,
                        "passed_time": 25.70445042,
                        "remaining_time": 8.522514188,
                        "test": [
                          17.56351687
                        ]
                      },
                      {
                        "learn": [
                          17.04168786
                        ],
                        "iteration": 751,
                        "passed_time": 25.72364528,
                        "remaining_time": 8.483329826,
                        "test": [
                          17.56138235
                        ]
                      },
                      {
                        "learn": [
                          17.03836553
                        ],
                        "iteration": 752,
                        "passed_time": 25.74399601,
                        "remaining_time": 8.44457771,
                        "test": [
                          17.55883965
                        ]
                      },
                      {
                        "learn": [
                          17.03493102
                        ],
                        "iteration": 753,
                        "passed_time": 25.76589408,
                        "remaining_time": 8.406379236,
                        "test": [
                          17.55588434
                        ]
                      },
                      {
                        "learn": [
                          17.03199783
                        ],
                        "iteration": 754,
                        "passed_time": 25.78562309,
                        "remaining_time": 8.367520075,
                        "test": [
                          17.55338714
                        ]
                      },
                      {
                        "learn": [
                          17.03079123
                        ],
                        "iteration": 755,
                        "passed_time": 25.80140208,
                        "remaining_time": 8.327436651,
                        "test": [
                          17.5522114
                        ]
                      },
                      {
                        "learn": [
                          17.02766572
                        ],
                        "iteration": 756,
                        "passed_time": 25.82209569,
                        "remaining_time": 8.288995049,
                        "test": [
                          17.54999145
                        ]
                      },
                      {
                        "learn": [
                          17.02528928
                        ],
                        "iteration": 757,
                        "passed_time": 25.84166848,
                        "remaining_time": 8.250242443,
                        "test": [
                          17.54790158
                        ]
                      },
                      {
                        "learn": [
                          17.02197697
                        ],
                        "iteration": 758,
                        "passed_time": 25.8633014,
                        "remaining_time": 8.212194517,
                        "test": [
                          17.54591334
                        ]
                      },
                      {
                        "learn": [
                          17.01961075
                        ],
                        "iteration": 759,
                        "passed_time": 25.88146884,
                        "remaining_time": 8.173095423,
                        "test": [
                          17.54341472
                        ]
                      },
                      {
                        "learn": [
                          17.01742563
                        ],
                        "iteration": 760,
                        "passed_time": 25.90026803,
                        "remaining_time": 8.134249749,
                        "test": [
                          17.54171172
                        ]
                      },
                      {
                        "learn": [
                          17.01428664
                        ],
                        "iteration": 761,
                        "passed_time": 25.92186462,
                        "remaining_time": 8.09633042,
                        "test": [
                          17.5391006
                        ]
                      },
                      {
                        "learn": [
                          17.01265558
                        ],
                        "iteration": 762,
                        "passed_time": 25.9397644,
                        "remaining_time": 8.057305586,
                        "test": [
                          17.53804294
                        ]
                      },
                      {
                        "learn": [
                          17.01046222
                        ],
                        "iteration": 763,
                        "passed_time": 25.95799759,
                        "remaining_time": 8.018439045,
                        "test": [
                          17.5367956
                        ]
                      },
                      {
                        "learn": [
                          17.00693682
                        ],
                        "iteration": 764,
                        "passed_time": 25.97864214,
                        "remaining_time": 7.980367194,
                        "test": [
                          17.53379237
                        ]
                      },
                      {
                        "learn": [
                          17.00412082
                        ],
                        "iteration": 765,
                        "passed_time": 26.00038561,
                        "remaining_time": 7.942676544,
                        "test": [
                          17.53122643
                        ]
                      },
                      {
                        "learn": [
                          17.0015014
                        ],
                        "iteration": 766,
                        "passed_time": 26.02072225,
                        "remaining_time": 7.90460011,
                        "test": [
                          17.52936465
                        ]
                      },
                      {
                        "learn": [
                          16.9994897
                        ],
                        "iteration": 767,
                        "passed_time": 26.04114569,
                        "remaining_time": 7.866596095,
                        "test": [
                          17.52751836
                        ]
                      },
                      {
                        "learn": [
                          16.99561929
                        ],
                        "iteration": 768,
                        "passed_time": 26.06288812,
                        "remaining_time": 7.829034012,
                        "test": [
                          17.52434307
                        ]
                      },
                      {
                        "learn": [
                          16.99188483
                        ],
                        "iteration": 769,
                        "passed_time": 26.08520439,
                        "remaining_time": 7.791684429,
                        "test": [
                          17.52141832
                        ]
                      },
                      {
                        "learn": [
                          16.98981018
                        ],
                        "iteration": 770,
                        "passed_time": 26.11899486,
                        "remaining_time": 7.757781873,
                        "test": [
                          17.51970248
                        ]
                      },
                      {
                        "learn": [
                          16.98718855
                        ],
                        "iteration": 771,
                        "passed_time": 26.13924742,
                        "remaining_time": 7.719881364,
                        "test": [
                          17.51689185
                        ]
                      },
                      {
                        "learn": [
                          16.98472034
                        ],
                        "iteration": 772,
                        "passed_time": 26.15981453,
                        "remaining_time": 7.682118887,
                        "test": [
                          17.51492578
                        ]
                      },
                      {
                        "learn": [
                          16.98294733
                        ],
                        "iteration": 773,
                        "passed_time": 26.17847353,
                        "remaining_time": 7.643843691,
                        "test": [
                          17.51333563
                        ]
                      },
                      {
                        "learn": [
                          16.97972394
                        ],
                        "iteration": 774,
                        "passed_time": 26.19949552,
                        "remaining_time": 7.606305151,
                        "test": [
                          17.51018275
                        ]
                      },
                      {
                        "learn": [
                          16.97648815
                        ],
                        "iteration": 775,
                        "passed_time": 26.22102648,
                        "remaining_time": 7.568956097,
                        "test": [
                          17.50721351
                        ]
                      },
                      {
                        "learn": [
                          16.97517157
                        ],
                        "iteration": 776,
                        "passed_time": 26.23836562,
                        "remaining_time": 7.530444703,
                        "test": [
                          17.50581903
                        ]
                      },
                      {
                        "learn": [
                          16.97229507
                        ],
                        "iteration": 777,
                        "passed_time": 26.26023118,
                        "remaining_time": 7.493279334,
                        "test": [
                          17.50381387
                        ]
                      },
                      {
                        "learn": [
                          16.96877942
                        ],
                        "iteration": 778,
                        "passed_time": 26.28271878,
                        "remaining_time": 7.456329718,
                        "test": [
                          17.50068999
                        ]
                      },
                      {
                        "learn": [
                          16.9650921
                        ],
                        "iteration": 779,
                        "passed_time": 26.30745448,
                        "remaining_time": 7.420051263,
                        "test": [
                          17.49724478
                        ]
                      },
                      {
                        "learn": [
                          16.96340252
                        ],
                        "iteration": 780,
                        "passed_time": 26.32953741,
                        "remaining_time": 7.383058506,
                        "test": [
                          17.49626532
                        ]
                      },
                      {
                        "learn": [
                          16.96087041
                        ],
                        "iteration": 781,
                        "passed_time": 26.35476094,
                        "remaining_time": 7.346979393,
                        "test": [
                          17.4937596
                        ]
                      },
                      {
                        "learn": [
                          16.95783668
                        ],
                        "iteration": 782,
                        "passed_time": 26.38460195,
                        "remaining_time": 7.312207692,
                        "test": [
                          17.49158012
                        ]
                      },
                      {
                        "learn": [
                          16.95582422
                        ],
                        "iteration": 783,
                        "passed_time": 26.40814194,
                        "remaining_time": 7.275712574,
                        "test": [
                          17.49021012
                        ]
                      },
                      {
                        "learn": [
                          16.95237741
                        ],
                        "iteration": 784,
                        "passed_time": 26.42660709,
                        "remaining_time": 7.23786054,
                        "test": [
                          17.48687937
                        ]
                      },
                      {
                        "learn": [
                          16.95051474
                        ],
                        "iteration": 785,
                        "passed_time": 26.44396591,
                        "remaining_time": 7.199756622,
                        "test": [
                          17.48597509
                        ]
                      },
                      {
                        "learn": [
                          16.94801758
                        ],
                        "iteration": 786,
                        "passed_time": 26.46490468,
                        "remaining_time": 7.162674329,
                        "test": [
                          17.48374102
                        ]
                      },
                      {
                        "learn": [
                          16.94585421
                        ],
                        "iteration": 787,
                        "passed_time": 26.48358971,
                        "remaining_time": 7.125026674,
                        "test": [
                          17.4818084
                        ]
                      },
                      {
                        "learn": [
                          16.94369647
                        ],
                        "iteration": 788,
                        "passed_time": 26.50205428,
                        "remaining_time": 7.087368128,
                        "test": [
                          17.48002646
                        ]
                      },
                      {
                        "learn": [
                          16.941672
                        ],
                        "iteration": 789,
                        "passed_time": 26.52463643,
                        "remaining_time": 7.050852723,
                        "test": [
                          17.47860692
                        ]
                      },
                      {
                        "learn": [
                          16.93867763
                        ],
                        "iteration": 790,
                        "passed_time": 26.54780229,
                        "remaining_time": 7.014526775,
                        "test": [
                          17.47606291
                        ]
                      },
                      {
                        "learn": [
                          16.93576541
                        ],
                        "iteration": 791,
                        "passed_time": 26.56866276,
                        "remaining_time": 6.977628604,
                        "test": [
                          17.47401714
                        ]
                      },
                      {
                        "learn": [
                          16.93290731
                        ],
                        "iteration": 792,
                        "passed_time": 26.587485,
                        "remaining_time": 6.940238833,
                        "test": [
                          17.4716041
                        ]
                      },
                      {
                        "learn": [
                          16.93095759
                        ],
                        "iteration": 793,
                        "passed_time": 26.60529004,
                        "remaining_time": 6.902631926,
                        "test": [
                          17.47028334
                        ]
                      },
                      {
                        "learn": [
                          16.92756923
                        ],
                        "iteration": 794,
                        "passed_time": 26.64149066,
                        "remaining_time": 6.869818346,
                        "test": [
                          17.46714201
                        ]
                      },
                      {
                        "learn": [
                          16.92576808
                        ],
                        "iteration": 795,
                        "passed_time": 26.67645926,
                        "remaining_time": 6.836680515,
                        "test": [
                          17.46543229
                        ]
                      },
                      {
                        "learn": [
                          16.92320375
                        ],
                        "iteration": 796,
                        "passed_time": 26.69943231,
                        "remaining_time": 6.800482759,
                        "test": [
                          17.46301377
                        ]
                      },
                      {
                        "learn": [
                          16.91974143
                        ],
                        "iteration": 797,
                        "passed_time": 26.72172951,
                        "remaining_time": 6.764147068,
                        "test": [
                          17.4602248
                        ]
                      },
                      {
                        "learn": [
                          16.91684663
                        ],
                        "iteration": 798,
                        "passed_time": 26.74350094,
                        "remaining_time": 6.727714255,
                        "test": [
                          17.45747261
                        ]
                      },
                      {
                        "learn": [
                          16.91355743
                        ],
                        "iteration": 799,
                        "passed_time": 26.764648,
                        "remaining_time": 6.691162,
                        "test": [
                          17.45472787
                        ]
                      },
                      {
                        "learn": [
                          16.91072958
                        ],
                        "iteration": 800,
                        "passed_time": 26.78629648,
                        "remaining_time": 6.654772783,
                        "test": [
                          17.45191394
                        ]
                      },
                      {
                        "learn": [
                          16.90769352
                        ],
                        "iteration": 801,
                        "passed_time": 26.80715606,
                        "remaining_time": 6.61822556,
                        "test": [
                          17.44930873
                        ]
                      },
                      {
                        "learn": [
                          16.90477447
                        ],
                        "iteration": 802,
                        "passed_time": 26.82933502,
                        "remaining_time": 6.582041094,
                        "test": [
                          17.44677836
                        ]
                      },
                      {
                        "learn": [
                          16.90323712
                        ],
                        "iteration": 803,
                        "passed_time": 26.84968948,
                        "remaining_time": 6.545446689,
                        "test": [
                          17.44611275
                        ]
                      },
                      {
                        "learn": [
                          16.90038239
                        ],
                        "iteration": 804,
                        "passed_time": 26.87079682,
                        "remaining_time": 6.509075005,
                        "test": [
                          17.44396386
                        ]
                      },
                      {
                        "learn": [
                          16.89824177
                        ],
                        "iteration": 805,
                        "passed_time": 26.89121264,
                        "remaining_time": 6.472574755,
                        "test": [
                          17.44256145
                        ]
                      },
                      {
                        "learn": [
                          16.89704856
                        ],
                        "iteration": 806,
                        "passed_time": 26.90853866,
                        "remaining_time": 6.435375417,
                        "test": [
                          17.44160973
                        ]
                      },
                      {
                        "learn": [
                          16.89394418
                        ],
                        "iteration": 807,
                        "passed_time": 26.92839102,
                        "remaining_time": 6.398825588,
                        "test": [
                          17.43930331
                        ]
                      },
                      {
                        "learn": [
                          16.89174873
                        ],
                        "iteration": 808,
                        "passed_time": 26.94722363,
                        "remaining_time": 6.362076284,
                        "test": [
                          17.43733781
                        ]
                      },
                      {
                        "learn": [
                          16.89021018
                        ],
                        "iteration": 809,
                        "passed_time": 26.96473306,
                        "remaining_time": 6.325060841,
                        "test": [
                          17.43628903
                        ]
                      },
                      {
                        "learn": [
                          16.88937018
                        ],
                        "iteration": 810,
                        "passed_time": 26.98169464,
                        "remaining_time": 6.287965828,
                        "test": [
                          17.43612629
                        ]
                      },
                      {
                        "learn": [
                          16.88626735
                        ],
                        "iteration": 811,
                        "passed_time": 27.00673024,
                        "remaining_time": 6.25278976,
                        "test": [
                          17.4336191
                        ]
                      },
                      {
                        "learn": [
                          16.88344529
                        ],
                        "iteration": 812,
                        "passed_time": 27.02904015,
                        "remaining_time": 6.217011695,
                        "test": [
                          17.43120693
                        ]
                      },
                      {
                        "learn": [
                          16.88014514
                        ],
                        "iteration": 813,
                        "passed_time": 27.05102822,
                        "remaining_time": 6.181193181,
                        "test": [
                          17.42821635
                        ]
                      },
                      {
                        "learn": [
                          16.87804861
                        ],
                        "iteration": 814,
                        "passed_time": 27.06899843,
                        "remaining_time": 6.144496576,
                        "test": [
                          17.42624242
                        ]
                      },
                      {
                        "learn": [
                          16.87565406
                        ],
                        "iteration": 815,
                        "passed_time": 27.0864508,
                        "remaining_time": 6.107729101,
                        "test": [
                          17.42459325
                        ]
                      },
                      {
                        "learn": [
                          16.87392589
                        ],
                        "iteration": 816,
                        "passed_time": 27.1045125,
                        "remaining_time": 6.071145395,
                        "test": [
                          17.42331484
                        ]
                      },
                      {
                        "learn": [
                          16.87101064
                        ],
                        "iteration": 817,
                        "passed_time": 27.12475062,
                        "remaining_time": 6.035091214,
                        "test": [
                          17.42081872
                        ]
                      },
                      {
                        "learn": [
                          16.86758356
                        ],
                        "iteration": 818,
                        "passed_time": 27.14675945,
                        "remaining_time": 5.999466984,
                        "test": [
                          17.41803161
                        ]
                      },
                      {
                        "learn": [
                          16.86469982
                        ],
                        "iteration": 819,
                        "passed_time": 27.17022865,
                        "remaining_time": 5.964196532,
                        "test": [
                          17.41563235
                        ]
                      },
                      {
                        "learn": [
                          16.86247832
                        ],
                        "iteration": 820,
                        "passed_time": 27.1886441,
                        "remaining_time": 5.927852976,
                        "test": [
                          17.41413076
                        ]
                      },
                      {
                        "learn": [
                          16.859871
                        ],
                        "iteration": 821,
                        "passed_time": 27.20849054,
                        "remaining_time": 5.891862916,
                        "test": [
                          17.4116362
                        ]
                      },
                      {
                        "learn": [
                          16.85714314
                        ],
                        "iteration": 822,
                        "passed_time": 27.23097653,
                        "remaining_time": 5.856479764,
                        "test": [
                          17.40943638
                        ]
                      },
                      {
                        "learn": [
                          16.85458691
                        ],
                        "iteration": 823,
                        "passed_time": 27.25129041,
                        "remaining_time": 5.820663971,
                        "test": [
                          17.40691242
                        ]
                      },
                      {
                        "learn": [
                          16.85309838
                        ],
                        "iteration": 824,
                        "passed_time": 27.26948399,
                        "remaining_time": 5.784435998,
                        "test": [
                          17.40591207
                        ]
                      },
                      {
                        "learn": [
                          16.8505764
                        ],
                        "iteration": 825,
                        "passed_time": 27.29330594,
                        "remaining_time": 5.749437328,
                        "test": [
                          17.40389899
                        ]
                      },
                      {
                        "learn": [
                          16.84754656
                        ],
                        "iteration": 826,
                        "passed_time": 27.31749843,
                        "remaining_time": 5.714543203,
                        "test": [
                          17.40168023
                        ]
                      },
                      {
                        "learn": [
                          16.84494731
                        ],
                        "iteration": 827,
                        "passed_time": 27.33924438,
                        "remaining_time": 5.679166707,
                        "test": [
                          17.39957614
                        ]
                      },
                      {
                        "learn": [
                          16.84182146
                        ],
                        "iteration": 828,
                        "passed_time": 27.36161682,
                        "remaining_time": 5.643952323,
                        "test": [
                          17.39682083
                        ]
                      },
                      {
                        "learn": [
                          16.83993913
                        ],
                        "iteration": 829,
                        "passed_time": 27.38053145,
                        "remaining_time": 5.608060659,
                        "test": [
                          17.39531977
                        ]
                      },
                      {
                        "learn": [
                          16.83666832
                        ],
                        "iteration": 830,
                        "passed_time": 27.41608745,
                        "remaining_time": 5.575594198,
                        "test": [
                          17.39295116
                        ]
                      },
                      {
                        "learn": [
                          16.83461761
                        ],
                        "iteration": 831,
                        "passed_time": 27.443945,
                        "remaining_time": 5.541565817,
                        "test": [
                          17.39149217
                        ]
                      },
                      {
                        "learn": [
                          16.83203939
                        ],
                        "iteration": 832,
                        "passed_time": 27.46515123,
                        "remaining_time": 5.506218794,
                        "test": [
                          17.38944723
                        ]
                      },
                      {
                        "learn": [
                          16.8290025
                        ],
                        "iteration": 833,
                        "passed_time": 27.48623195,
                        "remaining_time": 5.470880699,
                        "test": [
                          17.38673489
                        ]
                      },
                      {
                        "learn": [
                          16.82653708
                        ],
                        "iteration": 834,
                        "passed_time": 27.5103384,
                        "remaining_time": 5.436174653,
                        "test": [
                          17.38455493
                        ]
                      },
                      {
                        "learn": [
                          16.82334539
                        ],
                        "iteration": 835,
                        "passed_time": 27.5327543,
                        "remaining_time": 5.401162327,
                        "test": [
                          17.38154841
                        ]
                      },
                      {
                        "learn": [
                          16.82072234
                        ],
                        "iteration": 836,
                        "passed_time": 27.55408416,
                        "remaining_time": 5.365968599,
                        "test": [
                          17.3790729
                        ]
                      },
                      {
                        "learn": [
                          16.81886441
                        ],
                        "iteration": 837,
                        "passed_time": 27.57484322,
                        "remaining_time": 5.330697616,
                        "test": [
                          17.37776381
                        ]
                      },
                      {
                        "learn": [
                          16.81601097
                        ],
                        "iteration": 838,
                        "passed_time": 27.59533978,
                        "remaining_time": 5.295410851,
                        "test": [
                          17.37628844
                        ]
                      },
                      {
                        "learn": [
                          16.81410717
                        ],
                        "iteration": 839,
                        "passed_time": 27.61542829,
                        "remaining_time": 5.26008158,
                        "test": [
                          17.37448201
                        ]
                      },
                      {
                        "learn": [
                          16.81251171
                        ],
                        "iteration": 840,
                        "passed_time": 27.632286,
                        "remaining_time": 5.224177733,
                        "test": [
                          17.37335316
                        ]
                      },
                      {
                        "learn": [
                          16.81011526
                        ],
                        "iteration": 841,
                        "passed_time": 27.65351999,
                        "remaining_time": 5.18914033,
                        "test": [
                          17.37152411
                        ]
                      },
                      {
                        "learn": [
                          16.80858337
                        ],
                        "iteration": 842,
                        "passed_time": 27.68786317,
                        "remaining_time": 5.156577126,
                        "test": [
                          17.37002303
                        ]
                      },
                      {
                        "learn": [
                          16.80572001
                        ],
                        "iteration": 843,
                        "passed_time": 27.73356438,
                        "remaining_time": 5.126109056,
                        "test": [
                          17.36771214
                        ]
                      },
                      {
                        "learn": [
                          16.80262256
                        ],
                        "iteration": 844,
                        "passed_time": 27.77861404,
                        "remaining_time": 5.095485416,
                        "test": [
                          17.36522531
                        ]
                      },
                      {
                        "learn": [
                          16.80111901
                        ],
                        "iteration": 845,
                        "passed_time": 27.8201312,
                        "remaining_time": 5.064184639,
                        "test": [
                          17.36401235
                        ]
                      },
                      {
                        "learn": [
                          16.79927975
                        ],
                        "iteration": 846,
                        "passed_time": 27.86861737,
                        "remaining_time": 5.034118604,
                        "test": [
                          17.36283171
                        ]
                      },
                      {
                        "learn": [
                          16.79644084
                        ],
                        "iteration": 847,
                        "passed_time": 27.92942718,
                        "remaining_time": 5.006218079,
                        "test": [
                          17.36074811
                        ]
                      },
                      {
                        "learn": [
                          16.79372502
                        ],
                        "iteration": 848,
                        "passed_time": 27.96180913,
                        "remaining_time": 4.973183956,
                        "test": [
                          17.35840718
                        ]
                      },
                      {
                        "learn": [
                          16.79058069
                        ],
                        "iteration": 849,
                        "passed_time": 27.99952549,
                        "remaining_time": 4.941092733,
                        "test": [
                          17.35543791
                        ]
                      },
                      {
                        "learn": [
                          16.78869784
                        ],
                        "iteration": 850,
                        "passed_time": 28.0410497,
                        "remaining_time": 4.909655001,
                        "test": [
                          17.35372943
                        ]
                      },
                      {
                        "learn": [
                          16.78689816
                        ],
                        "iteration": 851,
                        "passed_time": 28.09038379,
                        "remaining_time": 4.879550237,
                        "test": [
                          17.35231757
                        ]
                      },
                      {
                        "learn": [
                          16.78498734
                        ],
                        "iteration": 852,
                        "passed_time": 28.13231625,
                        "remaining_time": 4.848124841,
                        "test": [
                          17.35099277
                        ]
                      },
                      {
                        "learn": [
                          16.78289606
                        ],
                        "iteration": 853,
                        "passed_time": 28.18868286,
                        "remaining_time": 4.819142503,
                        "test": [
                          17.34958069
                        ]
                      },
                      {
                        "learn": [
                          16.78038438
                        ],
                        "iteration": 854,
                        "passed_time": 28.24917958,
                        "remaining_time": 4.790796537,
                        "test": [
                          17.3477376
                        ]
                      },
                      {
                        "learn": [
                          16.7779528
                        ],
                        "iteration": 855,
                        "passed_time": 28.30611409,
                        "remaining_time": 4.761776201,
                        "test": [
                          17.34688733
                        ]
                      },
                      {
                        "learn": [
                          16.77510805
                        ],
                        "iteration": 856,
                        "passed_time": 28.36515168,
                        "remaining_time": 4.733041646,
                        "test": [
                          17.34417337
                        ]
                      },
                      {
                        "learn": [
                          16.77263396
                        ],
                        "iteration": 857,
                        "passed_time": 28.42203001,
                        "remaining_time": 4.703879092,
                        "test": [
                          17.34185832
                        ]
                      },
                      {
                        "learn": [
                          16.76966607
                        ],
                        "iteration": 858,
                        "passed_time": 28.47324872,
                        "remaining_time": 4.673723015,
                        "test": [
                          17.33969074
                        ]
                      },
                      {
                        "learn": [
                          16.76702269
                        ],
                        "iteration": 859,
                        "passed_time": 28.51592343,
                        "remaining_time": 4.642127071,
                        "test": [
                          17.33793673
                        ]
                      },
                      {
                        "learn": [
                          16.76404859
                        ],
                        "iteration": 860,
                        "passed_time": 28.55560943,
                        "remaining_time": 4.610022893,
                        "test": [
                          17.33521849
                        ]
                      },
                      {
                        "learn": [
                          16.76150948
                        ],
                        "iteration": 861,
                        "passed_time": 28.6062849,
                        "remaining_time": 4.579660459,
                        "test": [
                          17.33287772
                        ]
                      },
                      {
                        "learn": [
                          16.7592825
                        ],
                        "iteration": 862,
                        "passed_time": 28.66762307,
                        "remaining_time": 4.550943639,
                        "test": [
                          17.33091313
                        ]
                      },
                      {
                        "learn": [
                          16.75712386
                        ],
                        "iteration": 863,
                        "passed_time": 28.73424066,
                        "remaining_time": 4.522982326,
                        "test": [
                          17.32862083
                        ]
                      },
                      {
                        "learn": [
                          16.75407115
                        ],
                        "iteration": 864,
                        "passed_time": 28.82583732,
                        "remaining_time": 4.498830101,
                        "test": [
                          17.32555771
                        ]
                      },
                      {
                        "learn": [
                          16.75224985
                        ],
                        "iteration": 865,
                        "passed_time": 28.88118139,
                        "remaining_time": 4.468912594,
                        "test": [
                          17.3240144
                        ]
                      },
                      {
                        "learn": [
                          16.75118354
                        ],
                        "iteration": 866,
                        "passed_time": 28.91492117,
                        "remaining_time": 4.435622278,
                        "test": [
                          17.32294865
                        ]
                      },
                      {
                        "learn": [
                          16.7488828
                        ],
                        "iteration": 867,
                        "passed_time": 28.96874983,
                        "remaining_time": 4.405385918,
                        "test": [
                          17.32099593
                        ]
                      },
                      {
                        "learn": [
                          16.74749832
                        ],
                        "iteration": 868,
                        "passed_time": 29.00591741,
                        "remaining_time": 4.372583637,
                        "test": [
                          17.32034642
                        ]
                      },
                      {
                        "learn": [
                          16.74477904
                        ],
                        "iteration": 869,
                        "passed_time": 29.06126555,
                        "remaining_time": 4.342487955,
                        "test": [
                          17.31820213
                        ]
                      },
                      {
                        "learn": [
                          16.74201003
                        ],
                        "iteration": 870,
                        "passed_time": 29.12903872,
                        "remaining_time": 4.314174506,
                        "test": [
                          17.31611605
                        ]
                      },
                      {
                        "learn": [
                          16.73984394
                        ],
                        "iteration": 871,
                        "passed_time": 29.1841465,
                        "remaining_time": 4.283911412,
                        "test": [
                          17.31418494
                        ]
                      },
                      {
                        "learn": [
                          16.73824662
                        ],
                        "iteration": 872,
                        "passed_time": 29.2209249,
                        "remaining_time": 4.250924928,
                        "test": [
                          17.31359148
                        ]
                      },
                      {
                        "learn": [
                          16.73558484
                        ],
                        "iteration": 873,
                        "passed_time": 29.25180478,
                        "remaining_time": 4.217079408,
                        "test": [
                          17.31143986
                        ]
                      },
                      {
                        "learn": [
                          16.73369356
                        ],
                        "iteration": 874,
                        "passed_time": 29.28531154,
                        "remaining_time": 4.183615935,
                        "test": [
                          17.30979708
                        ]
                      },
                      {
                        "learn": [
                          16.73208071
                        ],
                        "iteration": 875,
                        "passed_time": 29.31229002,
                        "remaining_time": 4.149228268,
                        "test": [
                          17.3082567
                        ]
                      },
                      {
                        "learn": [
                          16.7290847
                        ],
                        "iteration": 876,
                        "passed_time": 29.33871185,
                        "remaining_time": 4.114779427,
                        "test": [
                          17.30561975
                        ]
                      },
                      {
                        "learn": [
                          16.72609712
                        ],
                        "iteration": 877,
                        "passed_time": 29.38195365,
                        "remaining_time": 4.082686042,
                        "test": [
                          17.3030243
                        ]
                      },
                      {
                        "learn": [
                          16.72360308
                        ],
                        "iteration": 878,
                        "passed_time": 29.44296901,
                        "remaining_time": 4.053013936,
                        "test": [
                          17.30091544
                        ]
                      },
                      {
                        "learn": [
                          16.72190853
                        ],
                        "iteration": 879,
                        "passed_time": 29.50193831,
                        "remaining_time": 4.022991588,
                        "test": [
                          17.29922253
                        ]
                      },
                      {
                        "learn": [
                          16.72029381
                        ],
                        "iteration": 880,
                        "passed_time": 29.55728947,
                        "remaining_time": 3.99241481,
                        "test": [
                          17.29818199
                        ]
                      },
                      {
                        "learn": [
                          16.71726278
                        ],
                        "iteration": 881,
                        "passed_time": 29.62281305,
                        "remaining_time": 3.963142789,
                        "test": [
                          17.29572635
                        ]
                      },
                      {
                        "learn": [
                          16.71461711
                        ],
                        "iteration": 882,
                        "passed_time": 29.67998723,
                        "remaining_time": 3.93268234,
                        "test": [
                          17.29366647
                        ]
                      },
                      {
                        "learn": [
                          16.71209442
                        ],
                        "iteration": 883,
                        "passed_time": 29.73816504,
                        "remaining_time": 3.902293151,
                        "test": [
                          17.2918449
                        ]
                      },
                      {
                        "learn": [
                          16.70933422
                        ],
                        "iteration": 884,
                        "passed_time": 29.8008265,
                        "remaining_time": 3.872423783,
                        "test": [
                          17.28965008
                        ]
                      },
                      {
                        "learn": [
                          16.70710927
                        ],
                        "iteration": 885,
                        "passed_time": 29.85935713,
                        "remaining_time": 3.841948886,
                        "test": [
                          17.28835518
                        ]
                      },
                      {
                        "learn": [
                          16.7046932
                        ],
                        "iteration": 886,
                        "passed_time": 29.91224675,
                        "remaining_time": 3.810692089,
                        "test": [
                          17.28601964
                        ]
                      },
                      {
                        "learn": [
                          16.70205227
                        ],
                        "iteration": 887,
                        "passed_time": 29.95596422,
                        "remaining_time": 3.778229722,
                        "test": [
                          17.28377563
                        ]
                      },
                      {
                        "learn": [
                          16.69945658
                        ],
                        "iteration": 888,
                        "passed_time": 29.98507926,
                        "remaining_time": 3.743918783,
                        "test": [
                          17.28165718
                        ]
                      },
                      {
                        "learn": [
                          16.69701321
                        ],
                        "iteration": 889,
                        "passed_time": 30.01582081,
                        "remaining_time": 3.70982055,
                        "test": [
                          17.2794589
                        ]
                      },
                      {
                        "learn": [
                          16.69477164
                        ],
                        "iteration": 890,
                        "passed_time": 30.05514248,
                        "remaining_time": 3.676779496,
                        "test": [
                          17.27762353
                        ]
                      },
                      {
                        "learn": [
                          16.69275816
                        ],
                        "iteration": 891,
                        "passed_time": 30.10862714,
                        "remaining_time": 3.645439161,
                        "test": [
                          17.27593413
                        ]
                      },
                      {
                        "learn": [
                          16.69117506
                        ],
                        "iteration": 892,
                        "passed_time": 30.15838731,
                        "remaining_time": 3.613602959,
                        "test": [
                          17.27504342
                        ]
                      },
                      {
                        "learn": [
                          16.68995506
                        ],
                        "iteration": 893,
                        "passed_time": 30.20906732,
                        "remaining_time": 3.581835722,
                        "test": [
                          17.27428725
                        ]
                      },
                      {
                        "learn": [
                          16.6882189
                        ],
                        "iteration": 894,
                        "passed_time": 30.26235462,
                        "remaining_time": 3.550332106,
                        "test": [
                          17.27304113
                        ]
                      },
                      {
                        "learn": [
                          16.68688482
                        ],
                        "iteration": 895,
                        "passed_time": 30.31277794,
                        "remaining_time": 3.518447439,
                        "test": [
                          17.27177973
                        ]
                      },
                      {
                        "learn": [
                          16.68412943
                        ],
                        "iteration": 896,
                        "passed_time": 30.37003102,
                        "remaining_time": 3.48730568,
                        "test": [
                          17.26980674
                        ]
                      },
                      {
                        "learn": [
                          16.68165609
                        ],
                        "iteration": 897,
                        "passed_time": 30.42561965,
                        "remaining_time": 3.455916709,
                        "test": [
                          17.26776259
                        ]
                      },
                      {
                        "learn": [
                          16.6802518
                        ],
                        "iteration": 898,
                        "passed_time": 30.46215526,
                        "remaining_time": 3.42233335,
                        "test": [
                          17.26649501
                        ]
                      },
                      {
                        "learn": [
                          16.67726446
                        ],
                        "iteration": 899,
                        "passed_time": 30.51321596,
                        "remaining_time": 3.390357329,
                        "test": [
                          17.26430856
                        ]
                      },
                      {
                        "learn": [
                          16.67478261
                        ],
                        "iteration": 900,
                        "passed_time": 30.5743371,
                        "remaining_time": 3.359444365,
                        "test": [
                          17.26212617
                        ]
                      },
                      {
                        "learn": [
                          16.67281245
                        ],
                        "iteration": 901,
                        "passed_time": 30.64125353,
                        "remaining_time": 3.329094064,
                        "test": [
                          17.26149979
                        ]
                      },
                      {
                        "learn": [
                          16.6704709
                        ],
                        "iteration": 902,
                        "passed_time": 30.67762409,
                        "remaining_time": 3.295381547,
                        "test": [
                          17.2601586
                        ]
                      },
                      {
                        "learn": [
                          16.66806302
                        ],
                        "iteration": 903,
                        "passed_time": 30.70670583,
                        "remaining_time": 3.260889115,
                        "test": [
                          17.25834508
                        ]
                      },
                      {
                        "learn": [
                          16.66508776
                        ],
                        "iteration": 904,
                        "passed_time": 30.75051991,
                        "remaining_time": 3.227955129,
                        "test": [
                          17.25599678
                        ]
                      },
                      {
                        "learn": [
                          16.66397387
                        ],
                        "iteration": 905,
                        "passed_time": 30.8012633,
                        "remaining_time": 3.19571606,
                        "test": [
                          17.25532454
                        ]
                      },
                      {
                        "learn": [
                          16.66101137
                        ],
                        "iteration": 906,
                        "passed_time": 30.86492062,
                        "remaining_time": 3.164760328,
                        "test": [
                          17.25303452
                        ]
                      },
                      {
                        "learn": [
                          16.65979667
                        ],
                        "iteration": 907,
                        "passed_time": 30.92525359,
                        "remaining_time": 3.133395738,
                        "test": [
                          17.25252155
                        ]
                      },
                      {
                        "learn": [
                          16.65779322
                        ],
                        "iteration": 908,
                        "passed_time": 30.9955161,
                        "remaining_time": 3.102961457,
                        "test": [
                          17.25069274
                        ]
                      },
                      {
                        "learn": [
                          16.65568597
                        ],
                        "iteration": 909,
                        "passed_time": 31.03743855,
                        "remaining_time": 3.06963678,
                        "test": [
                          17.24917897
                        ]
                      },
                      {
                        "learn": [
                          16.65413537
                        ],
                        "iteration": 910,
                        "passed_time": 31.08665079,
                        "remaining_time": 3.037005401,
                        "test": [
                          17.24772086
                        ]
                      },
                      {
                        "learn": [
                          16.65279856
                        ],
                        "iteration": 911,
                        "passed_time": 31.12173715,
                        "remaining_time": 3.002974637,
                        "test": [
                          17.24645761
                        ]
                      },
                      {
                        "learn": [
                          16.65150218
                        ],
                        "iteration": 912,
                        "passed_time": 31.17935527,
                        "remaining_time": 2.971088618,
                        "test": [
                          17.24594952
                        ]
                      },
                      {
                        "learn": [
                          16.64971396
                        ],
                        "iteration": 913,
                        "passed_time": 31.23173248,
                        "remaining_time": 2.938653165,
                        "test": [
                          17.24430993
                        ]
                      },
                      {
                        "learn": [
                          16.64737817
                        ],
                        "iteration": 914,
                        "passed_time": 31.28728537,
                        "remaining_time": 2.906469133,
                        "test": [
                          17.24221346
                        ]
                      },
                      {
                        "learn": [
                          16.64482727
                        ],
                        "iteration": 915,
                        "passed_time": 31.31204712,
                        "remaining_time": 2.871410435,
                        "test": [
                          17.24017039
                        ]
                      },
                      {
                        "learn": [
                          16.64214154
                        ],
                        "iteration": 916,
                        "passed_time": 31.33400795,
                        "remaining_time": 2.836120676,
                        "test": [
                          17.23800307
                        ]
                      },
                      {
                        "learn": [
                          16.64037109
                        ],
                        "iteration": 917,
                        "passed_time": 31.35296811,
                        "remaining_time": 2.800591922,
                        "test": [
                          17.2370009
                        ]
                      },
                      {
                        "learn": [
                          16.63846748
                        ],
                        "iteration": 918,
                        "passed_time": 31.37518438,
                        "remaining_time": 2.765386218,
                        "test": [
                          17.23532564
                        ]
                      },
                      {
                        "learn": [
                          16.63702347
                        ],
                        "iteration": 919,
                        "passed_time": 31.39459477,
                        "remaining_time": 2.729964762,
                        "test": [
                          17.23401723
                        ]
                      },
                      {
                        "learn": [
                          16.6352089
                        ],
                        "iteration": 920,
                        "passed_time": 31.41546784,
                        "remaining_time": 2.694703539,
                        "test": [
                          17.23256438
                        ]
                      },
                      {
                        "learn": [
                          16.6326163
                        ],
                        "iteration": 921,
                        "passed_time": 31.43657188,
                        "remaining_time": 2.659493065,
                        "test": [
                          17.23015453
                        ]
                      },
                      {
                        "learn": [
                          16.62953246
                        ],
                        "iteration": 922,
                        "passed_time": 31.45887591,
                        "remaining_time": 2.624413266,
                        "test": [
                          17.22739824
                        ]
                      },
                      {
                        "learn": [
                          16.62666383
                        ],
                        "iteration": 923,
                        "passed_time": 31.48202322,
                        "remaining_time": 2.589430481,
                        "test": [
                          17.22510595
                        ]
                      },
                      {
                        "learn": [
                          16.62430525
                        ],
                        "iteration": 924,
                        "passed_time": 31.50191602,
                        "remaining_time": 2.554209407,
                        "test": [
                          17.22369952
                        ]
                      },
                      {
                        "learn": [
                          16.62202079
                        ],
                        "iteration": 925,
                        "passed_time": 31.52238557,
                        "remaining_time": 2.519067529,
                        "test": [
                          17.2217878
                        ]
                      },
                      {
                        "learn": [
                          16.61995939
                        ],
                        "iteration": 926,
                        "passed_time": 31.54126073,
                        "remaining_time": 2.483831751,
                        "test": [
                          17.22073024
                        ]
                      },
                      {
                        "learn": [
                          16.61812489
                        ],
                        "iteration": 927,
                        "passed_time": 31.56173298,
                        "remaining_time": 2.448755145,
                        "test": [
                          17.2195238
                        ]
                      },
                      {
                        "learn": [
                          16.61663775
                        ],
                        "iteration": 928,
                        "passed_time": 31.58057875,
                        "remaining_time": 2.413585674,
                        "test": [
                          17.21834705
                        ]
                      },
                      {
                        "learn": [
                          16.6151136
                        ],
                        "iteration": 929,
                        "passed_time": 31.59909484,
                        "remaining_time": 2.378426494,
                        "test": [
                          17.21694296
                        ]
                      },
                      {
                        "learn": [
                          16.61239898
                        ],
                        "iteration": 930,
                        "passed_time": 31.62690739,
                        "remaining_time": 2.343992062,
                        "test": [
                          17.21503703
                        ]
                      },
                      {
                        "learn": [
                          16.61013697
                        ],
                        "iteration": 931,
                        "passed_time": 31.66397615,
                        "remaining_time": 2.310247187,
                        "test": [
                          17.2132282
                        ]
                      },
                      {
                        "learn": [
                          16.60856481
                        ],
                        "iteration": 932,
                        "passed_time": 31.68873044,
                        "remaining_time": 2.275610868,
                        "test": [
                          17.21248893
                        ]
                      },
                      {
                        "learn": [
                          16.60605236
                        ],
                        "iteration": 933,
                        "passed_time": 31.70865003,
                        "remaining_time": 2.24065407,
                        "test": [
                          17.21047937
                        ]
                      },
                      {
                        "learn": [
                          16.60365999
                        ],
                        "iteration": 934,
                        "passed_time": 31.73027927,
                        "remaining_time": 2.205848292,
                        "test": [
                          17.20852841
                        ]
                      },
                      {
                        "learn": [
                          16.60153607
                        ],
                        "iteration": 935,
                        "passed_time": 31.75008534,
                        "remaining_time": 2.170946006,
                        "test": [
                          17.20701892
                        ]
                      },
                      {
                        "learn": [
                          16.5994021
                        ],
                        "iteration": 936,
                        "passed_time": 31.76894464,
                        "remaining_time": 2.136012286,
                        "test": [
                          17.20571126
                        ]
                      },
                      {
                        "learn": [
                          16.5981151
                        ],
                        "iteration": 937,
                        "passed_time": 31.78712929,
                        "remaining_time": 2.101068247,
                        "test": [
                          17.20499564
                        ]
                      },
                      {
                        "learn": [
                          16.59641302
                        ],
                        "iteration": 938,
                        "passed_time": 31.80590094,
                        "remaining_time": 2.066198038,
                        "test": [
                          17.20348439
                        ]
                      },
                      {
                        "learn": [
                          16.59485538
                        ],
                        "iteration": 939,
                        "passed_time": 31.8252109,
                        "remaining_time": 2.031396441,
                        "test": [
                          17.20240899
                        ]
                      },
                      {
                        "learn": [
                          16.59252166
                        ],
                        "iteration": 940,
                        "passed_time": 31.84677538,
                        "remaining_time": 1.996769126,
                        "test": [
                          17.20045494
                        ]
                      },
                      {
                        "learn": [
                          16.59022076
                        ],
                        "iteration": 941,
                        "passed_time": 31.86807786,
                        "remaining_time": 1.962153414,
                        "test": [
                          17.19869036
                        ]
                      },
                      {
                        "learn": [
                          16.58919377
                        ],
                        "iteration": 942,
                        "passed_time": 31.88518532,
                        "remaining_time": 1.927312368,
                        "test": [
                          17.19818668
                        ]
                      },
                      {
                        "learn": [
                          16.58837394
                        ],
                        "iteration": 943,
                        "passed_time": 31.90109701,
                        "remaining_time": 1.892437958,
                        "test": [
                          17.19739806
                        ]
                      },
                      {
                        "learn": [
                          16.58664824
                        ],
                        "iteration": 944,
                        "passed_time": 31.91977035,
                        "remaining_time": 1.857764412,
                        "test": [
                          17.19572839
                        ]
                      },
                      {
                        "learn": [
                          16.5847151
                        ],
                        "iteration": 945,
                        "passed_time": 31.93971206,
                        "remaining_time": 1.823197095,
                        "test": [
                          17.19452529
                        ]
                      },
                      {
                        "learn": [
                          16.58273575
                        ],
                        "iteration": 946,
                        "passed_time": 31.95978848,
                        "remaining_time": 1.788668204,
                        "test": [
                          17.19307346
                        ]
                      },
                      {
                        "learn": [
                          16.58178594
                        ],
                        "iteration": 947,
                        "passed_time": 31.99002329,
                        "remaining_time": 1.754727016,
                        "test": [
                          17.19210865
                        ]
                      },
                      {
                        "learn": [
                          16.5808896
                        ],
                        "iteration": 948,
                        "passed_time": 32.0133139,
                        "remaining_time": 1.720420452,
                        "test": [
                          17.19182073
                        ]
                      },
                      {
                        "learn": [
                          16.57904023
                        ],
                        "iteration": 949,
                        "passed_time": 32.04696615,
                        "remaining_time": 1.686682429,
                        "test": [
                          17.19010326
                        ]
                      },
                      {
                        "learn": [
                          16.57676763
                        ],
                        "iteration": 950,
                        "passed_time": 32.06678945,
                        "remaining_time": 1.652232054,
                        "test": [
                          17.18810199
                        ]
                      },
                      {
                        "learn": [
                          16.57510256
                        ],
                        "iteration": 951,
                        "passed_time": 32.0855308,
                        "remaining_time": 1.617757855,
                        "test": [
                          17.18676962
                        ]
                      },
                      {
                        "learn": [
                          16.57297046
                        ],
                        "iteration": 952,
                        "passed_time": 32.10760476,
                        "remaining_time": 1.583481032,
                        "test": [
                          17.18491999
                        ]
                      },
                      {
                        "learn": [
                          16.57051523
                        ],
                        "iteration": 953,
                        "passed_time": 32.12942493,
                        "remaining_time": 1.549217554,
                        "test": [
                          17.18262422
                        ]
                      },
                      {
                        "learn": [
                          16.56814036
                        ],
                        "iteration": 954,
                        "passed_time": 32.15978046,
                        "remaining_time": 1.515382326,
                        "test": [
                          17.18063881
                        ]
                      },
                      {
                        "learn": [
                          16.56673097
                        ],
                        "iteration": 955,
                        "passed_time": 32.18774014,
                        "remaining_time": 1.481444107,
                        "test": [
                          17.17975189
                        ]
                      },
                      {
                        "learn": [
                          16.56390956
                        ],
                        "iteration": 956,
                        "passed_time": 32.20916401,
                        "remaining_time": 1.447224715,
                        "test": [
                          17.17722911
                        ]
                      },
                      {
                        "learn": [
                          16.56160318
                        ],
                        "iteration": 957,
                        "passed_time": 32.22937974,
                        "remaining_time": 1.41297907,
                        "test": [
                          17.17498326
                        ]
                      },
                      {
                        "learn": [
                          16.55915985
                        ],
                        "iteration": 958,
                        "passed_time": 32.25052031,
                        "remaining_time": 1.378802224,
                        "test": [
                          17.17304865
                        ]
                      },
                      {
                        "learn": [
                          16.5568898
                        ],
                        "iteration": 959,
                        "passed_time": 32.27553986,
                        "remaining_time": 1.344814161,
                        "test": [
                          17.17135551
                        ]
                      },
                      {
                        "learn": [
                          16.55484219
                        ],
                        "iteration": 960,
                        "passed_time": 32.3000552,
                        "remaining_time": 1.3108243,
                        "test": [
                          17.16993885
                        ]
                      },
                      {
                        "learn": [
                          16.5526735
                        ],
                        "iteration": 961,
                        "passed_time": 32.32035548,
                        "remaining_time": 1.276687639,
                        "test": [
                          17.16805391
                        ]
                      },
                      {
                        "learn": [
                          16.55091991
                        ],
                        "iteration": 962,
                        "passed_time": 32.33862965,
                        "remaining_time": 1.242501866,
                        "test": [
                          17.16690639
                        ]
                      },
                      {
                        "learn": [
                          16.54864043
                        ],
                        "iteration": 963,
                        "passed_time": 32.35918584,
                        "remaining_time": 1.208434326,
                        "test": [
                          17.1651136
                        ]
                      },
                      {
                        "learn": [
                          16.54747715
                        ],
                        "iteration": 964,
                        "passed_time": 32.37619257,
                        "remaining_time": 1.174266052,
                        "test": [
                          17.16406712
                        ]
                      },
                      {
                        "learn": [
                          16.54540873
                        ],
                        "iteration": 965,
                        "passed_time": 32.39856632,
                        "remaining_time": 1.14032221,
                        "test": [
                          17.16230899
                        ]
                      },
                      {
                        "learn": [
                          16.54381229
                        ],
                        "iteration": 966,
                        "passed_time": 32.41870507,
                        "remaining_time": 1.106326026,
                        "test": [
                          17.16082821
                        ]
                      },
                      {
                        "learn": [
                          16.54230183
                        ],
                        "iteration": 967,
                        "passed_time": 32.43847647,
                        "remaining_time": 1.072346329,
                        "test": [
                          17.16004079
                        ]
                      },
                      {
                        "learn": [
                          16.54093558
                        ],
                        "iteration": 968,
                        "passed_time": 32.45742186,
                        "remaining_time": 1.038369533,
                        "test": [
                          17.15934294
                        ]
                      },
                      {
                        "learn": [
                          16.53887315
                        ],
                        "iteration": 969,
                        "passed_time": 32.477147,
                        "remaining_time": 1.004447845,
                        "test": [
                          17.15797555
                        ]
                      },
                      {
                        "learn": [
                          16.53668573
                        ],
                        "iteration": 970,
                        "passed_time": 32.49678091,
                        "remaining_time": 0.9705526739,
                        "test": [
                          17.15587363
                        ]
                      },
                      {
                        "learn": [
                          16.53466359
                        ],
                        "iteration": 971,
                        "passed_time": 32.51622673,
                        "remaining_time": 0.9366814286,
                        "test": [
                          17.15438428
                        ]
                      },
                      {
                        "learn": [
                          16.53183066
                        ],
                        "iteration": 972,
                        "passed_time": 32.53759377,
                        "remaining_time": 0.9028931468,
                        "test": [
                          17.15189348
                        ]
                      },
                      {
                        "learn": [
                          16.52950544
                        ],
                        "iteration": 973,
                        "passed_time": 32.55893914,
                        "remaining_time": 0.8691297922,
                        "test": [
                          17.1501086
                        ]
                      },
                      {
                        "learn": [
                          16.52768435
                        ],
                        "iteration": 974,
                        "passed_time": 32.57861777,
                        "remaining_time": 0.8353491737,
                        "test": [
                          17.14831114
                        ]
                      },
                      {
                        "learn": [
                          16.52643262
                        ],
                        "iteration": 975,
                        "passed_time": 32.59619226,
                        "remaining_time": 0.8015457112,
                        "test": [
                          17.1470617
                        ]
                      },
                      {
                        "learn": [
                          16.5245068
                        ],
                        "iteration": 976,
                        "passed_time": 32.61729648,
                        "remaining_time": 0.767858566,
                        "test": [
                          17.14589601
                        ]
                      },
                      {
                        "learn": [
                          16.52337208
                        ],
                        "iteration": 977,
                        "passed_time": 32.63542302,
                        "remaining_time": 0.7341301701,
                        "test": [
                          17.14503427
                        ]
                      },
                      {
                        "learn": [
                          16.52093142
                        ],
                        "iteration": 978,
                        "passed_time": 32.68126001,
                        "remaining_time": 0.7010280493,
                        "test": [
                          17.14259972
                        ]
                      },
                      {
                        "learn": [
                          16.51905945
                        ],
                        "iteration": 979,
                        "passed_time": 32.69969273,
                        "remaining_time": 0.6673406679,
                        "test": [
                          17.14098451
                        ]
                      },
                      {
                        "learn": [
                          16.51684292
                        ],
                        "iteration": 980,
                        "passed_time": 32.72063474,
                        "remaining_time": 0.6337329868,
                        "test": [
                          17.13931373
                        ]
                      },
                      {
                        "learn": [
                          16.51454056
                        ],
                        "iteration": 981,
                        "passed_time": 32.74204723,
                        "remaining_time": 0.6001597252,
                        "test": [
                          17.13738093
                        ]
                      },
                      {
                        "learn": [
                          16.51331584
                        ],
                        "iteration": 982,
                        "passed_time": 32.7610617,
                        "remaining_time": 0.5665697343,
                        "test": [
                          17.13703446
                        ]
                      },
                      {
                        "learn": [
                          16.51097817
                        ],
                        "iteration": 983,
                        "passed_time": 32.78227936,
                        "remaining_time": 0.5330451928,
                        "test": [
                          17.13501678
                        ]
                      },
                      {
                        "learn": [
                          16.50892637
                        ],
                        "iteration": 984,
                        "passed_time": 32.80127159,
                        "remaining_time": 0.4995117501,
                        "test": [
                          17.13323743
                        ]
                      },
                      {
                        "learn": [
                          16.50659489
                        ],
                        "iteration": 985,
                        "passed_time": 32.82288602,
                        "remaining_time": 0.4660450348,
                        "test": [
                          17.13162573
                        ]
                      },
                      {
                        "learn": [
                          16.50510376
                        ],
                        "iteration": 986,
                        "passed_time": 32.84311791,
                        "remaining_time": 0.4325841264,
                        "test": [
                          17.13021745
                        ]
                      },
                      {
                        "learn": [
                          16.50235968
                        ],
                        "iteration": 987,
                        "passed_time": 32.86503852,
                        "remaining_time": 0.3991705083,
                        "test": [
                          17.12822014
                        ]
                      },
                      {
                        "learn": [
                          16.49962803
                        ],
                        "iteration": 988,
                        "passed_time": 32.88752741,
                        "remaining_time": 0.3657864525,
                        "test": [
                          17.12584669
                        ]
                      },
                      {
                        "learn": [
                          16.49824915
                        ],
                        "iteration": 989,
                        "passed_time": 32.90654823,
                        "remaining_time": 0.332389376,
                        "test": [
                          17.12497591
                        ]
                      },
                      {
                        "learn": [
                          16.49690274
                        ],
                        "iteration": 990,
                        "passed_time": 32.92394514,
                        "remaining_time": 0.2990065654,
                        "test": [
                          17.1244686
                        ]
                      },
                      {
                        "learn": [
                          16.49548954
                        ],
                        "iteration": 991,
                        "passed_time": 32.94203346,
                        "remaining_time": 0.2656615602,
                        "test": [
                          17.12361673
                        ]
                      },
                      {
                        "learn": [
                          16.49291287
                        ],
                        "iteration": 992,
                        "passed_time": 32.96345599,
                        "remaining_time": 0.2323707874,
                        "test": [
                          17.1212923
                        ]
                      },
                      {
                        "learn": [
                          16.49153268
                        ],
                        "iteration": 993,
                        "passed_time": 32.98225649,
                        "remaining_time": 0.1990880673,
                        "test": [
                          17.12005257
                        ]
                      },
                      {
                        "learn": [
                          16.48915098
                        ],
                        "iteration": 994,
                        "passed_time": 33.0042946,
                        "remaining_time": 0.1658507266,
                        "test": [
                          17.11804457
                        ]
                      },
                      {
                        "learn": [
                          16.48755288
                        ],
                        "iteration": 995,
                        "passed_time": 33.03808926,
                        "remaining_time": 0.1326830894,
                        "test": [
                          17.11751004
                        ]
                      },
                      {
                        "learn": [
                          16.48478617
                        ],
                        "iteration": 996,
                        "passed_time": 33.06707885,
                        "remaining_time": 0.09949973576,
                        "test": [
                          17.11541776
                        ]
                      },
                      {
                        "learn": [
                          16.48354938
                        ],
                        "iteration": 997,
                        "passed_time": 33.10504891,
                        "remaining_time": 0.06634278338,
                        "test": [
                          17.11472538
                        ]
                      },
                      {
                        "learn": [
                          16.48205843
                        ],
                        "iteration": 998,
                        "passed_time": 33.12436085,
                        "remaining_time": 0.03315751836,
                        "test": [
                          17.11374886
                        ]
                      },
                      {
                        "learn": [
                          16.48047329
                        ],
                        "iteration": 999,
                        "passed_time": 33.14572537,
                        "remaining_time": 0,
                        "test": [
                          17.11276789
                        ]
                      }
                    ],
                    "meta": {
                      "test_sets": [
                        "test"
                      ],
                      "test_metrics": [
                        {
                          "best_value": "Min",
                          "name": "MultiRMSE"
                        }
                      ],
                      "learn_metrics": [
                        {
                          "best_value": "Min",
                          "name": "MultiRMSE"
                        }
                      ],
                      "launch_mode": "Train",
                      "parameters": "",
                      "iteration_count": 1000,
                      "learn_sets": [
                        "learn"
                      ],
                      "name": "experiment"
                    }
                  }
                }
              }
            },
            "layout": "IPY_MODEL_ee517e6ec8084a019f17fd2542607901"
          }
        }
      }
    }
  },
  "nbformat": 4,
  "nbformat_minor": 5
}